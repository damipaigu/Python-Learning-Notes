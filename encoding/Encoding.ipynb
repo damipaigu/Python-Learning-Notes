{
 "cells": [
  {
   "cell_type": "code",
   "execution_count": 20,
   "metadata": {},
   "outputs": [
    {
     "ename": "UnicodeDecodeError",
     "evalue": "'gbk' codec can't decode byte 0xa7 in position 10: illegal multibyte sequence",
     "output_type": "error",
     "traceback": [
      "\u001b[1;31m---------------------------------------------------------------------------\u001b[0m",
      "\u001b[1;31mUnicodeDecodeError\u001b[0m                        Traceback (most recent call last)",
      "\u001b[1;32m<ipython-input-20-02fd76478347>\u001b[0m in \u001b[0;36m<module>\u001b[1;34m()\u001b[0m\n\u001b[0;32m      1\u001b[0m \u001b[1;32mwith\u001b[0m \u001b[0mopen\u001b[0m\u001b[1;33m(\u001b[0m\u001b[1;34m'魔兽世界绿色客户端使用说明.txt'\u001b[0m\u001b[1;33m,\u001b[0m \u001b[0mencoding\u001b[0m\u001b[1;33m=\u001b[0m\u001b[1;34m'gbk'\u001b[0m\u001b[1;33m)\u001b[0m \u001b[1;32mas\u001b[0m \u001b[0mf\u001b[0m\u001b[1;33m:\u001b[0m\u001b[1;33m\u001b[0m\u001b[0m\n\u001b[1;32m----> 2\u001b[1;33m     \u001b[0mf\u001b[0m\u001b[1;33m.\u001b[0m\u001b[0mread\u001b[0m\u001b[1;33m(\u001b[0m\u001b[1;33m)\u001b[0m\u001b[1;33m\u001b[0m\u001b[0m\n\u001b[0m",
      "\u001b[1;31mUnicodeDecodeError\u001b[0m: 'gbk' codec can't decode byte 0xa7 in position 10: illegal multibyte sequence"
     ]
    }
   ],
   "source": [
    "with open('魔兽世界绿色客户端使用说明.txt', encoding='gbk') as f:\n",
    "    f.read()"
   ]
  },
  {
   "cell_type": "code",
   "execution_count": 21,
   "metadata": {},
   "outputs": [
    {
     "ename": "UnicodeDecodeError",
     "evalue": "'gb2312' codec can't decode byte 0x8d in position 6: illegal multibyte sequence",
     "output_type": "error",
     "traceback": [
      "\u001b[1;31m---------------------------------------------------------------------------\u001b[0m",
      "\u001b[1;31mUnicodeDecodeError\u001b[0m                        Traceback (most recent call last)",
      "\u001b[1;32m<ipython-input-21-d10d2a18e5d7>\u001b[0m in \u001b[0;36m<module>\u001b[1;34m()\u001b[0m\n\u001b[0;32m      1\u001b[0m \u001b[1;32mwith\u001b[0m \u001b[0mopen\u001b[0m\u001b[1;33m(\u001b[0m\u001b[1;34m'魔兽世界绿色客户端使用说明.txt'\u001b[0m\u001b[1;33m,\u001b[0m \u001b[0mencoding\u001b[0m\u001b[1;33m=\u001b[0m\u001b[1;34m'gb2312'\u001b[0m\u001b[1;33m)\u001b[0m \u001b[1;32mas\u001b[0m \u001b[0mf\u001b[0m\u001b[1;33m:\u001b[0m\u001b[1;33m\u001b[0m\u001b[0m\n\u001b[1;32m----> 2\u001b[1;33m     \u001b[0mf\u001b[0m\u001b[1;33m.\u001b[0m\u001b[0mread\u001b[0m\u001b[1;33m(\u001b[0m\u001b[1;33m)\u001b[0m\u001b[1;33m\u001b[0m\u001b[0m\n\u001b[0m",
      "\u001b[1;31mUnicodeDecodeError\u001b[0m: 'gb2312' codec can't decode byte 0x8d in position 6: illegal multibyte sequence"
     ]
    }
   ],
   "source": [
    "with open('魔兽世界绿色客户端使用说明.txt', encoding='gb2312') as f:\n",
    "    f.read()"
   ]
  },
  {
   "cell_type": "code",
   "execution_count": 23,
   "metadata": {},
   "outputs": [
    {
     "ename": "UnicodeDecodeError",
     "evalue": "'gb2312' codec can't decode byte 0x8d in position 6: illegal multibyte sequence",
     "output_type": "error",
     "traceback": [
      "\u001b[1;31m---------------------------------------------------------------------------\u001b[0m",
      "\u001b[1;31mUnicodeDecodeError\u001b[0m                        Traceback (most recent call last)",
      "\u001b[1;32m<ipython-input-23-0666fb420591>\u001b[0m in \u001b[0;36m<module>\u001b[1;34m()\u001b[0m\n\u001b[0;32m      1\u001b[0m \u001b[1;32mwith\u001b[0m \u001b[0mopen\u001b[0m\u001b[1;33m(\u001b[0m\u001b[1;34m'魔兽世界绿色客户端使用说明.txt'\u001b[0m\u001b[1;33m,\u001b[0m \u001b[0mencoding\u001b[0m\u001b[1;33m=\u001b[0m\u001b[1;34m'gb2312'\u001b[0m\u001b[1;33m)\u001b[0m \u001b[1;32mas\u001b[0m \u001b[0mf\u001b[0m\u001b[1;33m:\u001b[0m\u001b[1;33m\u001b[0m\u001b[0m\n\u001b[1;32m----> 2\u001b[1;33m     \u001b[0mprint\u001b[0m\u001b[1;33m(\u001b[0m\u001b[0mf\u001b[0m\u001b[1;33m.\u001b[0m\u001b[0mread\u001b[0m\u001b[1;33m(\u001b[0m\u001b[1;33m)\u001b[0m\u001b[1;33m)\u001b[0m\u001b[1;33m\u001b[0m\u001b[0m\n\u001b[0m",
      "\u001b[1;31mUnicodeDecodeError\u001b[0m: 'gb2312' codec can't decode byte 0x8d in position 6: illegal multibyte sequence"
     ]
    }
   ],
   "source": [
    "with open('魔兽世界绿色客户端使用说明.txt', encoding='gb2312') as f:\n",
    "    print(f.read())"
   ]
  },
  {
   "cell_type": "code",
   "execution_count": 24,
   "metadata": {},
   "outputs": [
    {
     "name": "stdout",
     "output_type": "stream",
     "text": [
      "b'\\xef\\xbb\\xbf\\xc2\\xbf\\xc3\\x8d\\xc2\\xbb\\xc2\\xa7\\xc2\\xb6\\xc3\\x8b\\xc3\\x8a\\xc2\\xb9\\xc3\\x93\\xc3\\x83\\xc3\\x8b\\xc2\\xb5\\xc3\\x83\\xc3\\xb7\\xc2\\xa3\\xc2\\xba\\r\\n\\r\\n1\\xc2\\xa1\\xc2\\xa2\\xc2\\xb1\\xc2\\xbe\\xc2\\xbf\\xc3\\x8d\\xc2\\xbb\\xc2\\xa7\\xc2\\xb6\\xc3\\x8b\\xc3\\x8e\\xc2\\xaa\\xc3\\x83\\xc3\\xa2\\xc2\\xb0\\xc2\\xb2\\xc3\\x97\\xc2\\xb0\\xc3\\x82\\xc3\\x8c\\xc3\\x89\\xc2\\xab\\xc2\\xbf\\xc3\\x8d\\xc2\\xbb\\xc2\\xa7\\xc2\\xb6\\xc3\\x8b\\xc2\\xa3\\xc2\\xac\\xc2\\xb0\\xc3\\xbc\\xc2\\xba\\xc2\\xac\\xc3\\x95\\xc2\\xbd\\xc3\\x8d\\xc3\\xb8\\xc2\\xbf\\xc3\\x8d\\xc2\\xbb\\xc2\\xa7\\xc2\\xb6\\xc3\\x8b\\xc2\\xba\\xc3\\x8d\\xc3\\x93\\xc3\\x8e\\xc3\\x8f\\xc2\\xb7\\xc2\\xbf\\xc3\\x8d\\xc2\\xbb\\xc2\\xa7\\xc2\\xb6\\xc3\\x8b\\xc2\\xa3\\xc2\\xa8\\xc2\\xbd\\xc2\\xa8\\xc3\\x92\\xc3\\xa9\\xc3\\x84\\xc3\\xba\\xc3\\x94\\xc2\\xa4\\xc3\\x81\\xc3\\xb460G\\xc3\\x92\\xc3\\x94\\xc3\\x89\\xc3\\x8f\\xc2\\xbf\\xc3\\x95\\xc2\\xbc\\xc3\\xa4\\xc2\\xa3\\xc2\\xa9\\xc2\\xa3\\xc2\\xbb\\r\\n\\r\\n2\\xc2\\xa1\\xc2\\xa2\\xc3\\x96\\xc3\\x98\\xc3\\x92\\xc2\\xaa\\xc2\\xa3\\xc2\\xba\\xc3\\x8a\\xc3\\x97\\xc2\\xb4\\xc3\\x8e\\xc3\\x93\\xc3\\x8e\\xc3\\x8f\\xc2\\xb7\\xc3\\x87\\xc3\\xab\\xc3\\x8a\\xc3\\x97\\xc3\\x8f\\xc3\\x88\\xc3\\x94\\xc3\\x8b\\xc3\\x90\\xc3\\x90Battle.net\\xc3\\x8e\\xc3\\x84\\xc2\\xbc\\xc3\\xbe\\xc2\\xbc\\xc3\\x90\\xc3\\x84\\xc3\\x9aBattle.net Launhcer.exe\\xc3\\x8e\\xc3\\x84\\xc2\\xbc\\xc3\\xbe\\xc2\\xbd\\xc3\\xb8\\xc3\\x88\\xc3\\xab\\xc3\\x95\\xc2\\xbd\\xc3\\x8d\\xc3\\xb8\\xc2\\xbf\\xc3\\x8d\\xc2\\xbb\\xc2\\xa7\\xc2\\xb6\\xc3\\x8b\\xc2\\xbd\\xc3\\xa7\\xc3\\x83\\xc3\\xa6\\xc2\\xa3\\xc2\\xbb\\r\\n\\r\\n3\\xc2\\xa1\\xc2\\xa2\\xc3\\x88\\xc3\\xb4\\xc3\\x84\\xc3\\xba\\xc2\\xbb\\xc2\\xb9\\xc3\\x83\\xc2\\xbb\\xc3\\x93\\xc3\\x90\\xc3\\x95\\xc3\\x8b\\xc2\\xba\\xc3\\x85\\xc2\\xa3\\xc2\\xac\\xc2\\xbf\\xc3\\x89\\xc3\\x92\\xc3\\x94\\xc3\\x87\\xc2\\xb0\\xc3\\x8d\\xc3\\xb9\\xc3\\x95\\xc2\\xbd\\xc3\\x8d\\xc3\\xb8\\xc3\\x97\\xc2\\xa2\\xc2\\xb2\\xc3\\xa1 https://www.battlenet.com.cn/account/creation/tos.html \\xc2\\xa3\\xc2\\xbb\\r\\n\\r\\n4\\xc2\\xa1\\xc2\\xa2\\xc3\\x88\\xc3\\xb4\\xc2\\xbf\\xc3\\x8d\\xc2\\xbb\\xc2\\xa7\\xc2\\xb6\\xc3\\x8b\\xc3\\x90\\xc3\\xa8\\xc3\\x92\\xc2\\xaa\\xc2\\xb8\\xc3\\xbc\\xc3\\x90\\xc3\\x82\\xc2\\xa3\\xc2\\xac\\xc3\\x94\\xc3\\x8b\\xc3\\x90\\xc3\\x90Battle.net Launcher.exe\\xc2\\xbd\\xc3\\xb8\\xc3\\x88\\xc3\\xab\\xc3\\x95\\xc2\\xbd\\xc3\\x8d\\xc3\\xb8\\xc2\\xbf\\xc3\\x8d\\xc2\\xbb\\xc2\\xa7\\xc2\\xb6\\xc3\\x8b\\xc2\\xba\\xc3\\xb3\\xc2\\xbd\\xc2\\xab\\xc3\\x97\\xc3\\x94\\xc2\\xb6\\xc2\\xaf\\xc2\\xbd\\xc3\\xb8\\xc3\\x90\\xc3\\x90\\xc2\\xb8\\xc3\\xbc\\xc3\\x90\\xc3\\x82\\xc2\\xa1\\xc2\\xa3\\r\\n\\r\\n\\xc3\\x97\\xc2\\xa2\\xc2\\xa3\\xc2\\xba\\xc2\\xbf\\xc3\\x89\\xc3\\x84\\xc3\\x9c\\xc2\\xb4\\xc3\\xa6\\xc3\\x94\\xc3\\x9a\\xc3\\x89\\xc3\\x99\\xc3\\x81\\xc2\\xbf\\xc3\\x84\\xc3\\x9a\\xc3\\x88\\xc3\\x9d\\xc2\\xbb\\xc3\\xa1\\xc3\\x94\\xc3\\x9a\\xc3\\x93\\xc3\\x8e\\xc3\\x8f\\xc2\\xb7\\xc2\\xb9\\xc3\\xbd\\xc2\\xb3\\xc3\\x8c\\xc3\\x96\\xc3\\x90\\xc3\\x8f\\xc3\\x82\\xc3\\x94\\xc3\\x98\\xc2\\xa3\\xc2\\xac\\xc3\\x87\\xc3\\xab\\xc3\\x88\\xc2\\xb7\\xc2\\xb1\\xc2\\xa3\\xc3\\x8d\\xc3\\xb8\\xc3\\x82\\xc3\\xa7\\xc3\\x8d\\xc2\\xa8\\xc2\\xb3\\xc2\\xa9\\xc2\\xa1\\xc2\\xa3'\n"
     ]
    }
   ],
   "source": [
    "with open('魔兽世界绿色客户端使用说明.txt', 'rb') as f:\n",
    "    print(f.read())"
   ]
  },
  {
   "cell_type": "code",
   "execution_count": 36,
   "metadata": {},
   "outputs": [
    {
     "name": "stdout",
     "output_type": "stream",
     "text": [
      "{'encoding': 'UTF-8-SIG', 'confidence': 1.0, 'language': ''}\n"
     ]
    }
   ],
   "source": [
    "# Universal Encoding Detector Library\n",
    "import chardet\n",
    "with open('魔兽世界绿色客户端使用说明.txt', 'rb') as f:\n",
    "    text = f.read()\n",
    "    print(chardet.detect(text))"
   ]
  },
  {
   "cell_type": "code",
   "execution_count": 37,
   "metadata": {},
   "outputs": [
    {
     "name": "stdout",
     "output_type": "stream",
     "text": [
      "¿Í»§¶ËÊ¹ÓÃËµÃ÷£º\n",
      "\n",
      "1¡¢±¾¿Í»§¶ËÎªÃâ°²×°ÂÌÉ«¿Í»§¶Ë£¬°üº¬Õ½Íø¿Í»§¶ËºÍÓÎÏ·¿Í»§¶Ë£¨½¨ÒéÄúÔ¤Áô60GÒÔÉÏ¿Õ¼ä£©£»\n",
      "\n",
      "2¡¢ÖØÒª£ºÊ×´ÎÓÎÏ·ÇëÊ×ÏÈÔËÐÐBattle.netÎÄ¼þ¼ÐÄÚBattle.net Launhcer.exeÎÄ¼þ½øÈëÕ½Íø¿Í»§¶Ë½çÃæ£»\n",
      "\n",
      "3¡¢ÈôÄú»¹Ã»ÓÐÕËºÅ£¬¿ÉÒÔÇ°ÍùÕ½Íø×¢²á https://www.battlenet.com.cn/account/creation/tos.html £»\n",
      "\n",
      "4¡¢Èô¿Í»§¶ËÐèÒª¸üÐÂ£¬ÔËÐÐBattle.net Launcher.exe½øÈëÕ½Íø¿Í»§¶Ëºó½«×Ô¶¯½øÐÐ¸üÐÂ¡£\n",
      "\n",
      "×¢£º¿ÉÄÜ´æÔÚÉÙÁ¿ÄÚÈÝ»áÔÚÓÎÏ·¹ý³ÌÖÐÏÂÔØ£¬ÇëÈ·±£ÍøÂçÍ¨³©¡£\n"
     ]
    }
   ],
   "source": [
    "with open('魔兽世界绿色客户端使用说明.txt', encoding='utf-8-sig') as f:\n",
    "    print(f.read())"
   ]
  },
  {
   "cell_type": "code",
   "execution_count": null,
   "metadata": {},
   "outputs": [],
   "source": []
  }
 ],
 "metadata": {
  "kernelspec": {
   "display_name": "Python 3",
   "language": "python",
   "name": "python3"
  },
  "language_info": {
   "codemirror_mode": {
    "name": "ipython",
    "version": 3
   },
   "file_extension": ".py",
   "mimetype": "text/x-python",
   "name": "python",
   "nbconvert_exporter": "python",
   "pygments_lexer": "ipython3",
   "version": "3.6.5"
  }
 },
 "nbformat": 4,
 "nbformat_minor": 2
}
