{
 "cells": [
  {
   "cell_type": "markdown",
   "metadata": {},
   "source": [
    "# Feibonacci numbers:\n",
    "Feibonacci numbers are a integer number series. The first two numbers in the series are both 1. The following numbers are defined as the sum of the two preceding numbers."
   ]
  },
  {
   "cell_type": "code",
   "execution_count": 2,
   "metadata": {},
   "outputs": [
    {
     "name": "stdout",
     "output_type": "stream",
     "text": [
      "1, 1, 2, 3, 5, 8, 13, 21, 34, 55, 89, 144, 233, 377, 610, "
     ]
    }
   ],
   "source": [
    "n = 15 # I want to see the Nth Feibonacci number\n",
    "a, b = 0, 1 # initial setup\n",
    "for i in range(n):\n",
    "    print(b, end=', ')\n",
    "    a, b = b, a+b\n",
    "    i += 1"
   ]
  },
  {
   "cell_type": "markdown",
   "metadata": {},
   "source": [
    "Features in the above example:\n",
    "* multiple assignment on line 2 and 5"
   ]
  },
  {
   "cell_type": "markdown",
   "metadata": {},
   "source": [
    "# Prime Number:\n",
    "质数，只能被1和它本身整除的整数。"
   ]
  },
  {
   "cell_type": "code",
   "execution_count": 3,
   "metadata": {},
   "outputs": [
    {
     "name": "stdout",
     "output_type": "stream",
     "text": [
      "2 is a prime number\n",
      "3 is a prime number\n",
      "4 equals 2 * 2\n",
      "5 is a prime number\n",
      "6 equals 2 * 3\n",
      "7 is a prime number\n",
      "8 equals 2 * 4\n",
      "9 equals 3 * 3\n",
      "10 equals 2 * 5\n",
      "11 is a prime number\n",
      "12 equals 2 * 6\n",
      "13 is a prime number\n",
      "14 equals 2 * 7\n",
      "15 equals 3 * 5\n",
      "16 equals 2 * 8\n",
      "17 is a prime number\n",
      "18 equals 2 * 9\n",
      "19 is a prime number\n"
     ]
    }
   ],
   "source": [
    "m = 20  # want to find all the prime number under m (exclusive)\n",
    "for n in range(2, m):\n",
    "    for i in range(2, n):\n",
    "        if n % i == 0:\n",
    "            print(f\"{n} equals {i} * {n // i}\")\n",
    "            break\n",
    "    else:\n",
    "        print(f'{n} is a prime number')"
   ]
  },
  {
   "cell_type": "markdown",
   "metadata": {},
   "source": [
    "# Even / Odd Number:\n",
    "偶数/奇数"
   ]
  },
  {
   "cell_type": "code",
   "execution_count": 4,
   "metadata": {},
   "outputs": [
    {
     "name": "stdout",
     "output_type": "stream",
     "text": [
      "2 is an even number.\n",
      "3 is a odd number.\n",
      "4 is an even number.\n",
      "5 is a odd number.\n",
      "6 is an even number.\n",
      "7 is a odd number.\n",
      "8 is an even number.\n",
      "9 is a odd number.\n",
      "10 is an even number.\n",
      "11 is a odd number.\n",
      "12 is an even number.\n",
      "13 is a odd number.\n",
      "14 is an even number.\n",
      "15 is a odd number.\n",
      "16 is an even number.\n",
      "17 is a odd number.\n",
      "18 is an even number.\n",
      "19 is a odd number.\n"
     ]
    }
   ],
   "source": [
    "m = 20 # find all even and odd number under m (exclusive)\n",
    "for n in range(2, m):\n",
    "    if n % 2 == 0:\n",
    "        print(f'{n} is an even number.')\n",
    "    else:\n",
    "        print(f'{n} is a odd number.')"
   ]
  },
  {
   "cell_type": "markdown",
   "metadata": {},
   "source": [
    "# Matrix Transpose"
   ]
  },
  {
   "cell_type": "code",
   "execution_count": 5,
   "metadata": {},
   "outputs": [
    {
     "data": {
      "text/plain": [
       "[[1, 2, 3, 4], [5, 6, 7, 8], [9, 10, 11, 12]]"
      ]
     },
     "execution_count": 5,
     "metadata": {},
     "output_type": "execute_result"
    }
   ],
   "source": [
    "matrix = matrix = [\n",
    "    [1, 2, 3, 4],\n",
    "    [5, 6, 7, 8],\n",
    "    [9, 10, 11, 12],\n",
    "]\n",
    "matrix"
   ]
  },
  {
   "cell_type": "code",
   "execution_count": 6,
   "metadata": {},
   "outputs": [
    {
     "data": {
      "text/plain": [
       "[[1, 5, 9], [2, 6, 10], [3, 7, 11], [4, 8, 12]]"
      ]
     },
     "execution_count": 6,
     "metadata": {},
     "output_type": "execute_result"
    }
   ],
   "source": [
    "[[row[i] for row in matrix] for i in range(4)]"
   ]
  },
  {
   "cell_type": "markdown",
   "metadata": {},
   "source": [
    "The easiest way to do matrix transpose is by the built-in function zip()"
   ]
  },
  {
   "cell_type": "code",
   "execution_count": 7,
   "metadata": {},
   "outputs": [
    {
     "data": {
      "text/plain": [
       "[(1, 5, 9), (2, 6, 10), (3, 7, 11), (4, 8, 12)]"
      ]
     },
     "execution_count": 7,
     "metadata": {},
     "output_type": "execute_result"
    }
   ],
   "source": [
    "list(zip(*matrix))"
   ]
  },
  {
   "cell_type": "markdown",
   "metadata": {},
   "source": [
    "# 汉诺塔：\n",
    "去看https://blog.csdn.net/hikobe8/ariticle/details/50479669"
   ]
  },
  {
   "cell_type": "code",
   "execution_count": 8,
   "metadata": {},
   "outputs": [
    {
     "name": "stdout",
     "output_type": "stream",
     "text": [
      "a -> c\n",
      "a -> b\n",
      "c -> b\n",
      "a -> c\n",
      "b -> a\n",
      "b -> c\n",
      "a -> c\n"
     ]
    }
   ],
   "source": [
    "def move(n, a, buffer, c):\n",
    "    if(n == 1):\n",
    "        print(a, \"->\", c)\n",
    "        return\n",
    "    move(n-1, a, c, buffer)\n",
    "    move(1, a, buffer, c)\n",
    "    move(n-1, buffer, a, c)\n",
    "    \n",
    "move(3, 'a', 'b', 'c')"
   ]
  },
  {
   "cell_type": "markdown",
   "metadata": {},
   "source": [
    "# 判断一个对象所属的类型"
   ]
  },
  {
   "cell_type": "markdown",
   "metadata": {},
   "source": [
    "## 是否为可迭代（Iterable）对象："
   ]
  },
  {
   "cell_type": "code",
   "execution_count": 9,
   "metadata": {},
   "outputs": [
    {
     "data": {
      "text/plain": [
       "False"
      ]
     },
     "execution_count": 9,
     "metadata": {},
     "output_type": "execute_result"
    }
   ],
   "source": [
    "a = 123\n",
    "b = list(range(5))\n",
    "c = '123'\n",
    "from collections import Iterable\n",
    "isinstance(a, Iterable)"
   ]
  },
  {
   "cell_type": "code",
   "execution_count": 10,
   "metadata": {},
   "outputs": [
    {
     "data": {
      "text/plain": [
       "True"
      ]
     },
     "execution_count": 10,
     "metadata": {},
     "output_type": "execute_result"
    }
   ],
   "source": [
    "isinstance(b, Iterable)"
   ]
  },
  {
   "cell_type": "code",
   "execution_count": 11,
   "metadata": {},
   "outputs": [
    {
     "data": {
      "text/plain": [
       "True"
      ]
     },
     "execution_count": 11,
     "metadata": {},
     "output_type": "execute_result"
    }
   ],
   "source": [
    "isinstance(c, Iterable)"
   ]
  },
  {
   "cell_type": "markdown",
   "metadata": {},
   "source": [
    "## 判断对象是否为str"
   ]
  },
  {
   "cell_type": "code",
   "execution_count": 12,
   "metadata": {},
   "outputs": [
    {
     "data": {
      "text/plain": [
       "True"
      ]
     },
     "execution_count": 12,
     "metadata": {},
     "output_type": "execute_result"
    }
   ],
   "source": [
    "isinstance(c, str)"
   ]
  },
  {
   "cell_type": "markdown",
   "metadata": {},
   "source": [
    "# 列出当前目录下的所有文件和目录名："
   ]
  },
  {
   "cell_type": "code",
   "execution_count": 13,
   "metadata": {},
   "outputs": [
    {
     "data": {
      "text/plain": [
       "['ex8.py',\n",
       " 'new_file.txt',\n",
       " 'ex9.py',\n",
       " 'common algorithms_interesting codes.ipynb',\n",
       " 'fibo.py',\n",
       " 'Untitled.ipynb',\n",
       " 'ex6.py',\n",
       " 'ex24.py',\n",
       " 'ex10.py',\n",
       " 'ex41.py',\n",
       " 'ex2.py',\n",
       " 'ex14.py',\n",
       " 'ex20.py',\n",
       " 'ex31.py',\n",
       " 'test1.py',\n",
       " 'ex3.py',\n",
       " 'ex15.py',\n",
       " 'ex21.py',\n",
       " 'workfile',\n",
       " 'ex35.py',\n",
       " 'ex7.py',\n",
       " 'test.py',\n",
       " 'languages.txt',\n",
       " 'ex25.py',\n",
       " 'ex11.py',\n",
       " 'ex40.py',\n",
       " 'playaround.py',\n",
       " 'ex16.py',\n",
       " 'LearnPython3TheHardWay-Exersices.ipynb',\n",
       " 'ex26.py',\n",
       " 'ex43.py',\n",
       " 'ex12.py',\n",
       " 'ex15_sample.txt',\n",
       " 'ex42.py',\n",
       " 'ex13.py',\n",
       " 'ex1.py',\n",
       " 'SFMono-Regular.otf',\n",
       " 'BatchRename.py',\n",
       " 'Python3 Official Tutorial Notebook.ipynb',\n",
       " 'ex17.py',\n",
       " 'ex23.py',\n",
       " 'test.txt',\n",
       " '.ipynb_checkpoints',\n",
       " 'ex38.py',\n",
       " 'playaround2.py',\n",
       " 'ex18.py',\n",
       " 'notebook.tex',\n",
       " 'ex19.py',\n",
       " 'ex39.py',\n",
       " 'ex29.py']"
      ]
     },
     "execution_count": 13,
     "metadata": {},
     "output_type": "execute_result"
    }
   ],
   "source": [
    "import os\n",
    "[d for d in os.listdir('.')] # os.listdir 可以列出文件和目录名"
   ]
  },
  {
   "cell_type": "markdown",
   "metadata": {},
   "source": [
    "#  把一个list中所有的字符串编程小写："
   ]
  },
  {
   "cell_type": "code",
   "execution_count": 14,
   "metadata": {},
   "outputs": [
    {
     "data": {
      "text/plain": [
       "['hello', 'world', 'ibm', 'apple']"
      ]
     },
     "execution_count": 14,
     "metadata": {},
     "output_type": "execute_result"
    }
   ],
   "source": [
    "L = ['Hello', 'World', 'IBM', 'Apple']\n",
    "[s.lower() for s in L]"
   ]
  },
  {
   "cell_type": "markdown",
   "metadata": {},
   "source": [
    "# 杨辉三角"
   ]
  },
  {
   "cell_type": "code",
   "execution_count": 8,
   "metadata": {},
   "outputs": [
    {
     "name": "stdout",
     "output_type": "stream",
     "text": [
      "[1]\n",
      "[1, 1]\n",
      "[1, 2, 1]\n",
      "[1, 3, 3, 1]\n",
      "[1, 4, 6, 4, 1]\n",
      "[1, 5, 10, 10, 5, 1]\n",
      "[1, 6, 15, 20, 15, 6, 1]\n",
      "[1, 7, 21, 35, 35, 21, 7, 1]\n",
      "[1, 8, 28, 56, 70, 56, 28, 8, 1]\n"
     ]
    }
   ],
   "source": [
    "def triangles(n):    # 计算到第n-1行杨辉三角，杨辉三角 每行有n个数\n",
    "    L=[1]\n",
    "    while len(L) < n:\n",
    "        yield L\n",
    "        L = [sum(i) for i in zip([0]+L, L+[0])]\n",
    "    return\n",
    "g = triangles(10)\n",
    "for i in g:\n",
    "    print(i)"
   ]
  },
  {
   "cell_type": "markdown",
   "metadata": {},
   "source": [
    "# 用filter() 求素数\n",
    "## 使用埃式筛法"
   ]
  },
  {
   "cell_type": "code",
   "execution_count": 9,
   "metadata": {},
   "outputs": [],
   "source": [
    "def _odd_iter():    # 无限序列 奇数 生成器 (因偶数肯定不是素数，所以只生成奇数)\n",
    "    n = 1\n",
    "    while True:\n",
    "        n = n + 2\n",
    "        yield n"
   ]
  },
  {
   "cell_type": "code",
   "execution_count": 11,
   "metadata": {},
   "outputs": [],
   "source": [
    "def _not_divisible(n):    # 判断是否为素数，是返回True 否返回False\n",
    "    return lambda x: x % n > 0"
   ]
  },
  {
   "cell_type": "code",
   "execution_count": 12,
   "metadata": {},
   "outputs": [],
   "source": [
    "def primes():    # 定义一个生成器，不断返回下一个素数\n",
    "    yield 2    #第一次引用时返回2，第二次时，从此命令之后开始执行\n",
    "    it = _odd_iter()    # 生成奇数生成器，赋给it变量，此命令并无任何奇数被生成，只是一个赋值语句\n",
    "    while True:\n",
    "        n = next(it)    # 使用next()函数对生成器操作，才会生成奇数，第二次访问时此处生成 n=3\n",
    "        yield n    # 第二次访问到此结束，返回值为n=3\n",
    "        it = filter(_not_divisible(n), it)    # 此处两个it 没有弄明白"
   ]
  },
  {
   "cell_type": "code",
   "execution_count": 13,
   "metadata": {},
   "outputs": [
    {
     "name": "stdout",
     "output_type": "stream",
     "text": [
      "2\n",
      "3\n",
      "5\n",
      "7\n",
      "11\n",
      "13\n",
      "17\n",
      "19\n",
      "23\n",
      "29\n",
      "31\n",
      "37\n",
      "41\n",
      "43\n",
      "47\n",
      "53\n",
      "59\n",
      "61\n",
      "67\n",
      "71\n",
      "73\n",
      "79\n",
      "83\n",
      "89\n",
      "97\n"
     ]
    }
   ],
   "source": [
    "for n in primes():    # 此处的n是指primes()生成器每次iterate的返回值！！！\n",
    "    if n < 100:\n",
    "        print(n)\n",
    "    else:\n",
    "        break"
   ]
  },
  {
   "cell_type": "code",
   "execution_count": null,
   "metadata": {},
   "outputs": [],
   "source": []
  }
 ],
 "metadata": {
  "kernelspec": {
   "display_name": "Python 3",
   "language": "python",
   "name": "python3"
  }
 },
 "nbformat": 4,
 "nbformat_minor": 2
}
