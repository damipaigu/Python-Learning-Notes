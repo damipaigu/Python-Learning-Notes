{
 "cells": [
  {
   "cell_type": "code",
   "execution_count": null,
   "metadata": {},
   "outputs": [],
   "source": [
    "import pandas as pd\n",
    "%matplotlib notebook\n",
    "import matplotlib.pyplot as plt\n",
    "import numpy as np"
   ]
  },
  {
   "cell_type": "code",
   "execution_count": null,
   "metadata": {},
   "outputs": [],
   "source": [
    "data = pd.read_excel('unit-Mar2018-final.xls', header=1, index_cols=1, usecols='A:G'+', I:J', skiprows=[1, 2, 3], \n",
    "                     skipfooter=1,\n",
    "                     names=['suburb', '1stQ 17', '2ndQ 17', '3rdQ 17', '4thQ 17', '1thQ 18', 'sales No. 1stQ 18', '% 1stQ17 to 1stQ18', '% 4thQ17 to 1stQ18'], )\n",
    "data = data.set_index('suburb')"
   ]
  },
  {
   "cell_type": "code",
   "execution_count": null,
   "metadata": {},
   "outputs": [],
   "source": [
    "my_sub = pd.Series(['TEMPLESTOWE', 'TEMPLESTOWE LOWER', 'DONCASTER EAST', 'DONCASTER', 'RINGWOOD', 'KNOXFIELD', 'VERMONT', 'SCORESBY', 'WANTIRNA SOUTH', 'WANTIRNA',\n",
    "                   'WHEELERS HILL', 'ROWVILLE', 'VERMONT SOUTH', 'BURWOOD EAST', 'BURWOOD', 'CLAYTON', 'CLAYTON SOUTH'])"
   ]
  },
  {
   "cell_type": "code",
   "execution_count": null,
   "metadata": {},
   "outputs": [],
   "source": [
    "# 查看我有购房意向的区的价格信息：\n",
    "interested_subs = data.reindex(my_sub).sort_values(by='% 4thQ17 to 1stQ18')"
   ]
  },
  {
   "cell_type": "code",
   "execution_count": null,
   "metadata": {},
   "outputs": [],
   "source": [
    "# 查看city周边区域的公寓价格\n",
    "city_sub = ['MELBOURNE', 'EAST MELBOURNE', 'NORTH MELBOURNE', 'WEST MELBOURNE', 'DOCKLANDS', 'SOUTHBANK', 'CARLTON',\n",
    "              'SOUTH YARRA', 'PORT MELBOURNE']\n",
    "data.reindex(city_sub).sort_values(by='% 4thQ17 to 1stQ18')"
   ]
  },
  {
   "cell_type": "code",
   "execution_count": null,
   "metadata": {},
   "outputs": [],
   "source": [
    "plot_data = data.iloc(:,[1:5])\n",
    "plot_data"
   ]
  },
  {
   "cell_type": "code",
   "execution_count": null,
   "metadata": {},
   "outputs": [],
   "source": []
  },
  {
   "cell_type": "code",
   "execution_count": null,
   "metadata": {},
   "outputs": [],
   "source": []
  }
 ],
 "metadata": {
  "kernelspec": {
   "display_name": "Python 3",
   "language": "python",
   "name": "python3"
  },
  "language_info": {
   "codemirror_mode": {
    "name": "ipython",
    "version": 3
   },
   "file_extension": ".py",
   "mimetype": "text/x-python",
   "name": "python",
   "nbconvert_exporter": "python",
   "pygments_lexer": "ipython3",
   "version": "3.6.6"
  }
 },
 "nbformat": 4,
 "nbformat_minor": 2
}
