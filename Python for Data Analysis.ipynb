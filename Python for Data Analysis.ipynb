{
 "cells": [
  {
   "cell_type": "markdown",
   "metadata": {},
   "source": [
    "# Chapter 4 NumPy Basics\n",
    "## The NumPy ndarray: \n",
    "### The basics:\n",
    "An ndarray is a generic multidimensional container for homogeneous data; all elements must be the same type, indexed by a tuple of positive integers. In NumPy dimensions are called _axes_.\n",
    "Every array has\n",
    " * __ndarray.ndim__: the number of axes (dimensions) of the array\n",
    " * __ndarray.shape__: a tuple indicating the size of each dimension. For a matrix with _n_ rows and _m_ columns, __shape__ will be _(n, m)_. The length of the __shape__ tuple is therefore the number of axes, __ndim__.\n",
    " * __ndarray.dtype__: an object describing the _data type_ of the array, NumPy provides types of its own. numpy.int32, numpy.int16, numpy.int64 are some examples."
   ]
  },
  {
   "cell_type": "code",
   "execution_count": 1,
   "metadata": {},
   "outputs": [
    {
     "data": {
      "text/plain": [
       "array([[ 0,  1,  2,  3,  4],\n",
       "       [ 5,  6,  7,  8,  9],\n",
       "       [10, 11, 12, 13, 14]])"
      ]
     },
     "execution_count": 1,
     "metadata": {},
     "output_type": "execute_result"
    }
   ],
   "source": [
    "import numpy as np\n",
    "data = np.arange(15).reshape(3, 5)\n",
    "data"
   ]
  },
  {
   "cell_type": "code",
   "execution_count": 2,
   "metadata": {},
   "outputs": [
    {
     "data": {
      "text/plain": [
       "2"
      ]
     },
     "execution_count": 2,
     "metadata": {},
     "output_type": "execute_result"
    }
   ],
   "source": [
    "data.ndim"
   ]
  },
  {
   "cell_type": "code",
   "execution_count": 3,
   "metadata": {},
   "outputs": [
    {
     "data": {
      "text/plain": [
       "(3, 5)"
      ]
     },
     "execution_count": 3,
     "metadata": {},
     "output_type": "execute_result"
    }
   ],
   "source": [
    "data.shape"
   ]
  },
  {
   "cell_type": "code",
   "execution_count": 4,
   "metadata": {},
   "outputs": [
    {
     "data": {
      "text/plain": [
       "'int32'"
      ]
     },
     "execution_count": 4,
     "metadata": {},
     "output_type": "execute_result"
    }
   ],
   "source": [
    "data.dtype.name"
   ]
  },
  {
   "cell_type": "markdown",
   "metadata": {},
   "source": [
    " * __ndarray.size__: the total number of elements of the array. This is equal to the product of the elements of __ndarray.shape__\n",
    " * __ndarray.itemsize__: the size in __bytes__ of each element of the array. It is equivalent to __ndarray.dtype.itemsize__.\n",
    " * __ndarray.data__: the buffer containing the actual elements of the array. Normally, we won't need to use this."
   ]
  },
  {
   "cell_type": "code",
   "execution_count": 5,
   "metadata": {},
   "outputs": [
    {
     "data": {
      "text/plain": [
       "4"
      ]
     },
     "execution_count": 5,
     "metadata": {},
     "output_type": "execute_result"
    }
   ],
   "source": [
    "data.itemsize"
   ]
  },
  {
   "cell_type": "code",
   "execution_count": 6,
   "metadata": {},
   "outputs": [
    {
     "data": {
      "text/plain": [
       "numpy.ndarray"
      ]
     },
     "execution_count": 6,
     "metadata": {},
     "output_type": "execute_result"
    }
   ],
   "source": [
    "type(data)"
   ]
  },
  {
   "cell_type": "markdown",
   "metadata": {},
   "source": [
    "### Creating ndarrays\n",
    "1. The easiest way: use the __array__ function: accepts any sequence-like object and produces a new NumPy array containing the passed data. For example, a list/tuple is a good candidate for conversion:"
   ]
  },
  {
   "cell_type": "code",
   "execution_count": 7,
   "metadata": {},
   "outputs": [
    {
     "data": {
      "text/plain": [
       "array([6. , 7.5, 8. , 0. , 1. ])"
      ]
     },
     "execution_count": 7,
     "metadata": {},
     "output_type": "execute_result"
    }
   ],
   "source": [
    "data1 = [6, 7.5, 8, 0, 1]\n",
    "arr1 = np.array(data1)\n",
    "arr1"
   ]
  },
  {
   "cell_type": "markdown",
   "metadata": {},
   "source": [
    "Nested sequences, like a list of __equal-length__ lists, will be converted into a multidimensional array:"
   ]
  },
  {
   "cell_type": "code",
   "execution_count": 8,
   "metadata": {},
   "outputs": [
    {
     "data": {
      "text/plain": [
       "array([[1, 2, 3, 4],\n",
       "       [5, 6, 7, 8]])"
      ]
     },
     "execution_count": 8,
     "metadata": {},
     "output_type": "execute_result"
    }
   ],
   "source": [
    "data2 = [[1, 2, 3, 4], [5, 6, 7, 8]]\n",
    "arr2 = np.array(data2)\n",
    "arr2"
   ]
  },
  {
   "cell_type": "markdown",
   "metadata": {},
   "source": [
    "A frequent error consists in calling __array__ with multiple numeric arguments, rather than providing a single list of numbers as an argument:"
   ]
  },
  {
   "cell_type": "code",
   "execution_count": 9,
   "metadata": {},
   "outputs": [
    {
     "ename": "ValueError",
     "evalue": "only 2 non-keyword arguments accepted",
     "output_type": "error",
     "traceback": [
      "\u001b[1;31m---------------------------------------------------------------------------\u001b[0m",
      "\u001b[1;31mValueError\u001b[0m                                Traceback (most recent call last)",
      "\u001b[1;32m<ipython-input-9-126323667033>\u001b[0m in \u001b[0;36m<module>\u001b[1;34m\u001b[0m\n\u001b[1;32m----> 1\u001b[1;33m \u001b[0ma\u001b[0m \u001b[1;33m=\u001b[0m \u001b[0mnp\u001b[0m\u001b[1;33m.\u001b[0m\u001b[0marray\u001b[0m\u001b[1;33m(\u001b[0m\u001b[1;36m1\u001b[0m\u001b[1;33m,\u001b[0m \u001b[1;36m2\u001b[0m\u001b[1;33m,\u001b[0m \u001b[1;36m3\u001b[0m\u001b[1;33m,\u001b[0m \u001b[1;36m4\u001b[0m\u001b[1;33m)\u001b[0m    \u001b[1;31m#WRONG\u001b[0m\u001b[1;33m\u001b[0m\u001b[0m\n\u001b[0m\u001b[0;32m      2\u001b[0m \u001b[0ma\u001b[0m \u001b[1;33m=\u001b[0m \u001b[0mnp\u001b[0m\u001b[1;33m.\u001b[0m\u001b[0marrar\u001b[0m\u001b[1;33m(\u001b[0m\u001b[1;33m[\u001b[0m\u001b[1;36m1\u001b[0m\u001b[1;33m,\u001b[0m \u001b[1;36m2\u001b[0m\u001b[1;33m,\u001b[0m \u001b[1;36m3\u001b[0m\u001b[1;33m,\u001b[0m \u001b[1;36m4\u001b[0m\u001b[1;33m]\u001b[0m\u001b[1;33m)\u001b[0m    \u001b[1;31m#RIGHT\u001b[0m\u001b[1;33m\u001b[0m\u001b[0m\n",
      "\u001b[1;31mValueError\u001b[0m: only 2 non-keyword arguments accepted"
     ]
    }
   ],
   "source": [
    "a = np.array(1, 2, 3, 4)    #WRONG\n",
    "a = np.arrar([1, 2, 3, 4])    #RIGHT"
   ]
  },
  {
   "cell_type": "markdown",
   "metadata": {},
   "source": [
    "The type of the array can also be explicitly specified at creation time:"
   ]
  },
  {
   "cell_type": "code",
   "execution_count": null,
   "metadata": {},
   "outputs": [],
   "source": [
    "c = np.array([[1, 2], [3, 4]], dtype=complex)\n",
    "c"
   ]
  },
  {
   "cell_type": "markdown",
   "metadata": {},
   "source": [
    "2. There are a number of other functions for creating new arrays. As examples:\n",
    " * __zeros__ and __ones__ create arrays of 0s and 1s, respectively, with a given length or shape"
   ]
  },
  {
   "cell_type": "code",
   "execution_count": null,
   "metadata": {},
   "outputs": [],
   "source": [
    "np.zeros((3, 2))"
   ]
  },
  {
   "cell_type": "markdown",
   "metadata": {},
   "source": [
    " * __empty__ creates an array without initializing its values to any particular value. "
   ]
  },
  {
   "cell_type": "code",
   "execution_count": null,
   "metadata": {},
   "outputs": [],
   "source": [
    "np.empty((2, 4, 3))    # 第三维在前\n",
    "# Uninitialized, output may vary. It's not safe to assume that np.empty will return an array of all zeors,\n",
    "# sometimes it will be garbages."
   ]
  },
  {
   "cell_type": "markdown",
   "metadata": {},
   "source": [
    " * __arange__ analogous to __range__ that returns arrays of sequences of numbers."
   ]
  },
  {
   "cell_type": "code",
   "execution_count": null,
   "metadata": {},
   "outputs": [],
   "source": [
    "np.arange(10, 30, 5)"
   ]
  },
  {
   "cell_type": "code",
   "execution_count": null,
   "metadata": {},
   "outputs": [],
   "source": [
    "np.arange(10, 20, 1.5)    # it accepts float arguments"
   ]
  },
  {
   "cell_type": "markdown",
   "metadata": {},
   "source": [
    "When __arange__ is used with floating point arguments, it is generally not possible to predict the number of elements obtained, due to the finite floating point precision. For this reason, it is usually better to use the function __linspace__ that receives as an argument the number of elements that we want, instead of the step:"
   ]
  },
  {
   "cell_type": "code",
   "execution_count": null,
   "metadata": {},
   "outputs": [],
   "source": [
    "np.linspace(0, 10, 9)    # 9 numbers from 0 to 10, both ends are inclusive"
   ]
  },
  {
   "cell_type": "markdown",
   "metadata": {},
   "source": [
    "Array Creation Functions\n",
    "\n",
    "Function | Description\n",
    "----------- | ---------------\n",
    "array | Convert input data(list, tuple, array, other sequence type) to an ndarray (explicitly specifying a dtype); copies the input data by default\n",
    "asarray | Convert input to ndarray, but do not copy if the input is already an ndarray\n",
    "arange | Like the built-in range but returns an ndarray instead of a list\n",
    "ones | Produce an array of all 1s with the given shape and dtype \n",
    "ones_like | Produces a ones array of the same shape and dtype\n",
    "zeros, zeros_like | Like ones and ones_like but producing arrays of 0s instead\n",
    "empty, empty_like | Create new arrays y allocating new memory, but do not populate with any values like ones and zeros\n",
    "full, full_like | Produce an array of the given shape and dtype with all values set to the indicated 'fill value'\n",
    "eye, identity | Create a Square N x N identity matrix (1s on the diagonal and 0s elsewhere)"
   ]
  },
  {
   "cell_type": "markdown",
   "metadata": {},
   "source": [
    "### Data Types for ndarrays\n",
    "__dtype__ is a special object containing the information the ndarray needs to interpret a chunk of memory as a particular type of data, it is named in this way: a type name, like float or int, followed by a number indicating the number of bits per element:"
   ]
  },
  {
   "cell_type": "code",
   "execution_count": null,
   "metadata": {},
   "outputs": [],
   "source": [
    "arr1 = np.array([1,2,3], dtype=np.float64)\n",
    "arr2= np.array([4,5,6], dtype=np.int32)\n",
    "arr1.dtype"
   ]
  },
  {
   "cell_type": "code",
   "execution_count": null,
   "metadata": {},
   "outputs": [],
   "source": [
    "arr1.dtype.itemsize"
   ]
  },
  {
   "cell_type": "code",
   "execution_count": null,
   "metadata": {},
   "outputs": [],
   "source": [
    "arr2.dtype"
   ]
  },
  {
   "cell_type": "code",
   "execution_count": null,
   "metadata": {},
   "outputs": [],
   "source": [
    "arr2.dtype.itemsize"
   ]
  },
  {
   "cell_type": "markdown",
   "metadata": {},
   "source": [
    "NumPy Data Types\n",
    "Type | Type Code | Description\n",
    "----- | ----- | -----\n",
    "int8, uint8 | i1, u1 | Signed and unsigned 8-bit integer types\n",
    "int16, uint16 | i2, u2 | Signed and unsigned 16-bit ineger types\n",
    "int32, uint32 | i4, u4 | Signed and unsigned 32-bit integer types\n",
    "int64, uint64 | i8, u8 | Signed and unsigned 64-bit integer types\n",
    "float16 | f2 | Half-precision floating point\n",
    "float32 | f4 or f | Standard single-precision floating point; compatible with C float\n",
    "float64 | f8 or d | Standard double-precision floating point; compatible with C double and Python float object\n",
    "float128 | f16 or g | Extended-precision floating point\n",
    "complex64, complex128, complex256 | c8, c16, c32 | Complex numbers represented by two 32, 64, or 128 floats, respectively\n",
    "bool | ? | Boolean type storing True and False values\n",
    "object | 0 | Python object type; a value can be any Python object\n",
    "string_ | S | Fixed-length ASCII string type (1 byte per character); for example, to create a string dtype with length 10, use 'S10'\n",
    "unicode_ | U | Fixed-length Unicode type (number of bytes platform specific); same specification semantics as string_ (e.g., 'U10')"
   ]
  },
  {
   "cell_type": "markdown",
   "metadata": {},
   "source": [
    "Explicitly convert or cast an array from one dtype to another using ndarray's __astype__ method:"
   ]
  },
  {
   "cell_type": "code",
   "execution_count": null,
   "metadata": {},
   "outputs": [],
   "source": [
    "arr = np.array([1, 2, 3, 4, 5])\n",
    "arr.dtype"
   ]
  },
  {
   "cell_type": "code",
   "execution_count": null,
   "metadata": {},
   "outputs": [],
   "source": [
    "float_arr = arr.astype(np.float64)    # 使用astype时，ndarray被复制，所以不能更改原ndarray的dtype；\n",
    "float_arr.dtype"
   ]
  },
  {
   "cell_type": "markdown",
   "metadata": {},
   "source": [
    "If I cast some floating-point numbers to be of integer dtype, the decimal part will be truncated:"
   ]
  },
  {
   "cell_type": "code",
   "execution_count": null,
   "metadata": {},
   "outputs": [],
   "source": [
    "arr = np.array([3.7, -1.2, -2.6, 0.5, 12.9, 10.1])\n",
    "arr"
   ]
  },
  {
   "cell_type": "code",
   "execution_count": null,
   "metadata": {},
   "outputs": [],
   "source": [
    "arr1 = arr.astype(np.int64)    # 使用astype时，ndarray被复制，所以不能更改原ndarray的dtype；\n",
    "arr1.dtype"
   ]
  },
  {
   "cell_type": "code",
   "execution_count": null,
   "metadata": {},
   "outputs": [],
   "source": [
    "arr.dtype"
   ]
  },
  {
   "cell_type": "markdown",
   "metadata": {},
   "source": [
    "An array of strings representing numbers, you can use __astype__ to convert them to numeric form:"
   ]
  },
  {
   "cell_type": "code",
   "execution_count": null,
   "metadata": {},
   "outputs": [],
   "source": [
    "numeric_strings = np.array(['1.25', '-9.6', '42'], dtype=np.string_)\n",
    "converted_numeric_strings = numeric_strings.astype(np.float32)\n",
    "converted_numeric_strings"
   ]
  },
  {
   "cell_type": "markdown",
   "metadata": {},
   "source": [
    "Type Code can also be used to refer to a dtype:"
   ]
  },
  {
   "cell_type": "code",
   "execution_count": null,
   "metadata": {},
   "outputs": [],
   "source": [
    "empty_uint32 = np.empty(8, dtype='u4')\n",
    "empty_uint32"
   ]
  },
  {
   "cell_type": "markdown",
   "metadata": {},
   "source": [
    "__Calling astype always creates a new array (a copy of the data), even if the new dtype is the same as the old dtype.__"
   ]
  },
  {
   "cell_type": "markdown",
   "metadata": {},
   "source": [
    "### Arithmetic with NumPy Arrays\n",
    "Arrays enable you to express batch operations on data without writing any for loops. This is called _vectorization_. Any arithmetic operations between equal-size arrays applies the operation element-wise:"
   ]
  },
  {
   "cell_type": "code",
   "execution_count": null,
   "metadata": {},
   "outputs": [],
   "source": [
    "arr = np.array([[1, 2, 3], [4, 5, 6]])\n",
    "arr"
   ]
  },
  {
   "cell_type": "code",
   "execution_count": null,
   "metadata": {},
   "outputs": [],
   "source": [
    "arr * arr"
   ]
  },
  {
   "cell_type": "code",
   "execution_count": null,
   "metadata": {},
   "outputs": [],
   "source": [
    "arr - arr"
   ]
  },
  {
   "cell_type": "markdown",
   "metadata": {},
   "source": [
    "Arithmetic operations with scalars propagate the scalar argument to each element in the array:"
   ]
  },
  {
   "cell_type": "code",
   "execution_count": null,
   "metadata": {},
   "outputs": [],
   "source": [
    "1 / arr"
   ]
  },
  {
   "cell_type": "code",
   "execution_count": null,
   "metadata": {},
   "outputs": [],
   "source": [
    "arr ** 0.5"
   ]
  },
  {
   "cell_type": "markdown",
   "metadata": {},
   "source": [
    "Comparisons between arrays of the same size yield boolean arrays:"
   ]
  },
  {
   "cell_type": "code",
   "execution_count": null,
   "metadata": {},
   "outputs": [],
   "source": [
    "arr2 = np.array([[0, 4, 1], [7, 2, 12]])"
   ]
  },
  {
   "cell_type": "code",
   "execution_count": null,
   "metadata": {},
   "outputs": [],
   "source": [
    "arr2"
   ]
  },
  {
   "cell_type": "code",
   "execution_count": null,
   "metadata": {},
   "outputs": [],
   "source": [
    "arr2 > arr"
   ]
  },
  {
   "cell_type": "markdown",
   "metadata": {},
   "source": [
    "Operations between differently sized arrays is called __broadcasting__. 此处下面会介绍。"
   ]
  },
  {
   "cell_type": "markdown",
   "metadata": {},
   "source": [
    "### Basic Indexing and Slicing\n",
    "One dimensional arrays are simple; similar to Python lists:"
   ]
  },
  {
   "cell_type": "code",
   "execution_count": null,
   "metadata": {},
   "outputs": [],
   "source": [
    "arr = np.arange(10)\n",
    "arr"
   ]
  },
  {
   "cell_type": "code",
   "execution_count": null,
   "metadata": {},
   "outputs": [],
   "source": [
    "arr[5]"
   ]
  },
  {
   "cell_type": "code",
   "execution_count": null,
   "metadata": {},
   "outputs": [],
   "source": [
    "arr[5:8]"
   ]
  },
  {
   "cell_type": "code",
   "execution_count": null,
   "metadata": {},
   "outputs": [],
   "source": [
    "arr[5:8] = 12   #assign a scalar to a  slice\n",
    "arr"
   ]
  },
  {
   "cell_type": "markdown",
   "metadata": {},
   "source": [
    "As we can see from the above example, if assigning a scalar value to a slice, as in arr[5:8] = 12, the value is _boradcasted_ to the entire selection. \n",
    "\n",
    "An important first distinction from Python's built-in lists is that array slices are _views_ on the original array. This means that the data is __not copied__, and any modifications to the view will be reflected in the source array:"
   ]
  },
  {
   "cell_type": "code",
   "execution_count": null,
   "metadata": {},
   "outputs": [],
   "source": [
    "arr_slice = arr[5:8]\n",
    "arr_slice"
   ]
  },
  {
   "cell_type": "code",
   "execution_count": null,
   "metadata": {},
   "outputs": [],
   "source": [
    "arr_slice[1] = 12345\n",
    "arr    # 修改arr_slice的值，arr跟着一块变"
   ]
  },
  {
   "cell_type": "markdown",
   "metadata": {},
   "source": [
    "The \"bare\" slice [:] will assign to all values in an array:"
   ]
  },
  {
   "cell_type": "code",
   "execution_count": null,
   "metadata": {},
   "outputs": [],
   "source": [
    "arr_slice[:] = 64\n",
    "arr"
   ]
  },
  {
   "cell_type": "markdown",
   "metadata": {},
   "source": [
    "If you want a copy of an ndarray instead of a view, you will need to do it explicitly using copy() method:"
   ]
  },
  {
   "cell_type": "code",
   "execution_count": null,
   "metadata": {},
   "outputs": [],
   "source": [
    "arr_copied = arr[5:8].copy()"
   ]
  },
  {
   "cell_type": "markdown",
   "metadata": {},
   "source": [
    "In a two-dimensional array, the elements at each index is an one-dimensional arrays:"
   ]
  },
  {
   "cell_type": "code",
   "execution_count": null,
   "metadata": {},
   "outputs": [],
   "source": [
    "arr2d = np.array([[1,2,3], [4,5,6], [7,8,9]])\n",
    "arr2d[2]"
   ]
  },
  {
   "cell_type": "markdown",
   "metadata": {},
   "source": [
    "Thus, individual elements can be accessed recursively. These are equivalent:"
   ]
  },
  {
   "cell_type": "code",
   "execution_count": null,
   "metadata": {},
   "outputs": [],
   "source": [
    "arr2d[0][2]"
   ]
  },
  {
   "cell_type": "code",
   "execution_count": null,
   "metadata": {},
   "outputs": [],
   "source": [
    "arr2d[0,2]"
   ]
  },
  {
   "cell_type": "markdown",
   "metadata": {},
   "source": [
    "It is helpful to think of axis 0 as the \"rows\" of the array and axis 1 as the \"columns\", FOR A TWO-DIMENSIONAL NDARRAY."
   ]
  },
  {
   "cell_type": "markdown",
   "metadata": {},
   "source": [
    "In multidimensional arrays, if later indices is omitted, the returned object will be a lower dimensional ndarray consisting of all the data along the higher dimensions. So in the following 2x2x3 array arr3d:"
   ]
  },
  {
   "cell_type": "code",
   "execution_count": null,
   "metadata": {},
   "outputs": [],
   "source": [
    "arr3d = np.arange(12).reshape(2,2,3)\n",
    "arr3d"
   ]
  },
  {
   "cell_type": "markdown",
   "metadata": {},
   "source": [
    "arr3d[0] is a 2x3 array:"
   ]
  },
  {
   "cell_type": "code",
   "execution_count": null,
   "metadata": {},
   "outputs": [],
   "source": [
    "arr3d[0]    # later indices omitted"
   ]
  },
  {
   "cell_type": "markdown",
   "metadata": {},
   "source": [
    "Both scalar values and arrays can be assigned to arr3d[0]:"
   ]
  },
  {
   "cell_type": "code",
   "execution_count": null,
   "metadata": {},
   "outputs": [],
   "source": [
    "old_values = arr3d[0].copy()\n",
    "arr3d[0] = 42\n",
    "arr3d[0]"
   ]
  },
  {
   "cell_type": "code",
   "execution_count": null,
   "metadata": {},
   "outputs": [],
   "source": [
    "arr3d[0] = old_values\n",
    "arr3d"
   ]
  },
  {
   "cell_type": "markdown",
   "metadata": {},
   "source": [
    "Similarly, arr3d[1, 0] gives you all of the values whose indices start with (1, 0), forming a 1-dimensional array:"
   ]
  },
  {
   "cell_type": "code",
   "execution_count": null,
   "metadata": {},
   "outputs": [],
   "source": [
    "arr3d[1, 0]"
   ]
  },
  {
   "cell_type": "code",
   "execution_count": null,
   "metadata": {},
   "outputs": [],
   "source": [
    "arr3d[1][0] "
   ]
  },
  {
   "cell_type": "markdown",
   "metadata": {},
   "source": [
    "### Indexing with slices\n",
    "One-dimensional ndarrays can be sliced with the syntax similar to Python 1-d lists:"
   ]
  },
  {
   "cell_type": "code",
   "execution_count": null,
   "metadata": {},
   "outputs": [],
   "source": [
    "arr"
   ]
  },
  {
   "cell_type": "code",
   "execution_count": null,
   "metadata": {},
   "outputs": [],
   "source": [
    "arr[1:6]"
   ]
  },
  {
   "cell_type": "markdown",
   "metadata": {},
   "source": [
    "Slicing two-dimensional array is a bit different:"
   ]
  },
  {
   "cell_type": "code",
   "execution_count": null,
   "metadata": {},
   "outputs": [],
   "source": [
    "arr2d"
   ]
  },
  {
   "cell_type": "markdown",
   "metadata": {},
   "source": [
    "The selection is on the axis 0, by default:"
   ]
  },
  {
   "cell_type": "code",
   "execution_count": null,
   "metadata": {},
   "outputs": [],
   "source": [
    "arr2d[:2]  "
   ]
  },
  {
   "cell_type": "markdown",
   "metadata": {},
   "source": [
    "Select multiple axis by seperate the slicing with a colon:"
   ]
  },
  {
   "cell_type": "code",
   "execution_count": null,
   "metadata": {},
   "outputs": [],
   "source": [
    "arr2d[0,:]"
   ]
  },
  {
   "cell_type": "markdown",
   "metadata": {},
   "source": [
    "### Boolean Indexing\n",
    "Consider some data in an array called _data_, and an array of names corresponding with data _names_(the name and data at the same location in both arrays are a pair). "
   ]
  },
  {
   "cell_type": "code",
   "execution_count": null,
   "metadata": {},
   "outputs": [],
   "source": [
    "names = np.array(['Bob', 'Joe', 'Will', 'Bob', 'Will', 'Joe', 'Joe'])\n",
    "data = np.random.randn(7, 4)\n",
    "names"
   ]
  },
  {
   "cell_type": "code",
   "execution_count": null,
   "metadata": {},
   "outputs": [],
   "source": [
    "data"
   ]
  },
  {
   "cell_type": "markdown",
   "metadata": {},
   "source": [
    "Each name corresponds to a row in the data array, if we want to select the data corresponding to a specific name, 'Bob', Like arithmetic operations, comparisons with arrays are also vectorized, comparing ndarray with a string yields a boolean array:"
   ]
  },
  {
   "cell_type": "code",
   "execution_count": null,
   "metadata": {},
   "outputs": [],
   "source": [
    "names == 'Bob'"
   ]
  },
  {
   "cell_type": "markdown",
   "metadata": {},
   "source": [
    "This boolean array can be passed to the _data_ array as indices:"
   ]
  },
  {
   "cell_type": "code",
   "execution_count": null,
   "metadata": {},
   "outputs": [],
   "source": [
    "data[names == 'Bob']"
   ]
  },
  {
   "cell_type": "markdown",
   "metadata": {},
   "source": [
    "__The boolean array must be of the same length as the array axis it's indexing. You can even mix and match boolean arrays with slices or integers (or sequences of integers). Boolean selection will not fail if the boolean array is NOT the correct length!!!__"
   ]
  },
  {
   "cell_type": "markdown",
   "metadata": {},
   "source": [
    "We can select the rows by names and columns by integer slicing:"
   ]
  },
  {
   "cell_type": "code",
   "execution_count": null,
   "metadata": {},
   "outputs": [],
   "source": [
    "data[names == 'Bob', 2:]"
   ]
  },
  {
   "cell_type": "code",
   "execution_count": null,
   "metadata": {},
   "outputs": [],
   "source": [
    "data[names == 'Bob', 3]"
   ]
  },
  {
   "cell_type": "markdown",
   "metadata": {},
   "source": [
    "To select everything but 'Bob', you can either use != or negate the condition using ~:"
   ]
  },
  {
   "cell_type": "code",
   "execution_count": null,
   "metadata": {},
   "outputs": [],
   "source": [
    "data[names != 'Bob']"
   ]
  },
  {
   "cell_type": "code",
   "execution_count": null,
   "metadata": {},
   "outputs": [],
   "source": [
    "data[~(names == 'Bob')]"
   ]
  },
  {
   "cell_type": "markdown",
   "metadata": {},
   "source": [
    "The ~ operator can be useful when you want to invert a general condition:"
   ]
  },
  {
   "cell_type": "code",
   "execution_count": null,
   "metadata": {},
   "outputs": [],
   "source": [
    "cond = names == 'Bob'\n",
    "data[~cond]"
   ]
  },
  {
   "cell_type": "markdown",
   "metadata": {},
   "source": [
    "Select multiple names to combine the boolean conditions, use boolean arithmetic operators &(and) and |(or):\n",
    "\n",
    "The Python keywords _and_ and _or_ do not work with boolean arrays. Use & and | only."
   ]
  },
  {
   "cell_type": "code",
   "execution_count": null,
   "metadata": {},
   "outputs": [],
   "source": [
    "mask = (names == 'Bob') | (names == 'Will')\n",
    "mask"
   ]
  },
  {
   "cell_type": "code",
   "execution_count": null,
   "metadata": {},
   "outputs": [],
   "source": [
    "data[mask]"
   ]
  },
  {
   "cell_type": "markdown",
   "metadata": {},
   "source": [
    "To set all of the negative values in data to 0:"
   ]
  },
  {
   "cell_type": "code",
   "execution_count": null,
   "metadata": {},
   "outputs": [],
   "source": [
    "data[data < 0] = 0\n",
    "data"
   ]
  },
  {
   "cell_type": "markdown",
   "metadata": {},
   "source": [
    "__Selecting data from an array by boolean indexing always creates a copy of the data, even if the returned array is unchanged.__"
   ]
  },
  {
   "cell_type": "markdown",
   "metadata": {},
   "source": [
    "### Fancy Indexing\n",
    "This is a term adopted by NumPy to describe indexing using integer arrays. Suppose we had an 8 x 4 array:"
   ]
  },
  {
   "cell_type": "code",
   "execution_count": null,
   "metadata": {},
   "outputs": [],
   "source": [
    "arr = np.empty((8,3))\n",
    "for i in range(8):\n",
    "    arr[i] = i\n",
    "arr"
   ]
  },
  {
   "cell_type": "markdown",
   "metadata": {},
   "source": [
    "To select out a subset of the rows in a particular order, you can pass a list or ndarray of integers specifying the desired order, using negative indices selects rows from the end:"
   ]
  },
  {
   "cell_type": "code",
   "execution_count": null,
   "metadata": {},
   "outputs": [],
   "source": [
    "arr[[7,5,4,6,1,3,3,-1,-1]]"
   ]
  },
  {
   "cell_type": "markdown",
   "metadata": {},
   "source": [
    "Passing multiple index arrays is slightly different; it selects a one-dimensional array of elements corresponding to each tuple of indices:"
   ]
  },
  {
   "cell_type": "code",
   "execution_count": null,
   "metadata": {},
   "outputs": [],
   "source": [
    "arr = np.arange(32).reshape((8, 4))\n",
    "arr"
   ]
  },
  {
   "cell_type": "code",
   "execution_count": null,
   "metadata": {},
   "outputs": [],
   "source": [
    "arr[[1, 5, 7, 2], [0, 3, 1, 2]]"
   ]
  },
  {
   "cell_type": "markdown",
   "metadata": {},
   "source": [
    "Here the (1, 0), (5, 3), (7, 1), and (2, 2) elements were selected. Regardless of how many dimensions the array has, the result of fancy indexing is always one-dimensional."
   ]
  },
  {
   "cell_type": "markdown",
   "metadata": {},
   "source": [
    "### Transposing Arrays and Swapping Axes\n",
    "Transposing is a special form of reshaping that returns a view without copying anything. Arrays have the _transpose_ method and also the special __T__ attribute:"
   ]
  },
  {
   "cell_type": "code",
   "execution_count": null,
   "metadata": {},
   "outputs": [],
   "source": [
    "arr = np.arange(15).reshape((3, 5))\n",
    "arr"
   ]
  },
  {
   "cell_type": "code",
   "execution_count": null,
   "metadata": {},
   "outputs": [],
   "source": [
    "arr.T"
   ]
  },
  {
   "cell_type": "markdown",
   "metadata": {},
   "source": [
    "This is useful when computing the inner matrix product using _np.dot_:"
   ]
  },
  {
   "cell_type": "code",
   "execution_count": null,
   "metadata": {},
   "outputs": [],
   "source": [
    "dot_product = np.dot(arr, arr.T)\n",
    "dot_product"
   ]
  },
  {
   "cell_type": "markdown",
   "metadata": {},
   "source": [
    "For higher dimensional arrays, __transpose__ will accept a tuple of axis numbers to permute the axes:"
   ]
  },
  {
   "cell_type": "code",
   "execution_count": null,
   "metadata": {},
   "outputs": [],
   "source": [
    "arr = np.arange(16).reshape((2, 2, 4))\n",
    "arr"
   ]
  },
  {
   "cell_type": "code",
   "execution_count": null,
   "metadata": {},
   "outputs": [],
   "source": [
    "arr.transpose((1, 0, 2))   #原来的第1轴变为新的0轴，原0轴变1轴，原2轴变2轴。略抽象。"
   ]
  },
  {
   "cell_type": "code",
   "execution_count": null,
   "metadata": {},
   "outputs": [],
   "source": [
    "arr.transpose((1, 2, 0))"
   ]
  },
  {
   "cell_type": "markdown",
   "metadata": {},
   "source": [
    "Simple transposing with _.T_ is a special case of swapping axes. ndarray has the method swapaxes, which takes a pair of axis numbers and switches the indicated axes to rearange the data:"
   ]
  },
  {
   "cell_type": "code",
   "execution_count": null,
   "metadata": {},
   "outputs": [],
   "source": [
    "arr.swapaxes(1, 2)"
   ]
  },
  {
   "cell_type": "markdown",
   "metadata": {},
   "source": [
    "_swapaxes_ similarly returns a view without making a copy."
   ]
  },
  {
   "cell_type": "markdown",
   "metadata": {},
   "source": [
    "## Universal Functions: Fast Element-Wise Array Functions\n",
    "a universal function, or _ufunc_, is a function that performs element-wise operations on data in ndarrays："
   ]
  },
  {
   "cell_type": "code",
   "execution_count": null,
   "metadata": {},
   "outputs": [],
   "source": [
    "arr = np.arange(10)\n",
    "arr"
   ]
  },
  {
   "cell_type": "code",
   "execution_count": null,
   "metadata": {},
   "outputs": [],
   "source": [
    "np.sqrt(arr)"
   ]
  },
  {
   "cell_type": "code",
   "execution_count": null,
   "metadata": {},
   "outputs": [],
   "source": [
    "np.exp(arr)"
   ]
  },
  {
   "cell_type": "markdown",
   "metadata": {},
   "source": [
    "These are referred to as unary ufuncs (一元的)。 Others, such as __add__ or __maximum__, take two arrays (thus, binary ufuncs) and return a single array as the result:"
   ]
  },
  {
   "cell_type": "code",
   "execution_count": null,
   "metadata": {},
   "outputs": [],
   "source": [
    "x = np.random.randn(8)\n",
    "y = np.random.randn(8)\n",
    "x"
   ]
  },
  {
   "cell_type": "code",
   "execution_count": null,
   "metadata": {},
   "outputs": [],
   "source": [
    "y"
   ]
  },
  {
   "cell_type": "code",
   "execution_count": null,
   "metadata": {},
   "outputs": [],
   "source": [
    "np.maximum(x, y)"
   ]
  },
  {
   "cell_type": "markdown",
   "metadata": {},
   "source": [
    "_np.maximum_ computed the element-wise of the elements in x and y."
   ]
  },
  {
   "cell_type": "markdown",
   "metadata": {},
   "source": [
    "While not common, a ufunc can return multiple arrays. __modf__ is one example, a vectorized version of the built-in Python __divmod__; it returns the fractional and integral parts of a floating-point array:"
   ]
  },
  {
   "cell_type": "code",
   "execution_count": null,
   "metadata": {},
   "outputs": [],
   "source": [
    "arr = np.random.randn(7) * 5\n",
    "arr"
   ]
  },
  {
   "cell_type": "code",
   "execution_count": null,
   "metadata": {},
   "outputs": [],
   "source": [
    "remainder, whole_part = np.modf(arr)\n",
    "remainder"
   ]
  },
  {
   "cell_type": "code",
   "execution_count": 10,
   "metadata": {},
   "outputs": [
    {
     "ename": "NameError",
     "evalue": "name 'whole_part' is not defined",
     "output_type": "error",
     "traceback": [
      "\u001b[1;31m---------------------------------------------------------------------------\u001b[0m",
      "\u001b[1;31mNameError\u001b[0m                                 Traceback (most recent call last)",
      "\u001b[1;32m<ipython-input-10-43d9210c7385>\u001b[0m in \u001b[0;36m<module>\u001b[1;34m\u001b[0m\n\u001b[1;32m----> 1\u001b[1;33m \u001b[0mwhole_part\u001b[0m\u001b[1;33m\u001b[0m\u001b[0m\n\u001b[0m",
      "\u001b[1;31mNameError\u001b[0m: name 'whole_part' is not defined"
     ]
    }
   ],
   "source": [
    "whole_part"
   ]
  },
  {
   "cell_type": "markdown",
   "metadata": {},
   "source": [
    "ufuncs accept an optional out argument that allows them to operate in-place on arrays (意思是可以把结果输出到指定位置？？？):"
   ]
  },
  {
   "cell_type": "code",
   "execution_count": null,
   "metadata": {},
   "outputs": [],
   "source": [
    "arr"
   ]
  },
  {
   "cell_type": "code",
   "execution_count": null,
   "metadata": {},
   "outputs": [],
   "source": [
    "np.sqrt(arr)"
   ]
  },
  {
   "cell_type": "code",
   "execution_count": null,
   "metadata": {},
   "outputs": [],
   "source": [
    "np.sqrt(arr, arr)"
   ]
  },
  {
   "cell_type": "code",
   "execution_count": null,
   "metadata": {},
   "outputs": [],
   "source": [
    "arr"
   ]
  },
  {
   "cell_type": "markdown",
   "metadata": {},
   "source": [
    "Unary ufuncs\n",
    "Function | Description\n",
    "-------- | ---------------------\n",
    "abs, fabs | Compute the absolute value element-wise for integer, floating-point, or complex values\n",
    "sqrt | Compute the square root of each element\n",
    "square | Compute the square of each element\n",
    "exp | Compute the exponent of each element\n",
    "log, log10, log2, log1p | ln, log10, log2, log(1+x)\n",
    "sign | Compute the sign of each element: 1 (>0), 0 (zero), or -1 (<0) \n",
    "ceil | Compute the ceil of each element (i.e. the smallest integer greater than or equal to that number)\n",
    "floor | Compute the floor of each element (the largest integer less than or equal to each element)\n",
    "rint | Round elements to the nearest integer, preserving the dtype\n",
    "modf | Return fractional and integral parts of array as a separate array\n",
    "isnan | Return boolean array indicating whether each value is NaN\n",
    "isfinite, isinf | Return boolean array indicating whether each element is finite or infinite, repectively\n",
    "cos, cosh, sin, sinh, tan, tanh | \n",
    "arccos, arccosh, arcsin, arcsinh, arctan, arctanh |\n",
    "logical_not | Compute truth value of not x element-wise (equivalent to ~arr)"
   ]
  },
  {
   "cell_type": "markdown",
   "metadata": {},
   "source": [
    "Binary Universal Functions\n",
    "Function | Description\n",
    "-------- | ------------------\n",
    "add | Add corresponding elements in arrays\n",
    "subtract | Subtract elements in second array from first array\n",
    "multiply | Multiply array elements\n",
    "divide, floor_divide | Divide or floor divide (truncating the remainder)\n",
    "power | Raise elements in first array to powers indicated in second array\n",
    "maximum, fmax | Element-wise maximum; _fmax_ ignores NaN\n",
    "minimum, fmin | Element-wise minimum; _fmin_ ignores NaN\n",
    "mod | Element-wise modulus (remainder of division)\n",
    "copysign | Copy sign of values in second argument to values in first argument\n",
    "greater, greater_equal, less, less_equal, equal, not_equal | Perform element-wise comparison, yielding boolean array (equivalent to infix operators >, >=, <, <=, ==, !=)\n",
    "logical_and, logical_or, logical_xor | Compute element-wise truth value of logical operation (equivalent to infix oeprators & \\| ^)"
   ]
  },
  {
   "cell_type": "markdown",
   "metadata": {},
   "source": [
    "## Array-oriented Programming with Arrays\n",
    "NumPy enables you to express many kinds of data processing tasks as concise array expressions that might otherwise require writing loops. This practice of replacing explicit loops with array expressions is commonly referred to as _vectorization_. \n",
    "\n",
    "As a simple example, we wished to evaluate the function sqrt(x^2 + y^2) across a regular grid of values. The _np.meshgrid_ function takes two 1D arrays and produces two 2D matrices corresponding to all pairs of (x, y) in the two arrays:"
   ]
  },
  {
   "cell_type": "code",
   "execution_count": null,
   "metadata": {},
   "outputs": [],
   "source": [
    "points = np.arange(-5, 5, 0.01)    # 1000 equally spaced points\n",
    "xs, ys = np.meshgrid(points, points)    # 生成笛卡尔坐标系 x y轴上的点；x轴正方向 向右，y轴正方向 向下。坐标点数量为len(points) X len(points)\n",
    "# xs为x轴的坐标矩阵，ys为y轴的坐标矩阵。\n",
    "ys"
   ]
  },
  {
   "cell_type": "code",
   "execution_count": null,
   "metadata": {},
   "outputs": [],
   "source": [
    "xs"
   ]
  },
  {
   "cell_type": "markdown",
   "metadata": {},
   "source": [
    "Now evaluating the function is a matter of writing the smae expression you would write with two points:"
   ]
  },
  {
   "cell_type": "code",
   "execution_count": null,
   "metadata": {},
   "outputs": [],
   "source": [
    "z = np.sqrt(xs **2 + ys ** 2)\n",
    "z"
   ]
  },
  {
   "cell_type": "markdown",
   "metadata": {},
   "source": [
    "use matplotlib to create visualizations of this two-dimensional array:"
   ]
  },
  {
   "cell_type": "code",
   "execution_count": null,
   "metadata": {},
   "outputs": [],
   "source": [
    "import matplotlib.pyplot as plt\n",
    "plt.title(\"Image plot of $\\sqrt{x^2 + y^2}$ for a grid of values\")\n",
    "plt.imshow(z, cmap=plt.cm.gray); plt.colorbar()"
   ]
  },
  {
   "cell_type": "markdown",
   "metadata": {},
   "source": [
    "### Expressing Conditional Logic as Array Operations\n",
    "The _numpy.where_ function is a vectorized version of the ternary expression: x if condition else y. Suppose we had a boolean array and two arrays of values:"
   ]
  },
  {
   "cell_type": "code",
   "execution_count": null,
   "metadata": {},
   "outputs": [],
   "source": [
    "xarr = np.array([1.1, 1.2, 1.3, 1.4, 1.5])\n",
    "yarr = np.array([2.1, 2.2, 2.3, 2.4, 2.5])\n",
    "cond = np.array([True, False, True, True, False])"
   ]
  },
  {
   "cell_type": "markdown",
   "metadata": {},
   "source": [
    "Suppose we wanted to take a value from __xarr__ whenever the corresponding value in __cond__ is __True__, and otherwise take the value from yarr:"
   ]
  },
  {
   "cell_type": "code",
   "execution_count": null,
   "metadata": {},
   "outputs": [],
   "source": [
    "result = [(x if c else y) for x, y, c in zip(xarr, yarr, cond)]\n",
    "result"
   ]
  },
  {
   "cell_type": "markdown",
   "metadata": {},
   "source": [
    "The above codes have multiple problems. 1st, it will be very slow for large arrays. 2nd, it will not work will multidimensional arrays. With _np.where_ you can write this very concisely:"
   ]
  },
  {
   "cell_type": "code",
   "execution_count": null,
   "metadata": {},
   "outputs": [],
   "source": [
    "result = np.where(cond, xarr, yarr)\n",
    "result"
   ]
  },
  {
   "cell_type": "markdown",
   "metadata": {},
   "source": [
    "The second and third arguments to _np.where_ don't need to be arrays; one or both of them can be scalars."
   ]
  },
  {
   "cell_type": "markdown",
   "metadata": {},
   "source": [
    "A typical use of _where_ in data analysis is to produce a new array of values based on another array. Suppose you had a matrix of randomly generated data and you wanted to replace all positive values with 2 and all negative values with -2. This is very easy to do with _np.where_:"
   ]
  },
  {
   "cell_type": "code",
   "execution_count": null,
   "metadata": {},
   "outputs": [],
   "source": [
    "arr = np.random.randn(4, 4)\n",
    "arr"
   ]
  },
  {
   "cell_type": "code",
   "execution_count": null,
   "metadata": {},
   "outputs": [],
   "source": [
    "arr > 0"
   ]
  },
  {
   "cell_type": "code",
   "execution_count": null,
   "metadata": {},
   "outputs": [],
   "source": [
    "np.where(arr > 0, 2, -2)"
   ]
  },
  {
   "cell_type": "markdown",
   "metadata": {},
   "source": [
    "Or combine scalars and arrays together:"
   ]
  },
  {
   "cell_type": "code",
   "execution_count": null,
   "metadata": {},
   "outputs": [],
   "source": [
    "np.where(arr > 0, 2, arr)"
   ]
  },
  {
   "cell_type": "markdown",
   "metadata": {},
   "source": [
    "__The arrays passed to np.where can be more than just equal-sized arrays or scalars__"
   ]
  },
  {
   "cell_type": "markdown",
   "metadata": {},
   "source": [
    "### Mathematical and Statistical Methods\n",
    "A set of mathematical functions that compute statistics about an entire array or about the data along an axis are accessible as __mehtods__ of the array class. You can use aggregations like _sum_, _mean_, and _std_ (standard deviation) either by calling the array instance method or using the top-level NumPy function:"
   ]
  },
  {
   "cell_type": "code",
   "execution_count": null,
   "metadata": {},
   "outputs": [],
   "source": [
    "arr = np.random.randn(5, 4)\n",
    "arr"
   ]
  },
  {
   "cell_type": "code",
   "execution_count": null,
   "metadata": {},
   "outputs": [],
   "source": [
    "arr.mean()"
   ]
  },
  {
   "cell_type": "code",
   "execution_count": null,
   "metadata": {},
   "outputs": [],
   "source": [
    "np.mean(arr)"
   ]
  },
  {
   "cell_type": "code",
   "execution_count": null,
   "metadata": {},
   "outputs": [],
   "source": [
    "arr.sum()"
   ]
  },
  {
   "cell_type": "markdown",
   "metadata": {},
   "source": [
    "Functions like _mean_ and _sum_ take an optional _axis_ argument that computes the statistic over the given axis, resulting in an array with one fewer dimension:"
   ]
  },
  {
   "cell_type": "markdown",
   "metadata": {},
   "source": [
    "arr.mean(1) means: Compute mean across the columns"
   ]
  },
  {
   "cell_type": "code",
   "execution_count": 11,
   "metadata": {},
   "outputs": [
    {
     "ename": "NameError",
     "evalue": "name 'arr' is not defined",
     "output_type": "error",
     "traceback": [
      "\u001b[1;31m---------------------------------------------------------------------------\u001b[0m",
      "\u001b[1;31mNameError\u001b[0m                                 Traceback (most recent call last)",
      "\u001b[1;32m<ipython-input-11-e014b3e7942b>\u001b[0m in \u001b[0;36m<module>\u001b[1;34m\u001b[0m\n\u001b[1;32m----> 1\u001b[1;33m \u001b[0marr\u001b[0m\u001b[1;33m.\u001b[0m\u001b[0mmean\u001b[0m\u001b[1;33m(\u001b[0m\u001b[0maxis\u001b[0m\u001b[1;33m=\u001b[0m\u001b[1;36m1\u001b[0m\u001b[1;33m)\u001b[0m    \u001b[1;31m# calculate mean in a row\u001b[0m\u001b[1;33m\u001b[0m\u001b[0m\n\u001b[0m",
      "\u001b[1;31mNameError\u001b[0m: name 'arr' is not defined"
     ]
    }
   ],
   "source": [
    "arr.mean(axis=1)    # calculate mean in a row"
   ]
  },
  {
   "cell_type": "code",
   "execution_count": null,
   "metadata": {},
   "outputs": [],
   "source": [
    "arr.mean(axis=0)"
   ]
  },
  {
   "cell_type": "markdown",
   "metadata": {},
   "source": [
    "Other methods like _cumsum_ and _cumprod_ do not aggregate, instead producing an array of the intermediate results:"
   ]
  },
  {
   "cell_type": "markdown",
   "metadata": {},
   "source": [
    "cumsum: arry_cumsum[n] == sum(array[:n+1])\n",
    "cumprod: (product) arry_cumprod[n] == product(array[:n+1])"
   ]
  },
  {
   "cell_type": "code",
   "execution_count": null,
   "metadata": {},
   "outputs": [],
   "source": [
    "arr = np.array([0, 1, 2, 3, 4, 5, 6, 7])\n",
    "arr.cumsum()"
   ]
  },
  {
   "cell_type": "markdown",
   "metadata": {},
   "source": [
    "In multidimensional arrays, accumulation functions like _cumsum_ return an array of the same size, but with the partial aggregates computed along the indicated axis according to each lower dimensional slice:"
   ]
  },
  {
   "cell_type": "code",
   "execution_count": null,
   "metadata": {},
   "outputs": [],
   "source": [
    "arr = np.array([[0,1,2],[3,4,5],[6,7,8]])\n",
    "arr"
   ]
  },
  {
   "cell_type": "code",
   "execution_count": null,
   "metadata": {},
   "outputs": [],
   "source": [
    "arr.cumsum(axis=0)"
   ]
  },
  {
   "cell_type": "code",
   "execution_count": null,
   "metadata": {},
   "outputs": [],
   "source": [
    "arr.cumsum(axis=1)"
   ]
  },
  {
   "cell_type": "code",
   "execution_count": null,
   "metadata": {},
   "outputs": [],
   "source": [
    "arr.cumprod(axis=0)"
   ]
  },
  {
   "cell_type": "markdown",
   "metadata": {},
   "source": [
    "Basic array statistical methods\n",
    "Method | Description\n",
    "-------- | --------------\n",
    "sum | Sum of all the elements in the array or along an axis; zero-length arrays have sum 0\n",
    "mean | Arithmetic mean; zero-length arrays have NaN mean\n",
    "std, var | Standard deviation and variance, respectively, with optional degrees of freedom adjustment (default denominator n)\n",
    "min, max | Minimum and maximum\n",
    "argmin, argmax | Indices of minimum and maximum elements, respectively\n",
    "cumsum | Cumulative sum of elements starting from 0\n",
    "cumprod | Cumulative product of elements starting from 1"
   ]
  },
  {
   "cell_type": "markdown",
   "metadata": {},
   "source": [
    "### Methods for Boolean Arrays\n",
    "Boolean values are coerced to 1 (True) and 0 (False) in the preceding methods. Thus, sum is often used as a means of counting True values in a boolean array:"
   ]
  },
  {
   "cell_type": "code",
   "execution_count": null,
   "metadata": {},
   "outputs": [],
   "source": [
    "arr = np.random.randn(100)\n",
    "(arr > 0).sum() # Number of positive values"
   ]
  },
  {
   "cell_type": "markdown",
   "metadata": {},
   "source": [
    "There are two additional mehtods, _any_ and _all_, useful especially for boolean arrays. _any_ tests whether one or more values in an array is __True__, while __all__ checks if every value is __True__:"
   ]
  },
  {
   "cell_type": "code",
   "execution_count": null,
   "metadata": {},
   "outputs": [],
   "source": [
    "bools = np.array([False, False, True, False])\n",
    "bools.any()"
   ]
  },
  {
   "cell_type": "code",
   "execution_count": null,
   "metadata": {},
   "outputs": [],
   "source": [
    "bools.all()"
   ]
  },
  {
   "cell_type": "markdown",
   "metadata": {},
   "source": [
    "These methods also work with non-boolean arrays, where non-zero elements evaluate to __True__."
   ]
  },
  {
   "cell_type": "markdown",
   "metadata": {},
   "source": [
    "### Sorting\n",
    "NumPy arrays can be sorted in-place with the sort method just like Python's built-in list type:"
   ]
  },
  {
   "cell_type": "code",
   "execution_count": null,
   "metadata": {},
   "outputs": [],
   "source": [
    "arr = np.random.randn(6)\n",
    "arr"
   ]
  },
  {
   "cell_type": "code",
   "execution_count": null,
   "metadata": {},
   "outputs": [],
   "source": [
    "arr.sort()\n",
    "arr"
   ]
  },
  {
   "cell_type": "markdown",
   "metadata": {},
   "source": [
    "You can sort each one-dimentional section of values in a multidimensional array in-place along an axis by passing the axis number to sort:"
   ]
  },
  {
   "cell_type": "code",
   "execution_count": null,
   "metadata": {},
   "outputs": [],
   "source": [
    "arr = np.random.randn(4, 3)\n",
    "arr"
   ]
  },
  {
   "cell_type": "code",
   "execution_count": null,
   "metadata": {},
   "outputs": [],
   "source": [
    "arr.sort(1)    # sort items in a row\n",
    "arr"
   ]
  },
  {
   "cell_type": "markdown",
   "metadata": {},
   "source": [
    "The top level mehtod np.sort returns a sorted copy of an array instead of modifying the array in-place. \n",
    "\n",
    "A quick and dirty way to compute the quantiles of an array is to sort it and select the value at a particular rank:"
   ]
  },
  {
   "cell_type": "code",
   "execution_count": null,
   "metadata": {},
   "outputs": [],
   "source": [
    "large_arr = np.random.randn(1000)\n",
    "large_arr.sort()\n",
    "large_arr[int(0.05 * len(large_arr))] # 5% quantile"
   ]
  },
  {
   "cell_type": "markdown",
   "metadata": {},
   "source": [
    "### Unique and Other Set Logic\n",
    "Some basic __set__ operations for one-dimensional ndarrays. A commonly used one is np.unique, which returns the sorted unique values in an array:"
   ]
  },
  {
   "cell_type": "code",
   "execution_count": null,
   "metadata": {},
   "outputs": [],
   "source": [
    "names = np.array(['Bob', 'Joe', 'Will', 'Bob', 'Will', 'Joe', 'Joe'])\n",
    "np.unique(names)"
   ]
  },
  {
   "cell_type": "markdown",
   "metadata": {},
   "source": [
    "Contrast np.unique with the pure Python alternative:"
   ]
  },
  {
   "cell_type": "code",
   "execution_count": 12,
   "metadata": {},
   "outputs": [
    {
     "ename": "NameError",
     "evalue": "name 'names' is not defined",
     "output_type": "error",
     "traceback": [
      "\u001b[1;31m---------------------------------------------------------------------------\u001b[0m",
      "\u001b[1;31mNameError\u001b[0m                                 Traceback (most recent call last)",
      "\u001b[1;32m<ipython-input-12-5550f54a94c2>\u001b[0m in \u001b[0;36m<module>\u001b[1;34m\u001b[0m\n\u001b[1;32m----> 1\u001b[1;33m \u001b[0msorted\u001b[0m\u001b[1;33m(\u001b[0m\u001b[0mset\u001b[0m\u001b[1;33m(\u001b[0m\u001b[0mnames\u001b[0m\u001b[1;33m)\u001b[0m\u001b[1;33m)\u001b[0m\u001b[1;33m\u001b[0m\u001b[0m\n\u001b[0m",
      "\u001b[1;31mNameError\u001b[0m: name 'names' is not defined"
     ]
    }
   ],
   "source": [
    "sorted(set(names))"
   ]
  },
  {
   "cell_type": "code",
   "execution_count": null,
   "metadata": {},
   "outputs": [],
   "source": [
    "ints = np.array([1, 2, 3, 4, 1, 2, 3, 4, 5, 4, 3, 2, 2, 2,])\n",
    "np.unique(ints)"
   ]
  },
  {
   "cell_type": "markdown",
   "metadata": {},
   "source": [
    "Array __Set__ operations\n",
    "Method | Description\n",
    "--------- | -----------\n",
    "unique(x) | Compute the sorted, unique elements in x\n",
    "intersect1d(x, y) | Compute the sorted, common elements in x and y\n",
    "union1d(x, y) | Compute the sorted union of elements\n",
    "in1d(x, y) | Compute a boolean array indicating whether each element of x is contained in y\n",
    "setdiff1d(x, y) | Set difference, elements in x that are not in y\n",
    "setxor1d(x, y) | Set symmetric differences; elements that are in either of the arrays, but not both"
   ]
  },
  {
   "cell_type": "markdown",
   "metadata": {},
   "source": [
    "## File Input and Output with Arrays\n",
    "NumPy is able to save and load data to and from disk either in text or binary format. But most users will prefer pandas and other tools for loading text or tabular data.\n",
    "\n",
    "Here will discuss the NumPy's built-in binary format:"
   ]
  },
  {
   "cell_type": "markdown",
   "metadata": {},
   "source": [
    "_np.load_ and _np.save_ are the functions for loading and saving array data on disk. Arrays are saved by default in an uncompressed raw binary format with file extension _.npy_:"
   ]
  },
  {
   "cell_type": "code",
   "execution_count": null,
   "metadata": {},
   "outputs": [],
   "source": [
    "arr = np.arange(10)\n",
    "np.save('Some_array', arr)"
   ]
  },
  {
   "cell_type": "markdown",
   "metadata": {},
   "source": [
    "If the file path does not already end in _.npy_, the extension will be appended. The array on disk can then be loaded with _np.load_:"
   ]
  },
  {
   "cell_type": "code",
   "execution_count": null,
   "metadata": {},
   "outputs": [],
   "source": [
    "np.load('Some_array.npy')"
   ]
  },
  {
   "cell_type": "markdown",
   "metadata": {},
   "source": [
    "You can save multiple arrays in an uncompressed archive using _np.savez_ and apssing the arrays as keyword arguments:"
   ]
  },
  {
   "cell_type": "code",
   "execution_count": null,
   "metadata": {},
   "outputs": [],
   "source": [
    "arr = np.arange(10)\n",
    "arr2 = np.random.randn(10)\n",
    "np.savez('array_archive.npz', a=arr, b=arr2)"
   ]
  },
  {
   "cell_type": "markdown",
   "metadata": {},
   "source": [
    "When loading an _.npz_ file, you get back a dict-like object that laods the individual arrays lazily:"
   ]
  },
  {
   "cell_type": "code",
   "execution_count": null,
   "metadata": {},
   "outputs": [],
   "source": [
    "arch = np.load('array_archive.npz')\n",
    "arch['a']"
   ]
  },
  {
   "cell_type": "code",
   "execution_count": null,
   "metadata": {},
   "outputs": [],
   "source": [
    "arch['b']"
   ]
  },
  {
   "cell_type": "markdown",
   "metadata": {},
   "source": [
    "You can also use __numpy.savez_compressed__ to compress the file:"
   ]
  },
  {
   "cell_type": "code",
   "execution_count": null,
   "metadata": {},
   "outputs": [],
   "source": [
    "np.savez_compressed('arrays_compressed.npz', a=arr, b=arr2)"
   ]
  },
  {
   "cell_type": "markdown",
   "metadata": {},
   "source": [
    "## Linear Algebra\n",
    "Linear algebra, like:\n",
    " * matrix multiplication\n",
    " * decompositions\n",
    " * determinants 行列式\n",
    " * and other square matrix math"
   ]
  },
  {
   "cell_type": "markdown",
   "metadata": {},
   "source": [
    "There is a function __dot__, both an array mehtod and a function in the numpy namespace, for matrix multiplication:"
   ]
  },
  {
   "cell_type": "code",
   "execution_count": null,
   "metadata": {},
   "outputs": [],
   "source": [
    "x = np.array([[1, 2, 3], [4, 5, 6]])\n",
    "y = np.array([[6, 23], [-1, 7], [8, 9]])"
   ]
  },
  {
   "cell_type": "markdown",
   "metadata": {},
   "source": [
    "array method dot:"
   ]
  },
  {
   "cell_type": "code",
   "execution_count": null,
   "metadata": {},
   "outputs": [],
   "source": [
    "x.dot(y)     "
   ]
  },
  {
   "cell_type": "markdown",
   "metadata": {},
   "source": [
    "function dot:"
   ]
  },
  {
   "cell_type": "code",
   "execution_count": null,
   "metadata": {},
   "outputs": [],
   "source": [
    "np.dot(x, y)"
   ]
  },
  {
   "cell_type": "markdown",
   "metadata": {},
   "source": [
    "element-wise dot:"
   ]
  },
  {
   "cell_type": "markdown",
   "metadata": {},
   "source": [
    "The @ symbol (Python 3.5) also works as an infix operator that performs matrix multiplication:"
   ]
  },
  {
   "cell_type": "code",
   "execution_count": null,
   "metadata": {},
   "outputs": [],
   "source": [
    "x @ np.ones(3)"
   ]
  },
  {
   "cell_type": "markdown",
   "metadata": {},
   "source": [
    "_numpy.linalg_ has a standard set of matrix decompositions and things like iverse and determinant:"
   ]
  },
  {
   "cell_type": "code",
   "execution_count": null,
   "metadata": {},
   "outputs": [],
   "source": [
    "from numpy.linalg import inv(逆矩阵inverse), qr    #为什么这里不能写np.linalg (写这个确实会出错，可能是from import这个句型必须用原名？？？)"
   ]
  },
  {
   "cell_type": "code",
   "execution_count": null,
   "metadata": {},
   "outputs": [],
   "source": [
    "X = np.random.randn(3, 3)\n",
    "X"
   ]
  },
  {
   "cell_type": "code",
   "execution_count": 13,
   "metadata": {},
   "outputs": [
    {
     "ename": "NameError",
     "evalue": "name 'X' is not defined",
     "output_type": "error",
     "traceback": [
      "\u001b[1;31m---------------------------------------------------------------------------\u001b[0m",
      "\u001b[1;31mNameError\u001b[0m                                 Traceback (most recent call last)",
      "\u001b[1;32m<ipython-input-13-e24474329eee>\u001b[0m in \u001b[0;36m<module>\u001b[1;34m\u001b[0m\n\u001b[1;32m----> 1\u001b[1;33m \u001b[0mmat\u001b[0m \u001b[1;33m=\u001b[0m \u001b[0mX\u001b[0m\u001b[1;33m.\u001b[0m\u001b[0mT\u001b[0m\u001b[1;33m.\u001b[0m\u001b[0mdot\u001b[0m\u001b[1;33m(\u001b[0m\u001b[0mX\u001b[0m\u001b[1;33m)\u001b[0m\u001b[1;33m\u001b[0m\u001b[0m\n\u001b[0m\u001b[0;32m      2\u001b[0m \u001b[0mmat\u001b[0m\u001b[1;33m\u001b[0m\u001b[0m\n",
      "\u001b[1;31mNameError\u001b[0m: name 'X' is not defined"
     ]
    }
   ],
   "source": [
    "mat = X.T.dot(X)\n",
    "mat"
   ]
  },
  {
   "cell_type": "code",
   "execution_count": null,
   "metadata": {},
   "outputs": [],
   "source": [
    "inv(mat)"
   ]
  },
  {
   "cell_type": "code",
   "execution_count": null,
   "metadata": {},
   "outputs": [],
   "source": [
    "mat.dot(inv(mat))"
   ]
  },
  {
   "cell_type": "code",
   "execution_count": null,
   "metadata": {},
   "outputs": [],
   "source": [
    "q, r = qr(mat)\n",
    "r"
   ]
  },
  {
   "cell_type": "markdown",
   "metadata": {},
   "source": [
    "Commonly used numpy.linalg functions\n",
    "Function | Description\n",
    "-------- | ----------\n",
    "diag | return the diagonal (or off-diagonal) elements of a square matrix as a 1D array, or convert a 1D array into a square matrix with zeros on the off-diagonal\n",
    "dot | Matrix multiplication\n",
    "trace | Compute the sum of the diagonal elements\n",
    "det | Compute the matrix determinant \n",
    "eig | Compute the eigenvalues and eigenvectors of a square matrix\n",
    "inv | Compute the inverse of a square matrix\n",
    "pinv | Compute the Moore-Penrose pseudo-inverse of a matrix\n",
    "qr | Compute the QR decomposition\n",
    "svd | Compute the singular value decomposition (SVD)\n",
    "solve | Solve the linear system Ax=b for x, where A is a square matrix\n",
    "lstsq | Compute the least-squares solution to Ax=b"
   ]
  },
  {
   "cell_type": "markdown",
   "metadata": {},
   "source": [
    "## Pseudorandom Number Generation\n",
    "The _numpy.random_ module supplements the built-in Python _random_ with functions for efficiently generating whole arrays of sample values from many kinds of probability distributions. For example: get a 4x4 array of samples from the standard normal distribution using normal:"
   ]
  },
  {
   "cell_type": "code",
   "execution_count": null,
   "metadata": {},
   "outputs": [],
   "source": [
    "samples = np.random.normal(size=(4, 4))\n",
    "samples"
   ]
  },
  {
   "cell_type": "markdown",
   "metadata": {},
   "source": [
    "numpy.random is faster than the Python built-in random module. And these are called _pseudorandom_ because they are generated by an algorithm with deterministic behavior based on the _seed_ of the random number generator. You can change NumPy's random number generation seed using __np.random.seed__:"
   ]
  },
  {
   "cell_type": "code",
   "execution_count": null,
   "metadata": {},
   "outputs": [],
   "source": [
    "np.random.seed(1234)"
   ]
  },
  {
   "cell_type": "markdown",
   "metadata": {},
   "source": [
    "The data generation functions in numpy.random use a global random seed. To avoid global state, you can use numpy.random.RandomState to create a random number generator isolated from others:"
   ]
  },
  {
   "cell_type": "code",
   "execution_count": null,
   "metadata": {},
   "outputs": [],
   "source": [
    "rng = np.random.RandomState(1234)"
   ]
  },
  {
   "cell_type": "code",
   "execution_count": null,
   "metadata": {},
   "outputs": [],
   "source": [
    "rng.randn(10)"
   ]
  },
  {
   "cell_type": "markdown",
   "metadata": {},
   "source": [
    "Partial list of functions available in numpy.random\n",
    "Funciton | Description\n",
    "-------- | -----------\n",
    "seed | Seed the random number generator\n",
    "permutation | Return a random permutation of a sequence, or return a permuted range\n",
    "shuffle | Randomly permute a sequence in-place\n",
    "rand | Draw samples from a uniform distribution\n",
    "randint | Draw random integers from a given low-to-high range\n",
    "randn | Draw samples from a normal distribution with mean 0 and standard deviation 1 (MATLAB-like interface)\n",
    "bionomial | Draw smaples from a binomial distribution\n",
    "normal | Draw smaples from a normal (Gaussian) distribution\n",
    "beta | Draw samples from a beta distribtuion\n",
    "chisquare | Draw samples from a chi-square distribution\n",
    "gamma | Draw samples from a gamma distribution\n",
    "uniform | Draw samples from a uniform [0, 1) distribution"
   ]
  },
  {
   "cell_type": "markdown",
   "metadata": {},
   "source": [
    "## Example: Random Walks\n",
    "A simple random walk starting at 0 with steps of 1 and -1 occurring with equal probability."
   ]
  },
  {
   "cell_type": "markdown",
   "metadata": {},
   "source": [
    "Here is a pure Python way to implement a single random walk with 1000 steps using the built-in random module:"
   ]
  },
  {
   "cell_type": "code",
   "execution_count": null,
   "metadata": {},
   "outputs": [],
   "source": [
    "import random\n",
    "position = 0\n",
    "walk = [position]\n",
    "steps = 1000\n",
    "for i in range(steps):\n",
    "    step = 1 if random.randint(0, 1) else -1    # 记住这种 if-else语句的用法\n",
    "    position += step\n",
    "    walk.append(position)\n",
    "\n",
    "    plt.plot(walk[:100])"
   ]
  },
  {
   "cell_type": "markdown",
   "metadata": {},
   "source": [
    "__walk__ is simply the cumulative sum of the random steps and could be evaluaed as an array expression. Thus, I use the np.random module to draw 1000 coin flips at once, set these to 1 and -1, and compue the cumulative sum:"
   ]
  },
  {
   "cell_type": "code",
   "execution_count": null,
   "metadata": {},
   "outputs": [],
   "source": [
    "nsteps = 1000\n",
    "draws = np.random.randint(0, 2, size=nsteps)    # randint: [low, high)    thus, 0 or 1\n",
    "steps = np.where(draws > 0, 1, -1)\n",
    "walk = steps.cumsum()\n",
    "walk.min()"
   ]
  },
  {
   "cell_type": "code",
   "execution_count": null,
   "metadata": {},
   "outputs": [],
   "source": [
    "walk.max()"
   ]
  },
  {
   "cell_type": "markdown",
   "metadata": {},
   "source": [
    "A more complicated statistic is the first crossing time, the step at which the random walk reaches a particular value. Here we might want to know how long it took the random walk to get at least 10 steps away from the origin 0 in either direction. np"
   ]
  },
  {
   "cell_type": "code",
   "execution_count": null,
   "metadata": {},
   "outputs": [],
   "source": [
    "(np.abs(walk) >= 10).argmax() # argmax return the first index of the maximum value."
   ]
  },
  {
   "cell_type": "markdown",
   "metadata": {},
   "source": [
    "### Simulating Many Random Walks at Once\n",
    "If we want to simulate 5000 of random walks. You can generate all of the random walks with minor modifications to the preceding code:"
   ]
  },
  {
   "cell_type": "code",
   "execution_count": null,
   "metadata": {},
   "outputs": [],
   "source": [
    "nwalks = 5000\n",
    "nsteps = 1000\n",
    "draws = np.random.randint(0, 2, size=(nwalks, nsteps)) # 0 or 1\n",
    "steps = np.where(draws > 0, 1, -1)\n",
    "walks = steps.cumsum(1)    #calculate sum along rows\n",
    "walks"
   ]
  },
  {
   "cell_type": "markdown",
   "metadata": {},
   "source": [
    "Now we can compute the maximum and minimum values obtained over all of the walks:"
   ]
  },
  {
   "cell_type": "code",
   "execution_count": null,
   "metadata": {},
   "outputs": [],
   "source": [
    "walks.max()"
   ]
  },
  {
   "cell_type": "code",
   "execution_count": null,
   "metadata": {},
   "outputs": [],
   "source": [
    "walks.min()"
   ]
  },
  {
   "cell_type": "markdown",
   "metadata": {},
   "source": [
    "Out of the walks, let's compute the minimum crossing time to 30 or -30. This is slightly tricky since not all 5000 of the reach 30:"
   ]
  },
  {
   "cell_type": "code",
   "execution_count": 14,
   "metadata": {},
   "outputs": [
    {
     "ename": "NameError",
     "evalue": "name 'walks' is not defined",
     "output_type": "error",
     "traceback": [
      "\u001b[1;31m---------------------------------------------------------------------------\u001b[0m",
      "\u001b[1;31mNameError\u001b[0m                                 Traceback (most recent call last)",
      "\u001b[1;32m<ipython-input-14-9ebcc9be5613>\u001b[0m in \u001b[0;36m<module>\u001b[1;34m\u001b[0m\n\u001b[1;32m----> 1\u001b[1;33m \u001b[0mhits30\u001b[0m \u001b[1;33m=\u001b[0m \u001b[1;33m(\u001b[0m\u001b[0mnp\u001b[0m\u001b[1;33m.\u001b[0m\u001b[0mabs\u001b[0m\u001b[1;33m(\u001b[0m\u001b[0mwalks\u001b[0m\u001b[1;33m)\u001b[0m \u001b[1;33m>=\u001b[0m \u001b[1;36m30\u001b[0m\u001b[1;33m)\u001b[0m\u001b[1;33m.\u001b[0m\u001b[0many\u001b[0m\u001b[1;33m(\u001b[0m\u001b[1;36m1\u001b[0m\u001b[1;33m)\u001b[0m\u001b[1;33m\u001b[0m\u001b[0m\n\u001b[0m\u001b[0;32m      2\u001b[0m \u001b[0mhits30\u001b[0m\u001b[1;33m\u001b[0m\u001b[0m\n",
      "\u001b[1;31mNameError\u001b[0m: name 'walks' is not defined"
     ]
    }
   ],
   "source": [
    "hits30 = (np.abs(walks) >= 30).any(1)\n",
    "hits30"
   ]
  },
  {
   "cell_type": "code",
   "execution_count": null,
   "metadata": {},
   "outputs": [],
   "source": [
    "hits30.sum()"
   ]
  },
  {
   "cell_type": "markdown",
   "metadata": {},
   "source": [
    "We can use this boolean array to select out the rows of walks that actually cross the absolute 30 level and call argmax across axis 1 to get the crossing times:"
   ]
  },
  {
   "cell_type": "code",
   "execution_count": null,
   "metadata": {},
   "outputs": [],
   "source": [
    "crossing_times = (np.abs(walks[hits30]) >= 30).argmax(1)\n",
    "crossing_times.mean()"
   ]
  },
  {
   "cell_type": "markdown",
   "metadata": {},
   "source": [
    "# Getting Started with pandas\n",
    "pandas contanis data structures and data manipulation tools designed to make data cleaning and analysis fast and easy in Python. pandas is often used in tandem with numerical computing tools like NumPy and SciPy, analytical libraries like statsmodels and scikit-learn, and data visualization libraries like matplotlib. pandas adopts significant parts of NumPy's idiomatic style of array-based computing, especially array-based functions and a preference for data processing without for loops.\n",
    "\n",
    "The biggest difference is that pandas is designed for working with __tabular__ or __heterogeneous__ data. NumPy, by contrast, is best suited for working with __homogeneous numerical__ array data."
   ]
  },
  {
   "cell_type": "markdown",
   "metadata": {},
   "source": [
    "Use the following convention for importing pandas:"
   ]
  },
  {
   "cell_type": "code",
<<<<<<< HEAD
   "execution_count": 2,
=======
   "execution_count": null,
>>>>>>> 542f9a493fa9951c0563f1ec539698d0cce14df4
   "metadata": {},
   "outputs": [],
   "source": [
    "import pandas as pd"
   ]
  },
  {
   "cell_type": "markdown",
   "metadata": {},
   "source": [
    "It is convenient to also import Series and DataFrame into the local namespace since they are so frequently used:"
   ]
  },
  {
   "cell_type": "code",
<<<<<<< HEAD
   "execution_count": 3,
=======
   "execution_count": null,
>>>>>>> 542f9a493fa9951c0563f1ec539698d0cce14df4
   "metadata": {},
   "outputs": [],
   "source": [
    "from pandas import Series, DataFrame"
   ]
  },
  {
   "cell_type": "markdown",
   "metadata": {},
   "source": [
    "## Introduction to pandas Data Structures\n",
    "pandas's two most commonly used data structures:\n",
    " * Series\n",
    " * DataFrame\n",
    "\n",
    "They provide a solid, easy-to-use basis for most applications.\n",
    "### Series\n",
    "A Series is a one-dimensional array-like object containing a sequence of values (of similar types to NumPy types) and an associated array of data labels, called its _index_. The simplest Series is formed only an array of data:"
   ]
  },
  {
   "cell_type": "code",
   "execution_count": null,
   "metadata": {},
   "outputs": [],
   "source": [
    "obj = pd.Series([4, 2, 3, -8, 'e'])\n",
    "obj"
   ]
  },
  {
   "cell_type": "code",
   "execution_count": null,
   "metadata": {},
   "outputs": [],
   "source": [
    "obj.index = ['d', 'b', 'a', 'c', 'e']    # add index after the creation of the series.\n",
    "obj"
   ]
  },
  {
   "cell_type": "markdown",
   "metadata": {},
   "source": [
    "The indices are on the left and the values on the right. A default index consisting integers 0 to N-1 will be created if we didn't specify one.\n",
    "\n",
    "You can get the array representation and index object of the Series via its values and index attributes, respectively:"
   ]
  },
  {
   "cell_type": "code",
   "execution_count": null,
   "metadata": {},
   "outputs": [],
   "source": [
    "obj.values"
   ]
  },
  {
   "cell_type": "code",
   "execution_count": null,
   "metadata": {},
   "outputs": [],
   "source": [
    "obj.index"
   ]
  },
  {
   "cell_type": "code",
   "execution_count": null,
   "metadata": {},
   "outputs": [],
   "source": [
    "obj[obj > 0]    # obj 含有string 所以不可以这样运行。"
   ]
  },
  {
   "cell_type": "markdown",
   "metadata": {},
   "source": [
    "Often it will be desirable to create a Series with an index identifying each data point with a label:"
   ]
  },
  {
   "cell_type": "code",
   "execution_count": null,
   "metadata": {},
   "outputs": [],
   "source": [
    "another_Series = pd.Series([4, 2, 3, -8], index=['d', 'b', 'a', 'c'])\n",
    "another_Series"
   ]
  },
  {
   "cell_type": "code",
   "execution_count": null,
   "metadata": {},
   "outputs": [],
   "source": [
    "another_Series.index"
   ]
  },
  {
   "cell_type": "code",
   "execution_count": null,
   "metadata": {},
   "outputs": [],
   "source": [
    "another_Series.values"
   ]
  },
  {
   "cell_type": "markdown",
   "metadata": {},
   "source": [
    "Indices can be used to select a single value or a set of values from a Series"
   ]
  },
  {
   "cell_type": "code",
   "execution_count": null,
   "metadata": {},
   "outputs": [],
   "source": [
    "another_Series['a']"
   ]
  },
  {
   "cell_type": "code",
   "execution_count": null,
   "metadata": {},
   "outputs": [],
   "source": [
    "another_Series[['a', 'b', 'c']]"
   ]
  },
  {
   "cell_type": "markdown",
   "metadata": {},
   "source": [
    "Here, ['a', 'b', 'c'] is considered a list of indices."
   ]
  },
  {
   "cell_type": "markdown",
   "metadata": {},
   "source": [
    "Using NumPy functions or NumPy-like operations, such as filtering with a boolean array, scalar multiplication, or applying math functions, will preserve the index-value link:"
   ]
  },
  {
   "cell_type": "code",
   "execution_count": null,
   "metadata": {},
   "outputs": [],
   "source": [
    "another_Series[another_Series > 0]"
   ]
  },
  {
   "cell_type": "code",
   "execution_count": 15,
   "metadata": {},
   "outputs": [
    {
     "ename": "NameError",
     "evalue": "name 'another_Series' is not defined",
     "output_type": "error",
     "traceback": [
      "\u001b[1;31m---------------------------------------------------------------------------\u001b[0m",
      "\u001b[1;31mNameError\u001b[0m                                 Traceback (most recent call last)",
      "\u001b[1;32m<ipython-input-15-094f7a74b83a>\u001b[0m in \u001b[0;36m<module>\u001b[1;34m\u001b[0m\n\u001b[1;32m----> 1\u001b[1;33m \u001b[0manother_Series\u001b[0m \u001b[1;33m*\u001b[0m \u001b[1;36m2\u001b[0m\u001b[1;33m\u001b[0m\u001b[0m\n\u001b[0m",
      "\u001b[1;31mNameError\u001b[0m: name 'another_Series' is not defined"
     ]
    }
   ],
   "source": [
    "another_Series * 2"
   ]
  },
  {
   "cell_type": "code",
   "execution_count": null,
   "metadata": {},
   "outputs": [],
   "source": [
    "np.exp(another_Series)    # e**(another_Series)"
   ]
  },
  {
   "cell_type": "markdown",
   "metadata": {},
   "source": [
    "Another way to think about a Series is a __fix-length__, __ordered__ dict, as it is a mapping of index values to data values. It can be used in many contexts where you might use a dict:"
   ]
  },
  {
   "cell_type": "code",
   "execution_count": null,
   "metadata": {},
   "outputs": [],
   "source": [
    "'b' in another_Series"
   ]
  },
  {
   "cell_type": "code",
   "execution_count": null,
   "metadata": {},
   "outputs": [],
   "source": [
    "'e' in another_Series"
   ]
  },
  {
   "cell_type": "markdown",
   "metadata": {},
   "source": [
    "Should you have data contained in a Python dict, you can create a Series from it by passing the dict:"
   ]
  },
  {
   "cell_type": "code",
   "execution_count": null,
   "metadata": {},
   "outputs": [],
   "source": [
    "sdata = {'Ohio': 95000, 'Texas': 71000, 'Oregon': 16000, 'Utah': 5000}\n",
    "series3 = pd.Series(sdata)\n",
    "series3"
   ]
  },
  {
   "cell_type": "markdown",
   "metadata": {},
   "source": [
    "When you are only passing a dict, the index in the resulting Series will have the dict's keys in sorted order. You can __override__ this by passing the dict keys in the order you want them to appear in the resulting Series:"
   ]
  },
  {
   "cell_type": "code",
   "execution_count": null,
   "metadata": {},
   "outputs": [],
   "source": [
    "states = ['California', 'Ohio', 'Oregon', 'Texas']\n",
    "series4 = pd.Series(sdata, index= states)\n",
    "series4"
   ]
  },
  {
   "cell_type": "markdown",
   "metadata": {},
   "source": [
    "Pay attention to the above, three values found in _sdata_ were placed in the appropriate locations, but since no value for 'California' was found, it appears as NaN (not a number), which is considered in pandas to mark missing or NA values. Since 'Utah' was not included in _states_, it is excluded from the resulting object."
   ]
  },
  {
   "cell_type": "markdown",
   "metadata": {},
   "source": [
    "'misssing' or 'NA' are interchangeably used here to refer missing data. The __isnull__ and __notnull__ functions in pandas should be used to detect missing data:"
   ]
  },
  {
   "cell_type": "code",
   "execution_count": null,
   "metadata": {},
   "outputs": [],
   "source": [
    "pd.isnull(series4)"
   ]
  },
  {
   "cell_type": "code",
   "execution_count": null,
   "metadata": {},
   "outputs": [],
   "source": [
    "pd.notnull(series4)"
   ]
  },
  {
   "cell_type": "code",
   "execution_count": null,
   "metadata": {},
   "outputs": [],
   "source": [
    "sum(pd.notnull(series4))"
   ]
  },
  {
   "cell_type": "markdown",
   "metadata": {},
   "source": [
    "Series also has these as instance method:"
   ]
  },
  {
   "cell_type": "code",
   "execution_count": null,
   "metadata": {},
   "outputs": [],
   "source": [
    "series4.isnull()"
   ]
  },
  {
   "cell_type": "code",
   "execution_count": null,
   "metadata": {},
   "outputs": [],
   "source": [
    "series4.notnull()"
   ]
  },
  {
   "cell_type": "markdown",
   "metadata": {},
   "source": [
    "A useful Series feature for many applications is that it automatically aligns by index label in arithmetic operations:"
   ]
  },
  {
   "cell_type": "code",
   "execution_count": null,
   "metadata": {},
   "outputs": [],
   "source": [
    "series3"
   ]
  },
  {
   "cell_type": "code",
   "execution_count": null,
   "metadata": {},
   "outputs": [],
   "source": [
    "series4"
   ]
  },
  {
   "cell_type": "code",
   "execution_count": null,
   "metadata": {},
   "outputs": [],
   "source": [
    "series3 + series4   # values from the same index are added together, and ordered by index ASC"
   ]
  },
  {
   "cell_type": "markdown",
   "metadata": {},
   "source": [
    "Both the Series object itself and its index have a __name__ attribute, which integrates with other key areas of pandas functionality."
   ]
  },
  {
   "cell_type": "code",
   "execution_count": null,
   "metadata": {},
   "outputs": [],
   "source": [
    "series3.name = 'population'\n",
    "series3.index.name = 'state'"
   ]
  },
  {
   "cell_type": "code",
   "execution_count": null,
   "metadata": {},
   "outputs": [],
   "source": [
    "series3"
   ]
  },
  {
   "cell_type": "markdown",
   "metadata": {},
   "source": [
    "A Series's index can be altered in-place by assignment:"
   ]
  },
  {
   "cell_type": "code",
   "execution_count": 16,
   "metadata": {},
   "outputs": [
    {
     "ename": "NameError",
     "evalue": "name 'pd' is not defined",
     "output_type": "error",
     "traceback": [
      "\u001b[1;31m---------------------------------------------------------------------------\u001b[0m",
      "\u001b[1;31mNameError\u001b[0m                                 Traceback (most recent call last)",
      "\u001b[1;32m<ipython-input-16-9c197f8d2b67>\u001b[0m in \u001b[0;36m<module>\u001b[1;34m\u001b[0m\n\u001b[1;32m----> 1\u001b[1;33m \u001b[0mobj\u001b[0m \u001b[1;33m=\u001b[0m \u001b[0mpd\u001b[0m\u001b[1;33m.\u001b[0m\u001b[0mSeries\u001b[0m\u001b[1;33m(\u001b[0m\u001b[1;33m[\u001b[0m\u001b[1;36m4\u001b[0m\u001b[1;33m,\u001b[0m \u001b[1;36m3\u001b[0m\u001b[1;33m,\u001b[0m \u001b[1;36m3\u001b[0m\u001b[1;33m,\u001b[0m \u001b[1;33m-\u001b[0m\u001b[1;36m8\u001b[0m\u001b[1;33m]\u001b[0m\u001b[1;33m,\u001b[0m \u001b[0mindex\u001b[0m\u001b[1;33m=\u001b[0m\u001b[1;33m[\u001b[0m\u001b[1;34m'd'\u001b[0m\u001b[1;33m,\u001b[0m \u001b[1;34m'b'\u001b[0m\u001b[1;33m,\u001b[0m \u001b[1;34m'a'\u001b[0m\u001b[1;33m,\u001b[0m \u001b[1;34m'c'\u001b[0m\u001b[1;33m]\u001b[0m\u001b[1;33m)\u001b[0m\u001b[1;33m\u001b[0m\u001b[0m\n\u001b[0m",
      "\u001b[1;31mNameError\u001b[0m: name 'pd' is not defined"
     ]
    }
   ],
   "source": [
    "obj = pd.Series([4, 3, 3, -8], index=['d', 'b', 'a', 'c'])"
   ]
  },
  {
   "cell_type": "code",
   "execution_count": null,
   "metadata": {},
   "outputs": [],
   "source": [
    "obj.index = ['Bob', 'Steve', 'Jeff', 'Ryan']\n",
    "obj"
   ]
  },
  {
   "cell_type": "markdown",
   "metadata": {},
   "source": [
    "### DataFrame"
   ]
  },
  {
   "cell_type": "markdown",
   "metadata": {},
   "source": [
    "A DataFrame represents a rectangular table of data and contains an ordered collection of columns, each of which can be a different value type (numeric, string, boolean, etc.). The DataFrame has both a __row__ and __column__ index; it can be thought of as a dict of Series all sharing the same index. (dict的key是column index； Series的key是row index。相当于把dict转置后做成一个DataFrame。)\n",
    "\n",
    "Under the hood, the data is stored as one or more __two-dimentional blocks__ rather than a list, dict, or some other colliction of one-dimentional arrays."
   ]
  },
  {
   "cell_type": "markdown",
   "metadata": {},
   "source": [
    "The most common way to construct a DataFrame is from a dict of equal-length lists or NumPy arrays:"
   ]
  },
  {
   "cell_type": "code",
   "execution_count": null,
   "metadata": {},
   "outputs": [],
   "source": [
    "data = {'state': ['Ohio', 'Ohio', 'Ohio', 'Nevada', 'Nevada', 'Nevada'], \n",
    "       'year': [2000, 2001, 2002, 2001, 2002, 2003],\n",
    "       'pop': [1.5, 1.7, 3.6, 2.4, 2.9, 3.2]}\n",
    "frame = pd.DataFrame(data)\n",
    "frame"
   ]
  },
  {
   "cell_type": "markdown",
   "metadata": {},
   "source": [
    "For large DataFrames, the __head__ method selects only the first five rows:"
   ]
  },
  {
   "cell_type": "code",
   "execution_count": null,
   "metadata": {},
   "outputs": [],
   "source": [
    "frame.head()"
   ]
  },
  {
   "cell_type": "markdown",
   "metadata": {},
   "source": [
    "If you specify a sequence of columns, the DataFrame's columns will be arranged in that order:"
   ]
  },
  {
   "cell_type": "code",
   "execution_count": null,
   "metadata": {},
   "outputs": [],
   "source": [
    "pd.DataFrame(data, columns=['year', 'state', 'pop'])"
   ]
  },
  {
   "cell_type": "markdown",
   "metadata": {},
   "source": [
    "If you pass a column that isn't contained in the dict, it will appear with missing values in the results:"
   ]
  },
  {
   "cell_type": "code",
   "execution_count": null,
   "metadata": {},
   "outputs": [],
   "source": [
    "frame2 = pd.DataFrame(data, columns=['year', 'state', 'pop', 'debt'])\n",
    "frame2"
   ]
  },
  {
   "cell_type": "markdown",
   "metadata": {},
   "source": [
    "Index can be manually created:"
   ]
  },
  {
   "cell_type": "code",
   "execution_count": null,
   "metadata": {},
   "outputs": [],
   "source": [
    "frame2 = pd.DataFrame(data, columns=['year', 'state', 'pop', 'debt'], index=['one', 'two', 'three', 'four', 'five', 'six'])\n",
    "frame2"
   ]
  },
  {
   "cell_type": "markdown",
   "metadata": {},
   "source": [
    "DataFrame has the conventional methods to view the column's names:"
   ]
  },
  {
   "cell_type": "code",
   "execution_count": null,
   "metadata": {},
   "outputs": [],
   "source": [
    "frame2.columns"
   ]
  },
  {
   "cell_type": "markdown",
   "metadata": {},
   "source": [
    "A column in a DataFrame can be retrived as a Series either by __dict-like__ notation or by __attribute__:"
   ]
  },
  {
   "cell_type": "code",
   "execution_count": null,
   "metadata": {},
   "outputs": [],
   "source": [
    "frame2['state']"
   ]
  },
  {
   "cell_type": "code",
   "execution_count": null,
   "metadata": {},
   "outputs": [],
   "source": [
    "frame2.year"
   ]
  },
  {
   "cell_type": "markdown",
   "metadata": {},
   "source": [
    "_frame2[column]_ works for any column name, but _frame2.column_ only works when the column name is a valid Python variable name. (此处不理解valid python variable name的valid是啥意思。)\n",
    "\n",
    "Note that the returned Series have the same idnex as the DataFrame, and their name attribute has been appropriately set.\n",
    "\n",
    "Rows can also be retrieved by position or name with the special __loc__ attribute:"
   ]
  },
  {
   "cell_type": "code",
   "execution_count": null,
   "metadata": {},
   "outputs": [],
   "source": [
    "frame2.loc['three']"
   ]
  },
  {
   "cell_type": "markdown",
   "metadata": {},
   "source": [
    "Columns can be modified by assignment:"
   ]
  },
  {
   "cell_type": "code",
   "execution_count": null,
   "metadata": {},
   "outputs": [],
   "source": [
    "frame2.debt = 16.5\n",
    "frame2"
   ]
  },
  {
   "cell_type": "code",
   "execution_count": null,
   "metadata": {},
   "outputs": [],
   "source": [
    "frame2['debt'] = np.arange(6.)\n",
    "frame2"
   ]
  },
  {
   "cell_type": "markdown",
   "metadata": {},
   "source": [
    "When assigning __lists__ or __arrays__ to a column, the value's length must match the length of the DataFrame. If assigning a __Series__, its labels will be realigned exactly to the DataFrame's index, inserting missing values in any holes:"
   ]
  },
  {
   "cell_type": "code",
   "execution_count": 17,
   "metadata": {},
   "outputs": [
    {
     "ename": "NameError",
     "evalue": "name 'pd' is not defined",
     "output_type": "error",
     "traceback": [
      "\u001b[1;31m---------------------------------------------------------------------------\u001b[0m",
      "\u001b[1;31mNameError\u001b[0m                                 Traceback (most recent call last)",
      "\u001b[1;32m<ipython-input-17-fff392355991>\u001b[0m in \u001b[0;36m<module>\u001b[1;34m\u001b[0m\n\u001b[1;32m----> 1\u001b[1;33m \u001b[0mval\u001b[0m \u001b[1;33m=\u001b[0m \u001b[0mpd\u001b[0m\u001b[1;33m.\u001b[0m\u001b[0mSeries\u001b[0m\u001b[1;33m(\u001b[0m\u001b[1;33m[\u001b[0m\u001b[1;33m-\u001b[0m\u001b[1;36m1.2\u001b[0m\u001b[1;33m,\u001b[0m \u001b[1;33m-\u001b[0m\u001b[1;36m1.5\u001b[0m\u001b[1;33m,\u001b[0m \u001b[1;33m-\u001b[0m\u001b[1;36m1.7\u001b[0m\u001b[1;33m]\u001b[0m\u001b[1;33m,\u001b[0m \u001b[0mindex\u001b[0m\u001b[1;33m=\u001b[0m\u001b[1;33m[\u001b[0m\u001b[1;34m'two'\u001b[0m\u001b[1;33m,\u001b[0m \u001b[1;34m'four'\u001b[0m\u001b[1;33m,\u001b[0m \u001b[1;34m'five'\u001b[0m\u001b[1;33m]\u001b[0m\u001b[1;33m)\u001b[0m\u001b[1;33m\u001b[0m\u001b[0m\n\u001b[0m\u001b[0;32m      2\u001b[0m \u001b[0mframe2\u001b[0m\u001b[1;33m[\u001b[0m\u001b[1;34m'debt'\u001b[0m\u001b[1;33m]\u001b[0m \u001b[1;33m=\u001b[0m \u001b[0mval\u001b[0m\u001b[1;33m\u001b[0m\u001b[0m\n\u001b[0;32m      3\u001b[0m \u001b[0mframe2\u001b[0m\u001b[1;33m\u001b[0m\u001b[0m\n",
      "\u001b[1;31mNameError\u001b[0m: name 'pd' is not defined"
     ]
    }
   ],
   "source": [
    "val = pd.Series([-1.2, -1.5, -1.7], index=['two', 'four', 'five'])\n",
    "frame2['debt'] = val\n",
    "frame2"
   ]
  },
  {
   "cell_type": "markdown",
   "metadata": {},
   "source": [
    "Assigning a column that doesn't exist will create a new column. The __del__ keyword will delete columns as with a dict."
   ]
  },
  {
   "cell_type": "markdown",
   "metadata": {},
   "source": [
    "First add a new column of boolean values where the _state_ column equals 'Ohio', __frame2.column__ couldn't be used when creating a new column:"
   ]
  },
  {
   "cell_type": "code",
   "execution_count": null,
   "metadata": {},
   "outputs": [],
   "source": [
    "frame2['eastern'] = frame2.state == 'Ohio'\n",
    "frame2"
   ]
  },
  {
   "cell_type": "markdown",
   "metadata": {},
   "source": [
    "The __del__ method can then be used to remove this column:"
   ]
  },
  {
   "cell_type": "code",
   "execution_count": null,
   "metadata": {},
   "outputs": [],
   "source": [
    "del frame2['eastern']\n",
    "frame2"
   ]
  },
  {
   "cell_type": "markdown",
   "metadata": {},
   "source": [
    "The column returned from indexing a DataFrame is a _view_ on the underlying data, not a copy. Thus, __any in-place modifications to the Series will be reflected in the DataFrame__. The column can be explicitly copied with the Series's _copy_ method."
   ]
  },
  {
   "cell_type": "markdown",
   "metadata": {},
   "source": [
    "Another common form of data is a nested dict of dicts:"
   ]
  },
  {
   "cell_type": "code",
   "execution_count": null,
   "metadata": {},
   "outputs": [],
   "source": [
    "pop = {'Nevada': {2001: 2.4, 2002: 2.9}, 'Ohio': {2000: 1.5, 2001: 1.7, 2002: 3.6}}\n",
    "pop"
   ]
  },
  {
   "cell_type": "markdown",
   "metadata": {},
   "source": [
    "If this nested dict is passed to the DataFrame, pandas will interpret the outer dict keys as the columns and the inner keys as the row indices:"
   ]
  },
  {
   "cell_type": "code",
   "execution_count": null,
   "metadata": {},
   "outputs": [],
   "source": [
    "frame3 = pd.DataFrame(pop)\n",
    "frame3"
   ]
  },
  {
   "cell_type": "markdown",
   "metadata": {},
   "source": [
    "DataFrame can be transposed with similar syntax to a NumPy array:"
   ]
  },
  {
   "cell_type": "code",
   "execution_count": null,
   "metadata": {},
   "outputs": [],
   "source": [
    "frame3.T"
   ]
  },
  {
   "cell_type": "markdown",
   "metadata": {},
   "source": [
    "The keys in the inner dicts are combined and sorted to form the index in the result. This isn't true if an explicit index is specified:"
   ]
  },
  {
   "cell_type": "code",
   "execution_count": null,
   "metadata": {},
   "outputs": [],
   "source": [
    "pd.DataFrame(pop, index=[2001, 2002, 2003])    #书上原文命令，执行出错，可能是新版Python语法有改动"
   ]
  },
  {
   "cell_type": "markdown",
   "metadata": {},
   "source": [
    "Dicts of Series are treated in much the same way:"
   ]
  },
  {
   "cell_type": "code",
   "execution_count": null,
   "metadata": {},
   "outputs": [],
   "source": [
    "pdata = {'Ohio': frame3['Ohio'][:-1],\n",
    "        'Nevada': frame3['Nevada'][:2]}\n",
    "pd.DataFrame(pdata)"
   ]
  },
  {
   "cell_type": "markdown",
   "metadata": {},
   "source": [
    "If a DataFrame's _index_ and _columns_ have their _name_ attributes set, these will also be displayed:"
   ]
  },
  {
   "cell_type": "code",
   "execution_count": null,
   "metadata": {},
   "outputs": [],
   "source": [
    "frame3.index.name = 'year'; frame3.columns.name = 'state'\n",
    "frame3"
   ]
  },
  {
   "cell_type": "markdown",
   "metadata": {},
   "source": [
    "As with Series, the _values_ attribute returns the data contained in the DataFrame as a two-dimensional ndarray:"
   ]
  },
  {
   "cell_type": "code",
   "execution_count": null,
   "metadata": {},
   "outputs": [],
   "source": [
    "frame3.values"
   ]
  },
  {
   "cell_type": "markdown",
   "metadata": {},
   "source": [
    "If the DataFrame's columns are different dtypes, the dtype of the values array will be chosen to accommodata all of the columns:"
   ]
  },
  {
   "cell_type": "code",
   "execution_count": null,
   "metadata": {},
   "outputs": [],
   "source": [
    "frame2.values"
   ]
  },
  {
   "cell_type": "markdown",
   "metadata": {},
   "source": [
    "Possible data inputs to DataFrame constructor\n",
    "Type | Notes\n",
    "----- | -----\n",
    "2D ndarray | A matrix of data, passing optional row and column labels\n",
    "dict of arrays, lists, or tuples | Each sequence becomes a column in th DataFrame; all sequences must be the same length\n",
    "NumPy structured / record array | Treated as the \"dict of arrays\" case\n",
    "dict of Series | Each value(Series) becomes a column; indexes from each Series are unioned together to form the result's row index if no explicit index is passed\n",
    "dict of dicts | Each inner dict becomes a column; keys are unioned to form the row index as in the \"dict of Series\" case\n",
    "List of dicts or Series | Each item becomes a row in the DataFrame; union of dict keys or Series indexes become the DataFrame's column labels\n",
    "List of lists or tuples | Treated as the \"2D ndarray\" case\n",
    "Another DataFrame | The DataFrame's indexes are used unless different ones are passed\n",
    "NumPy MaskedArray | Like the \"2D ndarray\" case except masked values become NA/missing in the DataFrame result"
   ]
  },
  {
   "cell_type": "markdown",
   "metadata": {},
   "source": [
    "### Index Objects\n",
    "pandas's Index objects are responsible for holding the axis labels and other metadata (like the axis name or names). Any array or other sequence of labels you use when constructing a Series or DataFrame is internally converted to an Index:"
   ]
  },
  {
   "cell_type": "code",
   "execution_count": 18,
   "metadata": {},
   "outputs": [
    {
     "ename": "NameError",
     "evalue": "name 'pd' is not defined",
     "output_type": "error",
     "traceback": [
      "\u001b[1;31m---------------------------------------------------------------------------\u001b[0m",
      "\u001b[1;31mNameError\u001b[0m                                 Traceback (most recent call last)",
      "\u001b[1;32m<ipython-input-18-5a1d0d467b0f>\u001b[0m in \u001b[0;36m<module>\u001b[1;34m\u001b[0m\n\u001b[1;32m----> 1\u001b[1;33m \u001b[0mobj\u001b[0m \u001b[1;33m=\u001b[0m \u001b[0mpd\u001b[0m\u001b[1;33m.\u001b[0m\u001b[0mSeries\u001b[0m\u001b[1;33m(\u001b[0m\u001b[0mrange\u001b[0m\u001b[1;33m(\u001b[0m\u001b[1;36m3\u001b[0m\u001b[1;33m)\u001b[0m\u001b[1;33m,\u001b[0m \u001b[0mindex\u001b[0m\u001b[1;33m=\u001b[0m\u001b[1;33m[\u001b[0m\u001b[1;34m'a'\u001b[0m\u001b[1;33m,\u001b[0m \u001b[1;34m'b'\u001b[0m\u001b[1;33m,\u001b[0m \u001b[1;34m'c'\u001b[0m\u001b[1;33m]\u001b[0m\u001b[1;33m)\u001b[0m\u001b[1;33m\u001b[0m\u001b[0m\n\u001b[0m\u001b[0;32m      2\u001b[0m \u001b[0mindex\u001b[0m \u001b[1;33m=\u001b[0m \u001b[0mobj\u001b[0m\u001b[1;33m.\u001b[0m\u001b[0mindex\u001b[0m\u001b[1;33m\u001b[0m\u001b[0m\n\u001b[0;32m      3\u001b[0m \u001b[0mindex\u001b[0m\u001b[1;33m\u001b[0m\u001b[0m\n",
      "\u001b[1;31mNameError\u001b[0m: name 'pd' is not defined"
     ]
    }
   ],
   "source": [
    "obj = pd.Series(range(3), index=['a', 'b', 'c'])\n",
    "index = obj.index\n",
    "index"
   ]
  },
  {
   "cell_type": "code",
   "execution_count": null,
   "metadata": {},
   "outputs": [],
   "source": [
    "index[1:]"
   ]
  },
  {
   "cell_type": "markdown",
   "metadata": {},
   "source": [
    "Index objects are __immutable__ and thus can't be modified by the user:"
   ]
  },
  {
   "cell_type": "code",
   "execution_count": null,
   "metadata": {},
   "outputs": [],
   "source": [
    "index[1] = 'd'"
   ]
  },
  {
   "cell_type": "markdown",
   "metadata": {},
   "source": [
    "Immutability makes it safer to share Index objects among data structures:"
   ]
  },
  {
   "cell_type": "code",
   "execution_count": null,
   "metadata": {},
   "outputs": [],
   "source": [
    "labels = pd.Index(np.arange(3))\n",
    "labels"
   ]
  },
  {
   "cell_type": "code",
   "execution_count": null,
   "metadata": {},
   "outputs": [],
   "source": [
    "obj2 = pd.Series([1.5, -2.5, 0], index=labels)\n",
    "obj2"
   ]
  },
  {
   "cell_type": "code",
   "execution_count": null,
   "metadata": {},
   "outputs": [],
   "source": [
    "obj2.index is labels"
   ]
  },
  {
   "cell_type": "markdown",
   "metadata": {},
   "source": [
    "In addition to being array-like, an Index also behaves like a fixed-size set:"
   ]
  },
  {
   "cell_type": "code",
   "execution_count": null,
   "metadata": {},
   "outputs": [],
   "source": [
    "frame3"
   ]
  },
  {
   "cell_type": "code",
   "execution_count": null,
   "metadata": {},
   "outputs": [],
   "source": [
    "frame3.columns"
   ]
  },
  {
   "cell_type": "code",
   "execution_count": null,
   "metadata": {},
   "outputs": [],
   "source": [
    "'Ohio' in frame3.columns"
   ]
  },
  {
   "cell_type": "code",
   "execution_count": null,
   "metadata": {},
   "outputs": [],
   "source": [
    "2003 in frame3.columns"
   ]
  },
  {
   "cell_type": "markdown",
   "metadata": {},
   "source": [
    "Unlike Python sets, a pandas Index can contain duplicate labels:"
   ]
  },
  {
   "cell_type": "code",
   "execution_count": null,
   "metadata": {},
   "outputs": [],
   "source": [
    "dup_labels = pd.Index(['foo', 'foo', 'bar', 'bar'])\n",
    "dup_labels"
   ]
  },
  {
   "cell_type": "markdown",
   "metadata": {},
   "source": [
    "Selections with duplicate labels will select all occurrences of that label."
   ]
  },
  {
   "cell_type": "markdown",
   "metadata": {},
   "source": [
    "Each Index has a number of methods and properties for set logic, which answer other common questions about the data it contains. Some useful ones are summarized here:"
   ]
  },
  {
   "cell_type": "markdown",
   "metadata": {},
   "source": [
    "Some Index methods and properties\n",
    "Method | Description\n",
    "----- | -----\n",
    "append | Concatenate with additional Index objects, producing a new Index\n",
    "difference | Compute set difference as an Index\n",
    "intersection | Compute set intersection\n",
    "union | Compute set union\n",
    "isin | Compute boolean array indicating whether each value is contained in the passed collection\n",
    "delete | Compute new Index with element at index i deleted\n",
    "drop | Compute new Index by deleting passed values\n",
    "insert | Compute new Index by inserting element at index i\n",
    "is_monotonic | Returns True if each element is greater than or equal to the previous element\n",
    "is_unique | Returns True if the Index has no duplicate values\n",
    "unique | Compute the array of unique values in the Index"
   ]
  },
  {
   "cell_type": "markdown",
   "metadata": {},
   "source": [
    "## Essential Functionality\n",
    "### Reindexing  按指定顺序重新排序\n",
    "It is an important method on pandas objects, which means to create a new object with the data _conformed_ to a new index. Consider an example:"
   ]
  },
  {
   "cell_type": "code",
   "execution_count": null,
   "metadata": {},
   "outputs": [],
   "source": [
    "obj = pd.Series([4.5, 7.2, -5.3, 3.6], index=['d', 'b', 'a', 'c'])\n",
    "obj"
   ]
  },
  {
   "cell_type": "code",
   "execution_count": null,
   "metadata": {},
   "outputs": [],
   "source": [
    "obj2 = obj.reindex(['a', 'b', 'c', 'd', 'e'])    # reorder the values by the new index\n",
    "obj2"
   ]
  },
  {
   "cell_type": "markdown",
   "metadata": {},
   "source": [
    "For ordered data like time series, it may be desirable to do some interpolation or filling of values when reindexing. The _method_ option allows us to do this, using a method such as _ffill_, which __forward-fills__ the values:"
   ]
  },
  {
   "cell_type": "code",
   "execution_count": 19,
   "metadata": {},
   "outputs": [
    {
     "ename": "NameError",
     "evalue": "name 'pd' is not defined",
     "output_type": "error",
     "traceback": [
      "\u001b[1;31m---------------------------------------------------------------------------\u001b[0m",
      "\u001b[1;31mNameError\u001b[0m                                 Traceback (most recent call last)",
      "\u001b[1;32m<ipython-input-19-badb70051ea6>\u001b[0m in \u001b[0;36m<module>\u001b[1;34m\u001b[0m\n\u001b[1;32m----> 1\u001b[1;33m \u001b[0mobj3\u001b[0m \u001b[1;33m=\u001b[0m \u001b[0mpd\u001b[0m\u001b[1;33m.\u001b[0m\u001b[0mSeries\u001b[0m\u001b[1;33m(\u001b[0m\u001b[1;33m[\u001b[0m\u001b[1;34m'blue'\u001b[0m\u001b[1;33m,\u001b[0m \u001b[1;34m'purple'\u001b[0m\u001b[1;33m,\u001b[0m \u001b[1;34m'yellow'\u001b[0m\u001b[1;33m]\u001b[0m\u001b[1;33m,\u001b[0m \u001b[0mindex\u001b[0m\u001b[1;33m=\u001b[0m\u001b[1;33m[\u001b[0m\u001b[1;36m0\u001b[0m\u001b[1;33m,\u001b[0m \u001b[1;36m2\u001b[0m\u001b[1;33m,\u001b[0m \u001b[1;36m4\u001b[0m\u001b[1;33m]\u001b[0m\u001b[1;33m)\u001b[0m\u001b[1;33m\u001b[0m\u001b[0m\n\u001b[0m\u001b[0;32m      2\u001b[0m \u001b[0mobj3\u001b[0m\u001b[1;33m\u001b[0m\u001b[0m\n",
      "\u001b[1;31mNameError\u001b[0m: name 'pd' is not defined"
     ]
    }
   ],
   "source": [
    "obj3 = pd.Series(['blue', 'purple', 'yellow'], index=[0, 2, 4])\n",
    "obj3"
   ]
  },
  {
   "cell_type": "code",
   "execution_count": null,
   "metadata": {},
   "outputs": [],
   "source": [
    "obj3.reindex(range(6), method='ffill')"
   ]
  },
  {
   "cell_type": "markdown",
   "metadata": {},
   "source": [
    "With DataFrame, _reindex_ can alter either the (row) index, columns, or both. When passed only a sequence, it reindexes the rows in teh result:"
   ]
  },
  {
   "cell_type": "code",
   "execution_count": null,
   "metadata": {},
   "outputs": [],
   "source": [
    "frame = pd.DataFrame(np.arange(9).reshape((3, 3)),\n",
    "                    index=['a', 'c', 'd'],\n",
    "                    columns=['Ohio', 'Texas', 'California'])\n",
    "frame"
   ]
  },
  {
   "cell_type": "code",
   "execution_count": null,
   "metadata": {},
   "outputs": [],
   "source": [
    "frame2 = frame.reindex(['a', 'b', 'c', 'd'])    # reindex works on row index on default\n",
    "frame2"
   ]
  },
  {
   "cell_type": "markdown",
   "metadata": {},
   "source": [
    "The columns can be reindexed with the columns keyword:"
   ]
  },
  {
   "cell_type": "code",
   "execution_count": null,
   "metadata": {},
   "outputs": [],
   "source": [
    "states = ['Texas', 'Utah', 'California']    # for columns it has to be explicitly\n",
    "frame.reindex(columns = states)"
   ]
  },
  {
   "cell_type": "markdown",
   "metadata": {},
   "source": [
    "We can reindex more succinctly by label-indexing with __loc__, and many users prefer to use it exclusively:"
   ]
  },
  {
   "cell_type": "code",
   "execution_count": null,
   "metadata": {},
   "outputs": [],
   "source": [
    "frame.loc[['a', 'b', 'c', 'd'], states]"
   ]
  },
  {
   "cell_type": "markdown",
   "metadata": {},
   "source": [
    "reindex function arguments\n",
    "Argument | Description\n",
    "----- | -----\n",
    "index | New sequence to use as index. Can be Index instance or any other sequence-like Python data structure. An Index will be used exactly as is without any copying.\n",
    "method | Interpolation (fill) method; 'ffill' fills forward, while 'bfill' fills backward.\n",
    "fill_value | Substitute value to use when introducing missing data by reindexing.\n",
    "limit | When forward- or backfilling, maximum size gap (in number of elements) to fill.\n",
    "tolerance | When forward- or backfilling, maximum size gap (in absolute numeric distance) to fill for inexact matches.\n",
    "level | Match simple Index on level of MultiIndex; otherwise select subset of.\n",
    "copy | If True, always copy underlying data even if new index is equivalent to old index; if False, do not copy the data when the indexes are equivalent."
   ]
  },
  {
   "cell_type": "markdown",
   "metadata": {},
   "source": [
    "### Dropping Entries from an Axis\n",
    "The _drop_ method will return a new object with the indicated value or values deleted from an axis:"
   ]
  },
  {
   "cell_type": "code",
   "execution_count": null,
   "metadata": {},
   "outputs": [],
   "source": [
    "obj = pd.Series(np.arange(5.), index=['a', 'b', 'c', 'd', 'e'])\n",
    "obj"
   ]
  },
  {
   "cell_type": "code",
   "execution_count": null,
   "metadata": {},
   "outputs": [],
   "source": [
    "new_obj = obj.drop('c')\n",
    "new_obj"
   ]
  },
  {
   "cell_type": "code",
   "execution_count": null,
   "metadata": {},
   "outputs": [],
   "source": [
    "obj.drop(['b', 'c'])"
   ]
  },
  {
   "cell_type": "code",
   "execution_count": null,
   "metadata": {},
   "outputs": [],
   "source": [
    "obj"
   ]
  },
  {
   "cell_type": "markdown",
   "metadata": {},
   "source": [
    "With DataFrame, index values can be deleted from either axis:"
   ]
  },
  {
   "cell_type": "code",
   "execution_count": null,
   "metadata": {},
   "outputs": [],
   "source": [
    "data = pd.DataFrame(np.arange(16).reshape((4, 4)),\n",
    "                   index=['Ohio', 'Colorado', 'Utah', 'New York'],\n",
    "                   columns= ['one', 'two', 'three', 'four'])\n",
    "data"
   ]
  },
  {
   "cell_type": "markdown",
   "metadata": {},
   "source": [
    "Calling _drop_ with a sequence of labels will drop values from the row labels (axis 0):"
   ]
  },
  {
   "cell_type": "code",
   "execution_count": null,
   "metadata": {},
   "outputs": [],
   "source": [
    "data.drop(['Ohio', 'Colorado'])    # DOES NOT actually modify the original data!!!!"
   ]
  },
  {
   "cell_type": "markdown",
   "metadata": {},
   "source": [
    "Can drop values from the columns by passing _axis=1_ or _axis='columns':"
   ]
  },
  {
   "cell_type": "code",
   "execution_count": null,
   "metadata": {},
   "outputs": [],
   "source": [
    "data.drop('two', axis=1)"
   ]
  },
  {
   "cell_type": "markdown",
   "metadata": {},
   "source": [
    "Many functions, like _drop_ which modify the size or shape of a Series or DataFrame, can manipulate an object _in-place_ without returning a new object:"
   ]
  },
  {
   "cell_type": "code",
   "execution_count": null,
   "metadata": {},
   "outputs": [],
   "source": [
    "obj.drop('c', inplace=True)\n",
    "obj"
   ]
  },
  {
   "cell_type": "markdown",
   "metadata": {},
   "source": [
    "### Indexing, Selection, and Filtering"
   ]
  },
  {
   "cell_type": "markdown",
   "metadata": {},
   "source": [
    "Series indexing works analogously to NumPy array indexing, except you can use the Series's index values instead of only integers:"
   ]
  },
  {
   "cell_type": "code",
   "execution_count": 20,
   "metadata": {},
   "outputs": [
    {
     "ename": "NameError",
     "evalue": "name 'pd' is not defined",
     "output_type": "error",
     "traceback": [
      "\u001b[1;31m---------------------------------------------------------------------------\u001b[0m",
      "\u001b[1;31mNameError\u001b[0m                                 Traceback (most recent call last)",
      "\u001b[1;32m<ipython-input-20-3a552bb44b9d>\u001b[0m in \u001b[0;36m<module>\u001b[1;34m\u001b[0m\n\u001b[1;32m----> 1\u001b[1;33m \u001b[0mobj\u001b[0m \u001b[1;33m=\u001b[0m \u001b[0mpd\u001b[0m\u001b[1;33m.\u001b[0m\u001b[0mSeries\u001b[0m\u001b[1;33m(\u001b[0m\u001b[0mnp\u001b[0m\u001b[1;33m.\u001b[0m\u001b[0marange\u001b[0m\u001b[1;33m(\u001b[0m\u001b[1;36m4.\u001b[0m\u001b[1;33m)\u001b[0m\u001b[1;33m,\u001b[0m \u001b[0mindex\u001b[0m\u001b[1;33m=\u001b[0m\u001b[1;33m[\u001b[0m\u001b[1;34m'a'\u001b[0m\u001b[1;33m,\u001b[0m \u001b[1;34m'b'\u001b[0m\u001b[1;33m,\u001b[0m \u001b[1;34m'c'\u001b[0m\u001b[1;33m,\u001b[0m \u001b[1;34m'd'\u001b[0m\u001b[1;33m]\u001b[0m\u001b[1;33m)\u001b[0m\u001b[1;33m\u001b[0m\u001b[0m\n\u001b[0m\u001b[0;32m      2\u001b[0m \u001b[0mobj\u001b[0m\u001b[1;33m\u001b[0m\u001b[0m\n",
      "\u001b[1;31mNameError\u001b[0m: name 'pd' is not defined"
     ]
    }
   ],
   "source": [
    "obj = pd.Series(np.arange(4.), index=['a', 'b', 'c', 'd'])\n",
    "obj"
   ]
  },
  {
   "cell_type": "code",
   "execution_count": null,
   "metadata": {},
   "outputs": [],
   "source": [
    "obj['b']"
   ]
  },
  {
   "cell_type": "code",
   "execution_count": null,
   "metadata": {},
   "outputs": [],
   "source": [
    "obj[1]"
   ]
  },
  {
   "cell_type": "code",
   "execution_count": null,
   "metadata": {},
   "outputs": [],
   "source": [
    "obj[2:4]"
   ]
  },
  {
   "cell_type": "code",
   "execution_count": null,
   "metadata": {},
   "outputs": [],
   "source": [
    "obj[['b', 'a', 'd']]"
   ]
  },
  {
   "cell_type": "code",
   "execution_count": null,
   "metadata": {},
   "outputs": [],
   "source": [
    "obj[[1, 3]]"
   ]
  },
  {
   "cell_type": "code",
   "execution_count": null,
   "metadata": {},
   "outputs": [],
   "source": [
    "obj[obj < 2]"
   ]
  },
  {
   "cell_type": "markdown",
   "metadata": {},
   "source": [
    "Slicing with labels behaves differently than normal Python slicing in that the end-point is __inclusive__:"
   ]
  },
  {
   "cell_type": "code",
   "execution_count": null,
   "metadata": {},
   "outputs": [],
   "source": [
    "obj['b':'c']"
   ]
  },
  {
   "cell_type": "markdown",
   "metadata": {},
   "source": [
    "using this methods modifies the corresponding section of the Series:"
   ]
  },
  {
   "cell_type": "code",
   "execution_count": null,
   "metadata": {},
   "outputs": [],
   "source": [
    "obj['b':'c'] = 5\n",
    "obj"
   ]
  },
  {
   "cell_type": "markdown",
   "metadata": {},
   "source": [
    "Indexing into a DataFrame is for retrieving one or more __columns__ either with a single value or sequence: (CAREFUL, rows doesnot work this way)"
   ]
  },
  {
   "cell_type": "code",
   "execution_count": null,
   "metadata": {},
   "outputs": [],
   "source": [
    "data = pd.DataFrame(np.arange(16).reshape((4, 4)),\n",
    "                   index=['Ohio', 'Colorado', 'Utah', 'New York'],\n",
    "                   columns=['one', 'two', 'three', 'four'])\n",
    "data"
   ]
  },
  {
   "cell_type": "code",
   "execution_count": null,
   "metadata": {},
   "outputs": [],
   "source": [
    "data['one']"
   ]
  },
  {
   "cell_type": "code",
   "execution_count": null,
   "metadata": {},
   "outputs": [],
   "source": [
    "data['Ohio']    # DOES NOT work this way, CAN'T select row by row index"
   ]
  },
  {
   "cell_type": "code",
   "execution_count": null,
   "metadata": {},
   "outputs": [],
   "source": [
    "data[['two', 'one']]"
   ]
  },
  {
   "cell_type": "markdown",
   "metadata": {},
   "source": [
    "Indexing like this has a few special cases. First, slicing or selecting data with a boolean array:"
   ]
  },
  {
   "cell_type": "code",
   "execution_count": null,
   "metadata": {},
   "outputs": [],
   "source": [
    "data[:2]"
   ]
  },
  {
   "cell_type": "code",
   "execution_count": null,
   "metadata": {},
   "outputs": [],
   "source": [
    "data[data['three'] > 5]"
   ]
  },
  {
   "cell_type": "markdown",
   "metadata": {},
   "source": [
    "The __row selection syntax__ data[:2] is provided as a convenience. Passing a single element or a list to the [] operator selects columns.\n",
    "\n",
    "Another use case is in indexing with a boolean DataFrame, such as one produced by a scalar comparison:"
   ]
  },
  {
   "cell_type": "code",
   "execution_count": 21,
   "metadata": {},
   "outputs": [
    {
     "data": {
      "text/plain": [
       "array([[ True,  True,  True,  True,  True],\n",
       "       [False, False, False, False, False],\n",
       "       [False, False, False, False, False]])"
      ]
     },
     "execution_count": 21,
     "metadata": {},
     "output_type": "execute_result"
    }
   ],
   "source": [
    "data < 5"
   ]
  },
  {
   "cell_type": "code",
   "execution_count": 22,
   "metadata": {},
   "outputs": [
    {
     "data": {
      "text/plain": [
       "array([[ 0,  0,  0,  0,  0],\n",
       "       [ 5,  6,  7,  8,  9],\n",
       "       [10, 11, 12, 13, 14]])"
      ]
     },
     "execution_count": 22,
     "metadata": {},
     "output_type": "execute_result"
    }
   ],
   "source": [
    "data[data < 5] = 0\n",
    "data"
   ]
  },
  {
   "cell_type": "markdown",
   "metadata": {},
   "source": [
    "This makes DataFrame syntactically more like a two-dimensional NumPy array in this particular case."
   ]
  },
  {
   "cell_type": "markdown",
   "metadata": {},
   "source": [
    "### Selection with loc and iloc\n",
    "Sepecial indexing operators _loc_ and _iloc_ are for DataFrame label-indexing on the rows. They enable you to select a subset of the rows and columns from a DataFrame with NumPy-like notation using either axis labels (_loc_) or integers (_iloc_)."
   ]
  },
  {
   "cell_type": "markdown",
   "metadata": {},
   "source": [
    "Select a single row and multiple columns:"
   ]
  },
  {
   "cell_type": "code",
   "execution_count": 23,
   "metadata": {},
   "outputs": [
    {
     "ename": "AttributeError",
     "evalue": "'numpy.ndarray' object has no attribute 'loc'",
     "output_type": "error",
     "traceback": [
      "\u001b[1;31m---------------------------------------------------------------------------\u001b[0m",
      "\u001b[1;31mAttributeError\u001b[0m                            Traceback (most recent call last)",
      "\u001b[1;32m<ipython-input-23-a11f53c54cfa>\u001b[0m in \u001b[0;36m<module>\u001b[1;34m\u001b[0m\n\u001b[1;32m----> 1\u001b[1;33m \u001b[0mdata\u001b[0m\u001b[1;33m.\u001b[0m\u001b[0mloc\u001b[0m\u001b[1;33m[\u001b[0m\u001b[1;34m'Colorado'\u001b[0m\u001b[1;33m,\u001b[0m \u001b[1;33m[\u001b[0m\u001b[1;34m'two'\u001b[0m\u001b[1;33m,\u001b[0m \u001b[1;34m'three'\u001b[0m\u001b[1;33m]\u001b[0m\u001b[1;33m]\u001b[0m\u001b[1;33m\u001b[0m\u001b[0m\n\u001b[0m",
      "\u001b[1;31mAttributeError\u001b[0m: 'numpy.ndarray' object has no attribute 'loc'"
     ]
    }
   ],
   "source": [
    "data.loc['Colorado', ['two', 'three']]"
   ]
  },
  {
   "cell_type": "code",
   "execution_count": null,
   "metadata": {},
   "outputs": [],
   "source": [
    "data.loc[:'Utah']"
   ]
  },
  {
   "cell_type": "code",
   "execution_count": null,
   "metadata": {},
   "outputs": [],
   "source": [
    "data.loc['Utah', 'two']"
   ]
  },
  {
   "cell_type": "markdown",
   "metadata": {},
   "source": [
    "Similar selections with _iloc_:"
   ]
  },
  {
   "cell_type": "code",
   "execution_count": null,
   "metadata": {},
   "outputs": [],
   "source": [
    "data.iloc[2, [3, 0, 1]]    #  Rows can be selected using iloc or loc"
   ]
  },
  {
   "cell_type": "code",
   "execution_count": null,
   "metadata": {},
   "outputs": [],
   "source": [
    "data.iloc[2]    "
   ]
  },
  {
   "cell_type": "markdown",
   "metadata": {},
   "source": [
    "Additional selection can be added like this:"
   ]
  },
  {
   "cell_type": "code",
   "execution_count": null,
   "metadata": {},
   "outputs": [],
   "source": [
    "data.iloc[:, :3][data.three > 3]"
   ]
  },
  {
   "cell_type": "markdown",
   "metadata": {},
   "source": [
    "Indexing options with DataFrame\n",
    "Type | Notes\n",
    "----- | -----\n",
    "df[val] | Select single column or sequence of columns from the DataFrame; special case conveniences: boolean array (filter rows), slice (slice rows), or boolean DataFrame (set values based on some criterion).\n",
    "df.loc[val] | Selects single row or subset of rows from the DataFrame by label\n",
    "df.loc[:, val] | Selects single column or subset of columns by label\n",
    "df.loc[val1, val2] | Select both rows and columns by label\n",
    "df.iloc[where] | Selects single row or subset of rows from the DataFrame by integer position\n",
    "df.iloc[:, where] | Selects single column or subset of columns by integer position\n",
    "df.iloc[where_i, where_j] | Select both rows and columns by integer position\n",
    "df.at[label_i, label_j] | Select a single scalar value by row and column label\n",
    "df.iat[i, j] | Select a single scalar value by row and column position (integers)\n",
    "reindex method | Select either rows or columns by labels\n",
    "get_value, set_value methods | Select single value by row and column label"
   ]
  },
  {
   "cell_type": "markdown",
   "metadata": {},
   "source": [
    "### Integer Indexes\n",
    "For more precise handling, use _loc_ (for labels) or _iloc_ (for integers):"
   ]
  },
  {
   "cell_type": "code",
   "execution_count": null,
   "metadata": {},
   "outputs": [],
   "source": [
    "ser = pd.Series(np.arange(3.))\n",
    "ser"
   ]
  },
  {
   "cell_type": "code",
   "execution_count": null,
   "metadata": {},
   "outputs": [],
   "source": [
    "ser[:1]"
   ]
  },
  {
   "cell_type": "code",
   "execution_count": null,
   "metadata": {},
   "outputs": [],
   "source": [
    "ser.loc[:1]    # loc for labels indices are both inclusive"
   ]
  },
  {
   "cell_type": "code",
   "execution_count": null,
   "metadata": {},
   "outputs": [],
   "source": [
    "ser.iloc[:1]"
   ]
  },
  {
   "cell_type": "markdown",
   "metadata": {},
   "source": [
    "### Arithmetic and Data Alignment"
   ]
  },
  {
   "cell_type": "markdown",
   "metadata": {},
   "source": [
    "An important pandas feature for some applications is the behavior of arithmetic between objects with different indexes. When you are adding together objects, if any index pairs are not the same, the respective index in the result will be the union of the index pairs. This is similar to an automatic outer join on the index label:"
   ]
  },
  {
   "cell_type": "code",
   "execution_count": null,
   "metadata": {},
   "outputs": [],
   "source": [
    "s1 = pd.Series([7.3, -2.5, 3.4, 1.5], index=['a', 'c', 'd', 'e'])\n",
    "s2 = pd.Series([-2.1, 3.6, -1.5, 4, 3.1], index=['a', 'c', 'e', 'f', 'g'])\n",
    "s1"
   ]
  },
  {
   "cell_type": "code",
   "execution_count": null,
   "metadata": {},
   "outputs": [],
   "source": [
    "s2"
   ]
  },
  {
   "cell_type": "code",
   "execution_count": null,
   "metadata": {},
   "outputs": [],
   "source": [
    "s1 和 s2 中同时存在才可正常相加，如d f g 只在s1 s2之一中存在，则运算结果为NaN，不存在。"
   ]
  },
  {
   "cell_type": "code",
   "execution_count": null,
   "metadata": {},
   "outputs": [],
   "source": [
    "s1 + s2"
   ]
  },
  {
   "cell_type": "markdown",
   "metadata": {},
   "source": [
    "In the case of DataFrame, alignment is performed on both the rows and the columns:"
   ]
  },
  {
   "cell_type": "code",
   "execution_count": null,
   "metadata": {},
   "outputs": [],
   "source": [
    "df1 = pd.DataFrame(np.arange(9).reshape((3, 3)), columns=list('bcd'), index=['Ohio', 'Texas', 'Colorado'])\n",
    "df2 = pd.DataFrame(np.arange(12).reshape((4, 3)), columns=list('bde'), index=['Utah', 'Ohio', 'Texas', 'Oregon'])\n",
    "df1"
   ]
  },
  {
   "cell_type": "code",
   "execution_count": 24,
   "metadata": {},
   "outputs": [
    {
     "ename": "NameError",
     "evalue": "name 'df2' is not defined",
     "output_type": "error",
     "traceback": [
      "\u001b[1;31m---------------------------------------------------------------------------\u001b[0m",
      "\u001b[1;31mNameError\u001b[0m                                 Traceback (most recent call last)",
      "\u001b[1;32m<ipython-input-24-2068723f1203>\u001b[0m in \u001b[0;36m<module>\u001b[1;34m\u001b[0m\n\u001b[1;32m----> 1\u001b[1;33m \u001b[0mdf2\u001b[0m\u001b[1;33m\u001b[0m\u001b[0m\n\u001b[0m",
      "\u001b[1;31mNameError\u001b[0m: name 'df2' is not defined"
     ]
    }
   ],
   "source": [
    "df2"
   ]
  },
  {
   "cell_type": "markdown",
   "metadata": {},
   "source": [
    "Adding these together returns a DataFrame whose index and columns are the unions of the ones in each DataFrame:"
   ]
  },
  {
   "cell_type": "code",
   "execution_count": null,
   "metadata": {},
   "outputs": [],
   "source": [
    "df1 + df2"
   ]
  },
  {
   "cell_type": "markdown",
   "metadata": {},
   "source": [
    "Since the 'c' and 'e' columns are not found in both DataFrame objects, they appear as all missing in the result. The same holds for the rows whose labels are not common to both objects."
   ]
  },
  {
   "cell_type": "markdown",
   "metadata": {},
   "source": [
    "### Arithmetic methods with fill values\n",
    "In arithmetic operations between differently indexed objects, you might want to fill with a special value, like 0, when an axis label is found in one object but not the other (如果想避免以上这样相加出现NaN的情况，需要给缺失的值设置默认值):"
   ]
  },
  {
   "cell_type": "code",
   "execution_count": null,
   "metadata": {},
   "outputs": [],
   "source": [
    "df1 = pd.DataFrame(np.arange(12.).reshape((3, 4)), columns=list('abcd'))\n",
    "df2 = pd.DataFrame(np.arange(20.).reshape((4, 5)), columns=list('abcde'))\n",
    "df2.loc[1, 'b'] = np.nan\n",
    "df1"
   ]
  },
  {
   "cell_type": "code",
   "execution_count": null,
   "metadata": {},
   "outputs": [],
   "source": [
    "df2"
   ]
  },
  {
   "cell_type": "markdown",
   "metadata": {},
   "source": [
    "Adding these together results in NA values in the locations that don't overlap:"
   ]
  },
  {
   "cell_type": "code",
   "execution_count": null,
   "metadata": {},
   "outputs": [],
   "source": [
    "df1 + df2"
   ]
  },
  {
   "cell_type": "markdown",
   "metadata": {},
   "source": [
    "Using the _add_ method on df1, I pass df2 and an argument to _fill_value_:"
   ]
  },
  {
   "cell_type": "code",
   "execution_count": null,
   "metadata": {},
   "outputs": [],
   "source": [
    "df1.add(df2, fill_value=0)"
   ]
  },
  {
   "cell_type": "markdown",
   "metadata": {},
   "source": [
    "Table: Series and DataFrame methods for arithmetic.  "
   ]
  },
  {
   "cell_type": "markdown",
   "metadata": {},
   "source": [
    "Method | Description\n",
    "----- | -----\n",
    "add, radd | Methods for addtion (+)\n",
    "sub, rsub | Methods for subtraction (-)\n",
    "div, rdiv | Methods for division (/)\n",
    "floordiv, rfloordiv | Methods for floor division (//)\n",
    "mul, rmul | Methods for multiplication (\\*)\n",
    "pow, rpow | Methods for exponentiation (\\**)"
   ]
  },
  {
   "cell_type": "markdown",
   "metadata": {},
   "source": [
    "Each of the method has a conterpart, starting with the letter r, that has arguments flipped. For example, the following two statements are equivalent:"
   ]
  },
  {
   "cell_type": "code",
   "execution_count": null,
   "metadata": {},
   "outputs": [],
   "source": [
    "1 / df1  "
   ]
  },
  {
   "cell_type": "code",
   "execution_count": null,
   "metadata": {},
   "outputs": [],
   "source": [
    "df1.rdiv(1)"
   ]
  },
  {
   "cell_type": "markdown",
   "metadata": {},
   "source": [
    "Relatedly, when reindexing a Series or DataFrame, you can also specify a different fill value:"
   ]
  },
  {
   "cell_type": "code",
   "execution_count": null,
   "metadata": {},
   "outputs": [],
   "source": [
    "df1.reindex(columns=df2.columns, fill_value=0)"
   ]
  },
  {
   "cell_type": "markdown",
   "metadata": {},
   "source": [
    "### Operations between DataFrame and Series"
   ]
  },
  {
   "cell_type": "markdown",
   "metadata": {},
   "source": [
    "Arithmetic between DataFrame and Series is defined just like NumPy arrasy:"
   ]
  },
  {
   "cell_type": "code",
   "execution_count": 25,
   "metadata": {},
   "outputs": [
    {
     "data": {
      "text/plain": [
       "array([[ 0.,  1.,  2.,  3.],\n",
       "       [ 4.,  5.,  6.,  7.],\n",
       "       [ 8.,  9., 10., 11.]])"
      ]
     },
     "execution_count": 25,
     "metadata": {},
     "output_type": "execute_result"
    }
   ],
   "source": [
    "arr = np.arange(12.).reshape((3, 4))\n",
    "arr"
   ]
  },
  {
   "cell_type": "code",
   "execution_count": 26,
   "metadata": {},
   "outputs": [
    {
     "data": {
      "text/plain": [
       "array([0., 1., 2., 3.])"
      ]
     },
     "execution_count": 26,
     "metadata": {},
     "output_type": "execute_result"
    }
   ],
   "source": [
    "arr[0]"
   ]
  },
  {
   "cell_type": "code",
   "execution_count": 27,
   "metadata": {},
   "outputs": [
    {
     "data": {
      "text/plain": [
       "array([[0., 0., 0., 0.],\n",
       "       [4., 4., 4., 4.],\n",
       "       [8., 8., 8., 8.]])"
      ]
     },
     "execution_count": 27,
     "metadata": {},
     "output_type": "execute_result"
    }
   ],
   "source": [
    "arr - arr[0]"
   ]
  },
  {
   "cell_type": "markdown",
   "metadata": {},
   "source": [
    "the above subtraction is performed once for each row. This is called _broadcasting_. Operations between a DataFrame and a Series are similar:"
   ]
  },
  {
   "cell_type": "code",
   "execution_count": 28,
   "metadata": {},
   "outputs": [
    {
     "ename": "NameError",
     "evalue": "name 'pd' is not defined",
     "output_type": "error",
     "traceback": [
      "\u001b[1;31m---------------------------------------------------------------------------\u001b[0m",
      "\u001b[1;31mNameError\u001b[0m                                 Traceback (most recent call last)",
      "\u001b[1;32m<ipython-input-28-2ef500e3e82d>\u001b[0m in \u001b[0;36m<module>\u001b[1;34m\u001b[0m\n\u001b[1;32m----> 1\u001b[1;33m \u001b[0mframe\u001b[0m \u001b[1;33m=\u001b[0m \u001b[0mpd\u001b[0m\u001b[1;33m.\u001b[0m\u001b[0mDataFrame\u001b[0m\u001b[1;33m(\u001b[0m\u001b[0mnp\u001b[0m\u001b[1;33m.\u001b[0m\u001b[0marange\u001b[0m\u001b[1;33m(\u001b[0m\u001b[1;36m12.\u001b[0m\u001b[1;33m)\u001b[0m\u001b[1;33m.\u001b[0m\u001b[0mreshape\u001b[0m\u001b[1;33m(\u001b[0m\u001b[1;33m(\u001b[0m\u001b[1;36m4\u001b[0m\u001b[1;33m,\u001b[0m \u001b[1;36m3\u001b[0m\u001b[1;33m)\u001b[0m\u001b[1;33m)\u001b[0m\u001b[1;33m,\u001b[0m \u001b[0mcolumns\u001b[0m\u001b[1;33m=\u001b[0m\u001b[0mlist\u001b[0m\u001b[1;33m(\u001b[0m\u001b[1;34m'bde'\u001b[0m\u001b[1;33m)\u001b[0m\u001b[1;33m,\u001b[0m \u001b[0mindex\u001b[0m\u001b[1;33m=\u001b[0m\u001b[1;33m[\u001b[0m\u001b[1;34m'Utah'\u001b[0m\u001b[1;33m,\u001b[0m \u001b[1;34m'Ohio'\u001b[0m\u001b[1;33m,\u001b[0m \u001b[1;34m'Texas'\u001b[0m\u001b[1;33m,\u001b[0m \u001b[1;34m'Oregon'\u001b[0m\u001b[1;33m]\u001b[0m\u001b[1;33m)\u001b[0m\u001b[1;33m\u001b[0m\u001b[0m\n\u001b[0m\u001b[0;32m      2\u001b[0m \u001b[0mframe\u001b[0m\u001b[1;33m\u001b[0m\u001b[0m\n",
      "\u001b[1;31mNameError\u001b[0m: name 'pd' is not defined"
     ]
    }
   ],
   "source": [
    "frame = pd.DataFrame(np.arange(12.).reshape((4, 3)), columns=list('bde'), index=['Utah', 'Ohio', 'Texas', 'Oregon'])\n",
    "frame"
   ]
  },
  {
   "cell_type": "code",
   "execution_count": null,
   "metadata": {},
   "outputs": [],
   "source": [
    "series = frame.iloc[0]\n",
    "series"
   ]
  },
  {
   "cell_type": "markdown",
   "metadata": {},
   "source": [
    "By default, arithmetic between DataFrame and Sereis matches the index of the Series on the DataFrame's columns, broadcasting down the rows:"
   ]
  },
  {
   "cell_type": "code",
   "execution_count": null,
   "metadata": {},
   "outputs": [],
   "source": [
    "frame - series"
   ]
  },
  {
   "cell_type": "markdown",
   "metadata": {},
   "source": [
    "If an index value is not found in either the DataFrame's columns or the Series's index, the objects will be reindexed to form the union:"
   ]
  },
  {
   "cell_type": "code",
   "execution_count": null,
   "metadata": {},
   "outputs": [],
   "source": [
    "series2 = pd.Series(range(3), index=['b', 'e', 'f'])\n",
    "frame + series2"
   ]
  },
  {
   "cell_type": "markdown",
   "metadata": {},
   "source": [
    "If you want to instead broadcast over the columns, matching on the rows, you havee to use one of the __arithmetic methods__:"
   ]
  },
  {
   "cell_type": "code",
   "execution_count": null,
   "metadata": {},
   "outputs": [],
   "source": [
    "series3 = frame['d']\n",
    "frame"
   ]
  },
  {
   "cell_type": "code",
   "execution_count": null,
   "metadata": {},
   "outputs": [],
   "source": [
    "series3"
   ]
  },
  {
   "cell_type": "code",
   "execution_count": null,
   "metadata": {},
   "outputs": [],
   "source": [
    "frame.sub(series3, axis='index')    # or axis=0"
   ]
  },
  {
   "cell_type": "markdown",
   "metadata": {},
   "source": [
    "### Function Application and Mapping\n",
    "NumPy ufunctions (element-wise array methods) also work with pandas objects:"
   ]
  },
  {
   "cell_type": "code",
   "execution_count": null,
   "metadata": {},
   "outputs": [],
   "source": [
    "frame = pd.DataFrame(np.random.randn(4,3), columns=list('bde'), index=['Utah', 'Ohio', 'Texas', 'Oregon'])\n",
    "frame"
   ]
  },
  {
   "cell_type": "code",
   "execution_count": null,
   "metadata": {},
   "outputs": [],
   "source": [
    "np.abs(frame)"
   ]
  },
  {
   "cell_type": "markdown",
   "metadata": {},
   "source": [
    "Another frequent operation is applying a function on one-dimentional arrays to each column or row. DataFrame's _apply_ method does this:"
   ]
  },
  {
   "cell_type": "code",
   "execution_count": null,
   "metadata": {},
   "outputs": [],
   "source": [
    "f = lambda x: x.max() - x.min()\n",
    "frame.apply(f) # 此处默认对列做计算"
   ]
  },
  {
   "cell_type": "code",
   "execution_count": null,
   "metadata": {},
   "outputs": [],
   "source": [
    "frame.apply(f, axis=1)   # or axis='columns'"
   ]
  },
  {
   "cell_type": "markdown",
   "metadata": {},
   "source": [
    "Many of the common array statistics are DataFrame methods, so using _apply_ is not necessary."
   ]
  },
  {
   "cell_type": "markdown",
   "metadata": {},
   "source": [
    "The function passed to _apply_ can also return a Series with multiple values:"
   ]
  },
  {
   "cell_type": "code",
   "execution_count": null,
   "metadata": {},
   "outputs": [],
   "source": [
    "def f(x):\n",
    "    return pd.Series([x.min(), x.max()], index=['min', 'max'])\n",
    "frame.apply(f)"
   ]
  },
  {
   "cell_type": "markdown",
   "metadata": {},
   "source": [
    "Element-wise Python functions can be used, too. Suppose you wanted to compute a formatted string from each floating-point value in _frame_. You can do this with _apply_ method:"
   ]
  },
  {
   "cell_type": "code",
   "execution_count": null,
   "metadata": {},
   "outputs": [],
   "source": [
    "format = lambda x: '%.2f' % x\n",
    "frame.applymap(format)"
   ]
  },
  {
   "cell_type": "markdown",
   "metadata": {},
   "source": [
    "The reason for the name _applymap_ is that Sereis has a _map_ method for applying an element-wise function:"
   ]
  },
  {
   "cell_type": "code",
   "execution_count": null,
   "metadata": {},
   "outputs": [],
   "source": [
    "frame['e'].map(format)"
   ]
  },
  {
   "cell_type": "markdown",
   "metadata": {},
   "source": [
    "### Sorting and Ranking\n",
    "To sort by row or column index, use the _sort_index_ method, which returns a new, sorted object, which return a new, sorted object:"
   ]
  },
  {
   "cell_type": "code",
   "execution_count": 29,
   "metadata": {},
   "outputs": [
    {
     "ename": "NameError",
     "evalue": "name 'pd' is not defined",
     "output_type": "error",
     "traceback": [
      "\u001b[1;31m---------------------------------------------------------------------------\u001b[0m",
      "\u001b[1;31mNameError\u001b[0m                                 Traceback (most recent call last)",
      "\u001b[1;32m<ipython-input-29-b173dcc0e950>\u001b[0m in \u001b[0;36m<module>\u001b[1;34m\u001b[0m\n\u001b[1;32m----> 1\u001b[1;33m \u001b[0mobj\u001b[0m \u001b[1;33m=\u001b[0m \u001b[0mpd\u001b[0m\u001b[1;33m.\u001b[0m\u001b[0mSeries\u001b[0m\u001b[1;33m(\u001b[0m\u001b[0mrange\u001b[0m\u001b[1;33m(\u001b[0m\u001b[1;36m4\u001b[0m\u001b[1;33m)\u001b[0m\u001b[1;33m,\u001b[0m \u001b[0mindex\u001b[0m\u001b[1;33m=\u001b[0m\u001b[1;33m[\u001b[0m\u001b[1;34m'd'\u001b[0m\u001b[1;33m,\u001b[0m \u001b[1;34m'a'\u001b[0m\u001b[1;33m,\u001b[0m \u001b[1;34m'b'\u001b[0m\u001b[1;33m,\u001b[0m \u001b[1;34m'c'\u001b[0m\u001b[1;33m]\u001b[0m\u001b[1;33m)\u001b[0m\u001b[1;33m\u001b[0m\u001b[0m\n\u001b[0m\u001b[0;32m      2\u001b[0m \u001b[0mobj\u001b[0m\u001b[1;33m.\u001b[0m\u001b[0msort_index\u001b[0m\u001b[1;33m(\u001b[0m\u001b[1;33m)\u001b[0m\u001b[1;33m\u001b[0m\u001b[0m\n",
      "\u001b[1;31mNameError\u001b[0m: name 'pd' is not defined"
     ]
    }
   ],
   "source": [
    "obj = pd.Series(range(4), index=['d', 'a', 'b', 'c'])\n",
    "obj.sort_index()"
   ]
  },
  {
   "cell_type": "markdown",
   "metadata": {},
   "source": [
    "With a DataFrame, you can sort by index on either axis:"
   ]
  },
  {
   "cell_type": "code",
   "execution_count": null,
   "metadata": {},
   "outputs": [],
   "source": [
    "frame = pd.DataFrame(np.arange(8).reshape((2, 4)), index=['three', 'one'], columns=['d', 'a', 'b', 'c'])\n",
    "frame.sort_index()"
   ]
  },
  {
   "cell_type": "code",
   "execution_count": null,
   "metadata": {},
   "outputs": [],
   "source": [
    "frame.sort_index(axis=1)"
   ]
  },
  {
   "cell_type": "markdown",
   "metadata": {},
   "source": [
    "Data is sorted in ascending order by default, but can be sorted in descending order, too:"
   ]
  },
  {
   "cell_type": "code",
   "execution_count": null,
   "metadata": {},
   "outputs": [],
   "source": [
    "frame.sort_index(axis=1, ascending=False)"
   ]
  },
  {
   "cell_type": "markdown",
   "metadata": {},
   "source": [
    "To sort a Series by its value, use its _sort_values_ method:"
   ]
  },
  {
   "cell_type": "code",
   "execution_count": null,
   "metadata": {},
   "outputs": [],
   "source": [
    "obj = pd.Series([4, 7, 3, -2])\n",
    "obj.sort_values()"
   ]
  },
  {
   "cell_type": "markdown",
   "metadata": {},
   "source": [
    "Any missing values are sorted to the end by default:"
   ]
  },
  {
   "cell_type": "code",
   "execution_count": null,
   "metadata": {},
   "outputs": [],
   "source": [
    "obj = pd.Series([4, np.nan, 7, np.nan, -3, 2])\n",
    "obj.sort_values()"
   ]
  },
  {
   "cell_type": "markdown",
   "metadata": {},
   "source": [
    "When sorting a DataFrame, you can use the data in one or more columns as the sort keys. To do so, pass one or more column names to the __by__ option of sort\\_values:"
   ]
  },
  {
   "cell_type": "code",
   "execution_count": null,
   "metadata": {},
   "outputs": [],
   "source": [
    "frame = pd.DataFrame({'b': [4, 7, -3, 2], 'a': [0, 1, 0, 1]})\n",
    "frame"
   ]
  },
  {
   "cell_type": "code",
   "execution_count": null,
   "metadata": {},
   "outputs": [],
   "source": [
    "frame.sort_values(by='b')"
   ]
  },
  {
   "cell_type": "markdown",
   "metadata": {},
   "source": [
    "To sort by multiple columns, pass a list of names:"
   ]
  },
  {
   "cell_type": "code",
   "execution_count": null,
   "metadata": {},
   "outputs": [],
   "source": [
    "frame.sort_values(by=['a', 'b'])"
   ]
  },
  {
   "cell_type": "markdown",
   "metadata": {},
   "source": [
    "Ranking assigns ranks from one throught the number of valide data points in an array. The _rank_ methods for Series and DataFrame are the place to look; by default _rank_ breaks ties by assigning each group the mean rank: (rank相当于排名，数值最小的rank值为1，数值最大的rank值最大，重复值的rank会出现小数：6.5，4.5)"
   ]
  },
  {
   "cell_type": "code",
   "execution_count": null,
   "metadata": {},
   "outputs": [],
   "source": [
    "obj = pd.Series([7, -5, 7, 4, 2, 0, 4])\n",
    "obj.rank()"
   ]
  },
  {
   "cell_type": "markdown",
   "metadata": {},
   "source": [
    "Ranks can also be assigned according to the order in which they're observed in the data (即使数值大小相同，位置靠前的数据rank更低，不会出现小数rank):"
   ]
  },
  {
   "cell_type": "code",
   "execution_count": null,
   "metadata": {},
   "outputs": [],
   "source": [
    "obj.rank(method='first')"
   ]
  },
  {
   "cell_type": "markdown",
   "metadata": {},
   "source": [
    "Rank in descending order:"
   ]
  },
  {
   "cell_type": "code",
   "execution_count": null,
   "metadata": {},
   "outputs": [],
   "source": [
    "obj.rank(ascending=False, method='max')    # method='max': 重复的rank使用最大值 而默认值是平均值（小数）"
   ]
  },
  {
   "cell_type": "markdown",
   "metadata": {},
   "source": [
    "DataFrame can compute ranks over the rows or the columns:"
   ]
  },
  {
   "cell_type": "code",
   "execution_count": null,
   "metadata": {},
   "outputs": [],
   "source": [
    "frame = pd.DataFrame({'b': [4.3, 7, -3, 2], 'a': [0, 1, 0, 1], 'c': [-2, 5, 8, -2.5]})\n",
    "frame"
   ]
  },
  {
   "cell_type": "code",
   "execution_count": null,
   "metadata": {},
   "outputs": [],
   "source": [
    "frame.rank(axis='columns')"
   ]
  },
  {
   "cell_type": "markdown",
   "metadata": {},
   "source": [
    "Tie-breaking methods with rank\n",
    "Method | Description\n",
    "----- | -----\n",
    "'average' | Use the minimum rank for the whole group\n",
    "'min' | Use the minimum rank for the whole group\n",
    "'max' | Use the maximum rank for the wohle group\n",
    "'first' | Assign ranks in the order the values appear in the data\n",
    "'dense' | Like method='min', but ranks always increase by 1 in between groups rather than the number of equal elements in a group"
   ]
  },
  {
   "cell_type": "markdown",
   "metadata": {},
   "source": [
    "### Axis Indexes with Duplicate Labels\n",
    "While man pandas functions (like reindex) require that the labels be unique, it's not mandatory. Let's consider a small Series with duplicate indices:"
   ]
  },
  {
   "cell_type": "code",
   "execution_count": null,
   "metadata": {},
   "outputs": [],
   "source": [
    "obj = pd.Series(range(5), index=['a', 'a', 'b', 'b', 'c'])\n",
    "obj"
   ]
  },
  {
   "cell_type": "markdown",
   "metadata": {},
   "source": [
    "The index's __is_unique__ property can tell you whether its label are unique or not:"
   ]
  },
  {
   "cell_type": "code",
   "execution_count": null,
   "metadata": {},
   "outputs": [],
   "source": [
    "obj.index.is_unique"
   ]
  },
  {
   "cell_type": "markdown",
   "metadata": {},
   "source": [
    "Data selection is one of the main things that behaves differently with duplicates. Indexing a label with multiple entries returns s Series, while single entries return a scalar value:"
   ]
  },
  {
   "cell_type": "code",
   "execution_count": 30,
   "metadata": {},
   "outputs": [
    {
     "ename": "NameError",
     "evalue": "name 'obj' is not defined",
     "output_type": "error",
     "traceback": [
      "\u001b[1;31m---------------------------------------------------------------------------\u001b[0m",
      "\u001b[1;31mNameError\u001b[0m                                 Traceback (most recent call last)",
      "\u001b[1;32m<ipython-input-30-10e0fb68e5e8>\u001b[0m in \u001b[0;36m<module>\u001b[1;34m\u001b[0m\n\u001b[1;32m----> 1\u001b[1;33m \u001b[0mobj\u001b[0m\u001b[1;33m[\u001b[0m\u001b[1;34m'a'\u001b[0m\u001b[1;33m]\u001b[0m\u001b[1;33m\u001b[0m\u001b[0m\n\u001b[0m",
      "\u001b[1;31mNameError\u001b[0m: name 'obj' is not defined"
     ]
    }
   ],
   "source": [
    "obj['a']"
   ]
  },
  {
   "cell_type": "code",
   "execution_count": null,
   "metadata": {},
   "outputs": [],
   "source": [
    "obj['c']"
   ]
  },
  {
   "cell_type": "markdown",
   "metadata": {},
   "source": [
    "As the output type from indexing can vary based on whether a label is repeated or not.\n",
    "\n",
    "The same logic extends to indexing rows in a DataFrame:"
   ]
  },
  {
   "cell_type": "code",
   "execution_count": null,
   "metadata": {},
   "outputs": [],
   "source": [
    "df = pd.DataFrame(np.random.randn(4, 3), index=['a', 'a', 'b', 'b'])\n",
    "df"
   ]
  },
  {
   "cell_type": "code",
   "execution_count": null,
   "metadata": {},
   "outputs": [],
   "source": [
    "df.loc['b']"
   ]
  },
  {
   "cell_type": "markdown",
   "metadata": {},
   "source": [
    "## Summarizing and Computing Descriptive Statistics\n",
    "pandas objects are equipped with a set of common mathematical and statistical methods. Most of them fall into the category of _reductions_ or _summary statistics_."
   ]
  },
  {
   "cell_type": "code",
   "execution_count": null,
   "metadata": {},
   "outputs": [],
   "source": [
    "df = pd.DataFrame([[1.4, np.nan], [7.1, -4.5],\n",
    "                  [np.nan, np.nan], [0.75, -1.3]], index=['a', 'b', 'c', 'd'], columns=['one', 'two'])\n",
    "df"
   ]
  },
  {
   "cell_type": "markdown",
   "metadata": {},
   "source": [
    "Calling DataFrame's sum method returns a Series containing column sums:"
   ]
  },
  {
   "cell_type": "code",
   "execution_count": null,
   "metadata": {},
   "outputs": [],
   "source": [
    "df.sum()"
   ]
  },
  {
   "cell_type": "markdown",
   "metadata": {},
   "source": [
    "Passing axis='columns' or axis=1 sums across the columns instead:"
   ]
  },
  {
   "cell_type": "code",
   "execution_count": null,
   "metadata": {},
   "outputs": [],
   "source": [
    "df.sum(axis=1)"
   ]
  },
  {
   "cell_type": "markdown",
   "metadata": {},
   "source": [
    "NA values are excluded unless the entire slice is NA (新版本python此处貌似已修改了，上边c的结果为0). This can be disabled wiht the _skipna_ option:"
   ]
  },
  {
   "cell_type": "code",
   "execution_count": null,
   "metadata": {},
   "outputs": [],
   "source": [
    "df.sum(axis=1, skipna=False)"
   ]
  },
  {
   "cell_type": "markdown",
   "metadata": {},
   "source": [
    "Options for reduction methods\n",
    "Method | Description\n",
    "----- | -----\n",
    "axis | Axis to reduce over; 0 for DataFrame's rows and 1 for columns\n",
    "skipna | Exclude missing values; True by default\n",
    "level | Reduce grouped by level if the axis is hierarchically indexed (MultiIndex)"
   ]
  },
  {
   "cell_type": "markdown",
   "metadata": {},
   "source": [
    "Some methods, like _idxmin_ and _idxmax_, return indirect statistics like the index value where the minimum or maximum values are attained:"
   ]
  },
  {
   "cell_type": "code",
   "execution_count": null,
   "metadata": {},
   "outputs": [],
   "source": [
    "df.idxmax()   #输出每个column中的最大值坐标"
   ]
  },
  {
   "cell_type": "markdown",
   "metadata": {},
   "source": [
    "Other methods are accumulations:"
   ]
  },
  {
   "cell_type": "code",
   "execution_count": null,
   "metadata": {},
   "outputs": [],
   "source": [
    "df.cumsum()    # 有NaN的位置需要特殊注意"
   ]
  },
  {
   "cell_type": "markdown",
   "metadata": {},
   "source": [
    "Another type of method is neither a reduction nor an accumulation. _describe_ is one such example, producing multiple summary statistics in one shot:"
   ]
  },
  {
   "cell_type": "code",
   "execution_count": null,
   "metadata": {},
   "outputs": [],
   "source": [
    "df.describe()"
   ]
  },
  {
   "cell_type": "markdown",
   "metadata": {},
   "source": [
    "On non-numeric data, _describe_ produces alternative summary statistics."
   ]
  },
  {
   "cell_type": "code",
   "execution_count": null,
   "metadata": {},
   "outputs": [],
   "source": [
    "obj = pd.Series(['a', 'a', 'b', 'c'] * 4)\n",
    "obj"
   ]
  },
  {
   "cell_type": "code",
   "execution_count": null,
   "metadata": {},
   "outputs": [],
   "source": [
    "obj.describe()"
   ]
  },
  {
   "cell_type": "markdown",
   "metadata": {},
   "source": [
    "A full list of summary statistics and related methods.\n",
    "Descriptive and summary statistics\n",
    "Method | Description\n",
    "----- | ------\n",
    "count | Number of non-NA values\n",
    "describe | Compute set of summary statistics for Series or each DataFrame column\n",
    "min, max | Compute minimum and maximum values\n",
    "argmin, argmax | Compute index location (integers) at which minimum or maximum value obtained, respectively\n",
    "idxmin, idxmax | Compute index labels at which minimum or maximum value obtained, respectively\n",
    "quantile | Compute sample quantile ranging from 0 to 1(这个不懂)\n",
    "sum | Sum of values\n",
    "mean | Mean of values\n",
    "median | Arithmetic median (50% quantile) of values\n",
    "mad | Mean absolute deviation form mean value\n",
    "prod | Product of all values\n",
    "var | Sample variance of values\n",
    "std | Sample standard deviation of values\n",
    "skew | Sample skewness (third moment) of values\n",
    "kurt | Sample kurtosis (fourth moment) of values\n",
    "cumsum | Cumulative sum of values\n",
    "cummin, cummax | Cumulative minimum or maximum of values, respectively\n",
    "cumprod | Cumulative product of values \n",
    "diff | Compute first arithmetic difference (useful for time series)\n",
    "pct_change | Compute percent changes"
   ]
  },
  {
   "cell_type": "markdown",
   "metadata": {},
   "source": [
    "### Correlation and Covariance\n",
    "Some summary statistics, like correlation and covariance, are computed from pairs of arguments. Consider some DataFrames of stock prices and volumes obtained from Yahoo! Finance using the add-on _pandas-datareader_ package. Use _pandas-datareader_ module to download some data for a few stock tickers: (Yahoo! Finance is currently not supported by datareader due to API change)"
   ]
  },
  {
   "cell_type": "markdown",
   "metadata": {},
   "source": [
    "### Unique Values, Value Counts, and Membership\n",
    "More about methods extracts information about the values contained in a one-dimentional Series:"
   ]
  },
  {
   "cell_type": "code",
   "execution_count": null,
   "metadata": {},
   "outputs": [],
   "source": [
    "import pandas as pd\n",
    "obj = pd.Series(['c', 'a', 'd', 'a', 'a', 'b', 'b', 'c', 'c'])"
   ]
  },
  {
   "cell_type": "markdown",
   "metadata": {},
   "source": [
    "The first method is _unique_, which gives you an array of the unique values in a Series:"
   ]
  },
  {
   "cell_type": "code",
   "execution_count": 31,
   "metadata": {},
   "outputs": [
    {
     "ename": "NameError",
     "evalue": "name 'obj' is not defined",
     "output_type": "error",
     "traceback": [
      "\u001b[1;31m---------------------------------------------------------------------------\u001b[0m",
      "\u001b[1;31mNameError\u001b[0m                                 Traceback (most recent call last)",
      "\u001b[1;32m<ipython-input-31-fc519b97c3d5>\u001b[0m in \u001b[0;36m<module>\u001b[1;34m\u001b[0m\n\u001b[1;32m----> 1\u001b[1;33m \u001b[0muniques\u001b[0m \u001b[1;33m=\u001b[0m \u001b[0mobj\u001b[0m\u001b[1;33m.\u001b[0m\u001b[0munique\u001b[0m\u001b[1;33m(\u001b[0m\u001b[1;33m)\u001b[0m\u001b[1;33m\u001b[0m\u001b[0m\n\u001b[0m\u001b[0;32m      2\u001b[0m \u001b[0muniques\u001b[0m\u001b[1;33m\u001b[0m\u001b[0m\n",
      "\u001b[1;31mNameError\u001b[0m: name 'obj' is not defined"
     ]
    }
   ],
   "source": [
    "uniques = obj.unique()\n",
    "uniques"
   ]
  },
  {
   "cell_type": "markdown",
   "metadata": {},
   "source": [
    "_unique_ method does not sort the values, but could be sorted with _uniques.sort()_. Relatedly, value_counts computes a Series containing value frequencies:"
   ]
  },
  {
   "cell_type": "code",
   "execution_count": null,
   "metadata": {},
   "outputs": [],
   "source": [
    "obj.value_counts() # sorted by value in descending order. "
   ]
  },
  {
   "cell_type": "markdown",
   "metadata": {},
   "source": [
    "value_counts is also available as a top-level pandas method that can be used with any array or sequence:"
   ]
  },
  {
   "cell_type": "code",
   "execution_count": null,
   "metadata": {},
   "outputs": [],
   "source": [
    "pd.value_counts(obj.values, sort=False)"
   ]
  },
  {
   "cell_type": "markdown",
   "metadata": {},
   "source": [
    "_isin_ performs a vectorized set membership check and can be useful in filtering a dataset down to a subset of values in a Series or column in a DataFrame: "
   ]
  },
  {
   "cell_type": "code",
   "execution_count": null,
   "metadata": {},
   "outputs": [],
   "source": [
    "obj"
   ]
  },
  {
   "cell_type": "code",
   "execution_count": null,
   "metadata": {},
   "outputs": [],
   "source": [
    "mask = obj.isin(['b', 'c'])\n",
    "mask"
   ]
  },
  {
   "cell_type": "code",
   "execution_count": null,
   "metadata": {},
   "outputs": [],
   "source": [
    "obj[mask]"
   ]
  },
  {
   "cell_type": "markdown",
   "metadata": {},
   "source": [
    "Related to _isin_ is the __Index.get_indexer__ mehtod, which gives you an idnex array from an array of possibly non-distinct values into another array of distinct values： unique_vals中的值都在to_match中重复出现；以unique_vals中的index 输出unique_vals中的值:"
   ]
  },
  {
   "cell_type": "code",
   "execution_count": null,
   "metadata": {},
   "outputs": [],
   "source": [
    "to_match = pd.Series(['c', 'a', 'b', 'b', 'c', 'a'])\n",
    "unique_vals = pd.Series(['c', 'b', 'a'])"
   ]
  },
  {
   "cell_type": "code",
   "execution_count": 32,
   "metadata": {},
   "outputs": [
    {
     "ename": "NameError",
     "evalue": "name 'pd' is not defined",
     "output_type": "error",
     "traceback": [
      "\u001b[1;31m---------------------------------------------------------------------------\u001b[0m",
      "\u001b[1;31mNameError\u001b[0m                                 Traceback (most recent call last)",
      "\u001b[1;32m<ipython-input-32-4f2efca31687>\u001b[0m in \u001b[0;36m<module>\u001b[1;34m\u001b[0m\n\u001b[1;32m----> 1\u001b[1;33m \u001b[0mpd\u001b[0m\u001b[1;33m.\u001b[0m\u001b[0mIndex\u001b[0m\u001b[1;33m(\u001b[0m\u001b[0munique_vals\u001b[0m\u001b[1;33m)\u001b[0m\u001b[1;33m.\u001b[0m\u001b[0mget_indexer\u001b[0m\u001b[1;33m(\u001b[0m\u001b[0mto_match\u001b[0m\u001b[1;33m)\u001b[0m\u001b[1;33m\u001b[0m\u001b[0m\n\u001b[0m",
      "\u001b[1;31mNameError\u001b[0m: name 'pd' is not defined"
     ]
    }
   ],
   "source": [
    "pd.Index(unique_vals).get_indexer(to_match)    "
   ]
  },
  {
   "cell_type": "markdown",
   "metadata": {},
   "source": [
    "Unique, value counts, and set membership methods\n",
    "Method | Description\n",
    "----- | -----\n",
    "isin | Compute boolean array indicating whether each Series value is contained in the passed sequence of values\n",
    "match | Compute integer indices for each value in an array into another array of distinct values; helpful for data alignment and join-type operations\n",
    "unique | Compute array of unique values in a Series, returned in the order observed\n",
    "value_counts | Return a Series containing unique values as its index and frequencies as its values, ordered count in descending order"
   ]
  },
  {
   "cell_type": "markdown",
   "metadata": {},
   "source": [
    "You may want to compute a histogram on multiple related columns in a DataFrame. Here is an example:"
   ]
  },
  {
   "cell_type": "code",
   "execution_count": null,
   "metadata": {},
   "outputs": [],
   "source": [
    "data = pd.DataFrame({'Qu1': [1, 3, 4, 3, 4],\n",
    "                    'Qu2': [2, 3, 1, 2, 3],\n",
    "                    'Qu3': [1, 5, 2, 4, 4]})\n",
    "data"
   ]
  },
  {
   "cell_type": "code",
   "execution_count": null,
   "metadata": {},
   "outputs": [],
   "source": [
    "result = data.apply(pd.value_counts).fillna(0)\n",
    "result"
   ]
  },
  {
   "cell_type": "markdown",
   "metadata": {},
   "source": [
    "Here, the row labels in the result are the distinct values occurring in all of the columns. The values are the respective counts of these values in each column."
   ]
  },
  {
   "cell_type": "markdown",
   "metadata": {},
   "source": [
    "# Data Loading, Storage, and File Formats\n",
    "Input and output typically falls into a few main categories: reading text files and other more efficient on-disk formats, loading data from databases, and interacting with network sources like web APIs."
   ]
  },
  {
   "cell_type": "markdown",
   "metadata": {},
   "source": [
    "## Reading and Writing Data in Text Format\n",
    "pandas features a number of functions for reading tabular data as a DataFrame object. __read_csv__ and __read_table__ are likely the most frequently used:"
   ]
  },
  {
   "cell_type": "markdown",
   "metadata": {},
   "source": [
    "Parsing functions in pandas\n",
    "Function | Description\n",
    "----- | -----\n",
    "read_csv | Load delimited data from a file, URL, or file-like object; use comma as default delimiter\n",
    "read_table | Load delimited data from a file, URL, or file-like object; use tab('\\t') as default delimiter\n",
    "read_fwf | Read data in fixed-width column format (i.e., no delimiters)\n"
   ]
  },
  {
   "cell_type": "markdown",
   "metadata": {},
   "source": [
    "Start with a small comma-separated (CSV) text file:"
   ]
  },
  {
   "cell_type": "code",
   "execution_count": null,
   "metadata": {},
   "outputs": [],
   "source": [
    "df = pd.read_csv('examples/ex1.csv')\n",
    "df"
   ]
  },
  {
   "cell_type": "markdown",
   "metadata": {},
   "source": [
    "Can also use read_table and specify the delimiter:"
   ]
  },
  {
   "cell_type": "code",
   "execution_count": null,
   "metadata": {},
   "outputs": [],
   "source": [
    "pd.read_table('examples/ex1.csv', sep=',')"
   ]
  },
  {
   "cell_type": "markdown",
   "metadata": {},
   "source": [
    "A file will not always have a header row. We can either allow pandas to assign default column names, or specify names ourself:"
   ]
  },
  {
   "cell_type": "code",
   "execution_count": null,
   "metadata": {},
   "outputs": [],
   "source": [
    "pd.read_csv('examples/ex2.csv', header=None)"
   ]
  },
  {
   "cell_type": "code",
   "execution_count": null,
   "metadata": {},
   "outputs": [],
   "source": [
    "pd.read_csv('examples/ex2.csv', names=['a', 'b', 'c', 'd', 'message'])"
   ]
  },
  {
   "cell_type": "markdown",
   "metadata": {},
   "source": [
    "Suppose you want the _message_ column to be the index of th returned DataFrame. You can either indicate you want the column at index 4 or named 'message' using the __index_col__ argument:"
   ]
  },
  {
   "cell_type": "code",
   "execution_count": null,
   "metadata": {},
   "outputs": [],
   "source": [
    "names = ['a', 'b', 'c', 'd', 'message']\n",
    "pd.read_csv('examples/ex2.csv', names=names, index_col='message')"
   ]
  },
  {
   "cell_type": "markdown",
   "metadata": {},
   "source": [
    "In the event that you want to form a hierarchical index from multiple columns, pass a list of column numbers or names:"
   ]
  },
  {
   "cell_type": "code",
   "execution_count": null,
   "metadata": {},
   "outputs": [],
   "source": [
    "parsed = pd.read_csv('examples/csv_mindex.csv', index_col=['key1', 'key2'])\n",
    "parsed"
   ]
  },
  {
   "cell_type": "code",
   "execution_count": null,
   "metadata": {},
   "outputs": [],
   "source": [
    "parsed2 = pd.read_csv('examples/csv_mindex.csv', index_col=['key2', 'key1'])\n",
    "parsed2"
   ]
  },
  {
   "cell_type": "markdown",
   "metadata": {},
   "source": [
    "A table might not have a fixed delimiter, using whitespace or some other pattern to separate fields. Consider a text file:"
   ]
  },
  {
   "cell_type": "code",
   "execution_count": null,
   "metadata": {},
   "outputs": [],
   "source": [
    "list(open('pydata-book/examples/ex3.txt'))"
   ]
  },
  {
   "cell_type": "markdown",
   "metadata": {},
   "source": [
    "The fields here are separated by a variable amount of whitespace. In these cases, you can pass a regular expression as a delimiter for __read_table__. This can be expressed by the regular expression \\s+, so we have then:"
   ]
  },
  {
   "cell_type": "code",
   "execution_count": null,
   "metadata": {},
   "outputs": [],
   "source": [
    "result = pd.read_table('pydata-book/examples/ex3.txt', sep='\\s+')\n",
    "result"
   ]
  },
  {
   "cell_type": "markdown",
   "metadata": {},
   "source": [
<<<<<<< HEAD
    "# Ploting and Visulisation\n",
    "## pandas 透视表和交叉表：\n",
    " * 透视表：pivot table\n",
    " * 交叉表：\n",
    " \n",
    "下面从书中导入一组数据来举例练习："
   ]
  },
  {
   "cell_type": "code",
   "execution_count": 7,
   "metadata": {},
   "outputs": [
    {
     "data": {
      "text/html": [
       "<div>\n",
       "<style scoped>\n",
       "    .dataframe tbody tr th:only-of-type {\n",
       "        vertical-align: middle;\n",
       "    }\n",
       "\n",
       "    .dataframe tbody tr th {\n",
       "        vertical-align: top;\n",
       "    }\n",
       "\n",
       "    .dataframe thead th {\n",
       "        text-align: right;\n",
       "    }\n",
       "</style>\n",
       "<table border=\"1\" class=\"dataframe\">\n",
       "  <thead>\n",
       "    <tr style=\"text-align: right;\">\n",
       "      <th></th>\n",
       "      <th>total_bill</th>\n",
       "      <th>tip</th>\n",
       "      <th>smoker</th>\n",
       "      <th>day</th>\n",
       "      <th>time</th>\n",
       "      <th>size</th>\n",
       "    </tr>\n",
       "  </thead>\n",
       "  <tbody>\n",
       "    <tr>\n",
       "      <th>0</th>\n",
       "      <td>16.99</td>\n",
       "      <td>1.01</td>\n",
       "      <td>No</td>\n",
       "      <td>Sun</td>\n",
       "      <td>Dinner</td>\n",
       "      <td>2</td>\n",
       "    </tr>\n",
       "    <tr>\n",
       "      <th>1</th>\n",
       "      <td>10.34</td>\n",
       "      <td>1.66</td>\n",
       "      <td>No</td>\n",
       "      <td>Sun</td>\n",
       "      <td>Dinner</td>\n",
       "      <td>3</td>\n",
       "    </tr>\n",
       "    <tr>\n",
       "      <th>2</th>\n",
       "      <td>21.01</td>\n",
       "      <td>3.50</td>\n",
       "      <td>No</td>\n",
       "      <td>Sun</td>\n",
       "      <td>Dinner</td>\n",
       "      <td>3</td>\n",
       "    </tr>\n",
       "    <tr>\n",
       "      <th>3</th>\n",
       "      <td>23.68</td>\n",
       "      <td>3.31</td>\n",
       "      <td>No</td>\n",
       "      <td>Sun</td>\n",
       "      <td>Dinner</td>\n",
       "      <td>2</td>\n",
       "    </tr>\n",
       "    <tr>\n",
       "      <th>4</th>\n",
       "      <td>24.59</td>\n",
       "      <td>3.61</td>\n",
       "      <td>No</td>\n",
       "      <td>Sun</td>\n",
       "      <td>Dinner</td>\n",
       "      <td>4</td>\n",
       "    </tr>\n",
       "  </tbody>\n",
       "</table>\n",
       "</div>"
      ],
      "text/plain": [
       "   total_bill   tip smoker  day    time  size\n",
       "0       16.99  1.01     No  Sun  Dinner     2\n",
       "1       10.34  1.66     No  Sun  Dinner     3\n",
       "2       21.01  3.50     No  Sun  Dinner     3\n",
       "3       23.68  3.31     No  Sun  Dinner     2\n",
       "4       24.59  3.61     No  Sun  Dinner     4"
      ]
     },
     "execution_count": 7,
     "metadata": {},
     "output_type": "execute_result"
    }
   ],
   "source": [
    "tips = pd.read_csv('pydata-book/examples/tips.csv')\n",
    "tips.head()"
   ]
  },
  {
   "cell_type": "markdown",
   "metadata": {},
   "source": [
    "交叉表："
   ]
  },
  {
   "cell_type": "code",
   "execution_count": 9,
   "metadata": {},
   "outputs": [
    {
     "data": {
      "text/html": [
       "<div>\n",
       "<style scoped>\n",
       "    .dataframe tbody tr th:only-of-type {\n",
       "        vertical-align: middle;\n",
       "    }\n",
       "\n",
       "    .dataframe tbody tr th {\n",
       "        vertical-align: top;\n",
       "    }\n",
       "\n",
       "    .dataframe thead th {\n",
       "        text-align: right;\n",
       "    }\n",
       "</style>\n",
       "<table border=\"1\" class=\"dataframe\">\n",
       "  <thead>\n",
       "    <tr style=\"text-align: right;\">\n",
       "      <th>size</th>\n",
       "      <th>1</th>\n",
       "      <th>2</th>\n",
       "      <th>3</th>\n",
       "      <th>4</th>\n",
       "      <th>5</th>\n",
       "      <th>6</th>\n",
       "    </tr>\n",
       "    <tr>\n",
       "      <th>day</th>\n",
       "      <th></th>\n",
       "      <th></th>\n",
       "      <th></th>\n",
       "      <th></th>\n",
       "      <th></th>\n",
       "      <th></th>\n",
       "    </tr>\n",
       "  </thead>\n",
       "  <tbody>\n",
       "    <tr>\n",
       "      <th>Fri</th>\n",
       "      <td>1</td>\n",
       "      <td>16</td>\n",
       "      <td>1</td>\n",
       "      <td>1</td>\n",
       "      <td>0</td>\n",
       "      <td>0</td>\n",
       "    </tr>\n",
       "    <tr>\n",
       "      <th>Sat</th>\n",
       "      <td>2</td>\n",
       "      <td>53</td>\n",
       "      <td>18</td>\n",
       "      <td>13</td>\n",
       "      <td>1</td>\n",
       "      <td>0</td>\n",
       "    </tr>\n",
       "    <tr>\n",
       "      <th>Sun</th>\n",
       "      <td>0</td>\n",
       "      <td>39</td>\n",
       "      <td>15</td>\n",
       "      <td>18</td>\n",
       "      <td>3</td>\n",
       "      <td>1</td>\n",
       "    </tr>\n",
       "    <tr>\n",
       "      <th>Thur</th>\n",
       "      <td>1</td>\n",
       "      <td>48</td>\n",
       "      <td>4</td>\n",
       "      <td>5</td>\n",
       "      <td>1</td>\n",
       "      <td>3</td>\n",
       "    </tr>\n",
       "  </tbody>\n",
       "</table>\n",
       "</div>"
      ],
      "text/plain": [
       "size  1   2   3   4  5  6\n",
       "day                      \n",
       "Fri   1  16   1   1  0  0\n",
       "Sat   2  53  18  13  1  0\n",
       "Sun   0  39  15  18  3  1\n",
       "Thur  1  48   4   5  1  3"
      ]
     },
     "execution_count": 9,
     "metadata": {},
     "output_type": "execute_result"
    }
   ],
   "source": [
    "party_counts = pd.crosstab(tips['day'], tips['size'])\n",
    "party_counts"
   ]
  },
  {
   "cell_type": "markdown",
   "metadata": {},
   "source": [
    "1人 和 6人的聚会比较少,把他们的数据忽略掉"
   ]
  },
  {
   "cell_type": "code",
   "execution_count": 11,
   "metadata": {},
   "outputs": [
    {
     "data": {
      "text/html": [
       "<div>\n",
       "<style scoped>\n",
       "    .dataframe tbody tr th:only-of-type {\n",
       "        vertical-align: middle;\n",
       "    }\n",
       "\n",
       "    .dataframe tbody tr th {\n",
       "        vertical-align: top;\n",
       "    }\n",
       "\n",
       "    .dataframe thead th {\n",
       "        text-align: right;\n",
       "    }\n",
       "</style>\n",
       "<table border=\"1\" class=\"dataframe\">\n",
       "  <thead>\n",
       "    <tr style=\"text-align: right;\">\n",
       "      <th>size</th>\n",
       "      <th>2</th>\n",
       "      <th>3</th>\n",
       "      <th>4</th>\n",
       "      <th>5</th>\n",
       "    </tr>\n",
       "    <tr>\n",
       "      <th>day</th>\n",
       "      <th></th>\n",
       "      <th></th>\n",
       "      <th></th>\n",
       "      <th></th>\n",
       "    </tr>\n",
       "  </thead>\n",
       "  <tbody>\n",
       "    <tr>\n",
       "      <th>Fri</th>\n",
       "      <td>16</td>\n",
       "      <td>1</td>\n",
       "      <td>1</td>\n",
       "      <td>0</td>\n",
       "    </tr>\n",
       "    <tr>\n",
       "      <th>Sat</th>\n",
       "      <td>53</td>\n",
       "      <td>18</td>\n",
       "      <td>13</td>\n",
       "      <td>1</td>\n",
       "    </tr>\n",
       "    <tr>\n",
       "      <th>Sun</th>\n",
       "      <td>39</td>\n",
       "      <td>15</td>\n",
       "      <td>18</td>\n",
       "      <td>3</td>\n",
       "    </tr>\n",
       "    <tr>\n",
       "      <th>Thur</th>\n",
       "      <td>48</td>\n",
       "      <td>4</td>\n",
       "      <td>5</td>\n",
       "      <td>1</td>\n",
       "    </tr>\n",
       "  </tbody>\n",
       "</table>\n",
       "</div>"
      ],
      "text/plain": [
       "size   2   3   4  5\n",
       "day                \n",
       "Fri   16   1   1  0\n",
       "Sat   53  18  13  1\n",
       "Sun   39  15  18  3\n",
       "Thur  48   4   5  1"
      ]
     },
     "execution_count": 11,
     "metadata": {},
     "output_type": "execute_result"
    }
   ],
   "source": [
    "party_counts = party_counts.loc[:,2:5]\n",
    "party_counts"
   ]
  },
  {
   "cell_type": "markdown",
   "metadata": {},
   "source": [
    "Then normalize so each __row__ sums to 1, and plot."
   ]
  },
  {
   "cell_type": "code",
   "execution_count": 17,
   "metadata": {},
   "outputs": [
    {
     "data": {
      "text/html": [
       "<div>\n",
       "<style scoped>\n",
       "    .dataframe tbody tr th:only-of-type {\n",
       "        vertical-align: middle;\n",
       "    }\n",
       "\n",
       "    .dataframe tbody tr th {\n",
       "        vertical-align: top;\n",
       "    }\n",
       "\n",
       "    .dataframe thead th {\n",
       "        text-align: right;\n",
       "    }\n",
       "</style>\n",
       "<table border=\"1\" class=\"dataframe\">\n",
       "  <thead>\n",
       "    <tr style=\"text-align: right;\">\n",
       "      <th>size</th>\n",
       "      <th>2</th>\n",
       "      <th>3</th>\n",
       "      <th>4</th>\n",
       "      <th>5</th>\n",
       "    </tr>\n",
       "    <tr>\n",
       "      <th>day</th>\n",
       "      <th></th>\n",
       "      <th></th>\n",
       "      <th></th>\n",
       "      <th></th>\n",
       "    </tr>\n",
       "  </thead>\n",
       "  <tbody>\n",
       "    <tr>\n",
       "      <th>Fri</th>\n",
       "      <td>0.888889</td>\n",
       "      <td>0.055556</td>\n",
       "      <td>0.055556</td>\n",
       "      <td>0.000000</td>\n",
       "    </tr>\n",
       "    <tr>\n",
       "      <th>Sat</th>\n",
       "      <td>0.623529</td>\n",
       "      <td>0.211765</td>\n",
       "      <td>0.152941</td>\n",
       "      <td>0.011765</td>\n",
       "    </tr>\n",
       "    <tr>\n",
       "      <th>Sun</th>\n",
       "      <td>0.520000</td>\n",
       "      <td>0.200000</td>\n",
       "      <td>0.240000</td>\n",
       "      <td>0.040000</td>\n",
       "    </tr>\n",
       "    <tr>\n",
       "      <th>Thur</th>\n",
       "      <td>0.827586</td>\n",
       "      <td>0.068966</td>\n",
       "      <td>0.086207</td>\n",
       "      <td>0.017241</td>\n",
       "    </tr>\n",
       "  </tbody>\n",
       "</table>\n",
       "</div>"
      ],
      "text/plain": [
       "size         2         3         4         5\n",
       "day                                         \n",
       "Fri   0.888889  0.055556  0.055556  0.000000\n",
       "Sat   0.623529  0.211765  0.152941  0.011765\n",
       "Sun   0.520000  0.200000  0.240000  0.040000\n",
       "Thur  0.827586  0.068966  0.086207  0.017241"
      ]
     },
     "execution_count": 17,
     "metadata": {},
     "output_type": "execute_result"
    }
   ],
   "source": [
    "party_pcts = party_counts.div(party_counts.sum(1), axis=0)    # axis=0 是把sum(1)的结果作为一列，沿column作除法。\n",
    "party_pcts"
   ]
  },
  {
   "cell_type": "code",
   "execution_count": 23,
   "metadata": {},
   "outputs": [
    {
     "data": {
      "text/plain": [
       "size\n",
       "2    156\n",
       "3     38\n",
       "4     37\n",
       "5      5\n",
       "dtype: int64"
      ]
     },
     "execution_count": 23,
     "metadata": {},
     "output_type": "execute_result"
    }
   ],
   "source": [
    "party_counts.sum(0)   #沿着column加 结果为一个row"
   ]
  },
  {
   "cell_type": "code",
   "execution_count": 22,
   "metadata": {},
   "outputs": [
    {
     "data": {
      "text/plain": [
       "day\n",
       "Fri     18\n",
       "Sat     85\n",
       "Sun     75\n",
       "Thur    58\n",
       "dtype: int64"
      ]
     },
     "execution_count": 22,
     "metadata": {},
     "output_type": "execute_result"
    }
   ],
   "source": [
    "party_counts.sum(1) #沿着row加，结果为一个column"
   ]
  },
  {
   "cell_type": "code",
   "execution_count": 25,
   "metadata": {},
   "outputs": [
    {
     "data": {
      "text/plain": [
       "<matplotlib.axes._subplots.AxesSubplot at 0x119993a90>"
      ]
     },
     "execution_count": 25,
     "metadata": {},
     "output_type": "execute_result"
    },
    {
     "data": {
      "image/png": "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\n",
      "text/plain": [
       "<Figure size 432x288 with 1 Axes>"
      ]
     },
     "metadata": {
      "needs_background": "light"
     },
     "output_type": "display_data"
    }
   ],
   "source": [
    "# fraction of party by size each day\n",
    "party_pcts.plot.bar()"
   ]
  },
  {
   "cell_type": "code",
   "execution_count": 28,
   "metadata": {},
   "outputs": [
    {
     "data": {
      "text/html": [
       "<div>\n",
       "<style scoped>\n",
       "    .dataframe tbody tr th:only-of-type {\n",
       "        vertical-align: middle;\n",
       "    }\n",
       "\n",
       "    .dataframe tbody tr th {\n",
       "        vertical-align: top;\n",
       "    }\n",
       "\n",
       "    .dataframe thead th {\n",
       "        text-align: right;\n",
       "    }\n",
       "</style>\n",
       "<table border=\"1\" class=\"dataframe\">\n",
       "  <thead>\n",
       "    <tr style=\"text-align: right;\">\n",
       "      <th></th>\n",
       "      <th>total_bill</th>\n",
       "      <th>tip</th>\n",
       "      <th>smoker</th>\n",
       "      <th>day</th>\n",
       "      <th>time</th>\n",
       "      <th>size</th>\n",
       "      <th>tip_pcts</th>\n",
       "      <th>tip_pct</th>\n",
       "    </tr>\n",
       "  </thead>\n",
       "  <tbody>\n",
       "    <tr>\n",
       "      <th>0</th>\n",
       "      <td>16.99</td>\n",
       "      <td>1.01</td>\n",
       "      <td>No</td>\n",
       "      <td>Sun</td>\n",
       "      <td>Dinner</td>\n",
       "      <td>2</td>\n",
       "      <td>0.063204</td>\n",
       "      <td>0.063204</td>\n",
       "    </tr>\n",
       "    <tr>\n",
       "      <th>1</th>\n",
       "      <td>10.34</td>\n",
       "      <td>1.66</td>\n",
       "      <td>No</td>\n",
       "      <td>Sun</td>\n",
       "      <td>Dinner</td>\n",
       "      <td>3</td>\n",
       "      <td>0.191244</td>\n",
       "      <td>0.191244</td>\n",
       "    </tr>\n",
       "    <tr>\n",
       "      <th>2</th>\n",
       "      <td>21.01</td>\n",
       "      <td>3.50</td>\n",
       "      <td>No</td>\n",
       "      <td>Sun</td>\n",
       "      <td>Dinner</td>\n",
       "      <td>3</td>\n",
       "      <td>0.199886</td>\n",
       "      <td>0.199886</td>\n",
       "    </tr>\n",
       "    <tr>\n",
       "      <th>3</th>\n",
       "      <td>23.68</td>\n",
       "      <td>3.31</td>\n",
       "      <td>No</td>\n",
       "      <td>Sun</td>\n",
       "      <td>Dinner</td>\n",
       "      <td>2</td>\n",
       "      <td>0.162494</td>\n",
       "      <td>0.162494</td>\n",
       "    </tr>\n",
       "    <tr>\n",
       "      <th>4</th>\n",
       "      <td>24.59</td>\n",
       "      <td>3.61</td>\n",
       "      <td>No</td>\n",
       "      <td>Sun</td>\n",
       "      <td>Dinner</td>\n",
       "      <td>4</td>\n",
       "      <td>0.172069</td>\n",
       "      <td>0.172069</td>\n",
       "    </tr>\n",
       "  </tbody>\n",
       "</table>\n",
       "</div>"
      ],
      "text/plain": [
       "   total_bill   tip smoker  day    time  size  tip_pcts   tip_pct\n",
       "0       16.99  1.01     No  Sun  Dinner     2  0.063204  0.063204\n",
       "1       10.34  1.66     No  Sun  Dinner     3  0.191244  0.191244\n",
       "2       21.01  3.50     No  Sun  Dinner     3  0.199886  0.199886\n",
       "3       23.68  3.31     No  Sun  Dinner     2  0.162494  0.162494\n",
       "4       24.59  3.61     No  Sun  Dinner     4  0.172069  0.172069"
      ]
     },
     "execution_count": 28,
     "metadata": {},
     "output_type": "execute_result"
    }
   ],
   "source": [
    "import seaborn as sns\n",
    "tips['tip_pct'] = tips['tip'] / (tips['total_bill'] - tips['tip'])\n",
    "tips.head()"
   ]
  },
  {
   "cell_type": "code",
   "execution_count": 32,
   "metadata": {},
   "outputs": [
    {
     "name": "stderr",
     "output_type": "stream",
     "text": [
      "/Users/jianbinliu/anaconda3/lib/python3.6/site-packages/scipy/stats/stats.py:1713: FutureWarning: Using a non-tuple sequence for multidimensional indexing is deprecated; use `arr[tuple(seq)]` instead of `arr[seq]`. In the future this will be interpreted as an array index, `arr[np.array(seq)]`, which will result either in an error or a different result.\n",
      "  return np.add.reduce(sorted[indexer] * weights, axis=axis) / sumval\n"
     ]
    },
    {
     "data": {
      "text/plain": [
       "<matplotlib.axes._subplots.AxesSubplot at 0x1a1bc47b70>"
      ]
     },
     "execution_count": 32,
     "metadata": {},
     "output_type": "execute_result"
    },
    {
     "data": {
      "image/png": "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\n",
      "text/plain": [
       "<Figure size 432x288 with 1 Axes>"
      ]
     },
     "metadata": {
      "needs_background": "light"
     },
     "output_type": "display_data"
    }
   ],
   "source": [
    "sns.barplot(x='tip_pct', y='day', data=tips, orient='h')"
   ]
  },
  {
   "cell_type": "markdown",
   "metadata": {},
   "source": [
    "split by an additional categorical value using hue"
   ]
  },
  {
   "cell_type": "code",
   "execution_count": 35,
   "metadata": {},
   "outputs": [
    {
     "name": "stderr",
     "output_type": "stream",
     "text": [
      "/Users/jianbinliu/anaconda3/lib/python3.6/site-packages/scipy/stats/stats.py:1713: FutureWarning: Using a non-tuple sequence for multidimensional indexing is deprecated; use `arr[tuple(seq)]` instead of `arr[seq]`. In the future this will be interpreted as an array index, `arr[np.array(seq)]`, which will result either in an error or a different result.\n",
      "  return np.add.reduce(sorted[indexer] * weights, axis=axis) / sumval\n"
     ]
    },
    {
     "data": {
      "text/plain": [
       "<matplotlib.axes._subplots.AxesSubplot at 0x1a1be68898>"
      ]
     },
     "execution_count": 35,
     "metadata": {},
     "output_type": "execute_result"
    },
    {
     "data": {
      "image/png": "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\n",
      "text/plain": [
       "<Figure size 432x288 with 1 Axes>"
      ]
     },
     "metadata": {},
     "output_type": "display_data"
    }
   ],
   "source": [
    "sns.set(style='whitegrid')\n",
    "sns.barplot(x='tip_pct', y='day', data=tips, orient='h', hue='time')"
=======
    "# Plotting and Visualization"
>>>>>>> 542f9a493fa9951c0563f1ec539698d0cce14df4
   ]
  },
  {
   "cell_type": "code",
   "execution_count": 33,
   "metadata": {},
   "outputs": [],
   "source": [
    "%matplotlib notebook\n",
    "import matplotlib.pyplot as plt"
   ]
  },
  {
   "cell_type": "markdown",
   "metadata": {},
   "source": [
    "Everything in matplot is organized in a hierarchy. \n",
    " * At the top hierarchy is the matplotlib \"State-machine environment\" which is provided by the matplotlib.pyplot module.\n",
    " * The next level down is the first level of the object-oriented interface, in which pyplot is used only for a few functions such as figure creation, and the user explicitly creates and keeps track of the figure and axes objects. At this level, the user uses pyplot to create figures, and through those figures, one or more axes objects can be created. These axes objects are then used for most plotting actions.\n",
    " * For even more control -- which is essential for things like embedding matplotlib plots in GUI applications -- the pyplot level may be dropped completely, "
   ]
  }
 ],
 "metadata": {
  "kernelspec": {
   "display_name": "Python 3",
   "language": "python",
   "name": "python3"
  },
  "language_info": {
   "codemirror_mode": {
    "name": "ipython",
    "version": 3
   },
   "file_extension": ".py",
   "mimetype": "text/x-python",
   "name": "python",
   "nbconvert_exporter": "python",
   "pygments_lexer": "ipython3",
   "version": "3.6.6"
  }
 },
 "nbformat": 4,
 "nbformat_minor": 2
}
